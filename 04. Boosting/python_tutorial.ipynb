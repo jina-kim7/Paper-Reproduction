{
 "cells": [
  {
   "cell_type": "markdown",
   "metadata": {},
   "source": [
    "# CatBoost Tutorial"
   ]
  },
  {
   "cell_type": "markdown",
   "metadata": {},
   "source": [
    "# 0. CatBoost Installation"
   ]
  },
  {
   "cell_type": "code",
   "execution_count": 3,
   "metadata": {},
   "outputs": [],
   "source": [
    "#!pip install catboost\n",
    "#!pip install ipywidgets\n",
    "#!jupyter nbextension enable --py widgetsnbextension"
   ]
  },
  {
   "cell_type": "markdown",
   "metadata": {},
   "source": [
    "## 0-1. Data Loading\n",
    "간단한 예제로 titanic dataset에 대해 catboost를 적용해보겠습니다. "
   ]
  },
  {
   "cell_type": "code",
   "execution_count": 1,
   "metadata": {},
   "outputs": [
    {
     "data": {
      "text/html": [
       "<div>\n",
       "<style scoped>\n",
       "    .dataframe tbody tr th:only-of-type {\n",
       "        vertical-align: middle;\n",
       "    }\n",
       "\n",
       "    .dataframe tbody tr th {\n",
       "        vertical-align: top;\n",
       "    }\n",
       "\n",
       "    .dataframe thead th {\n",
       "        text-align: right;\n",
       "    }\n",
       "</style>\n",
       "<table border=\"1\" class=\"dataframe\">\n",
       "  <thead>\n",
       "    <tr style=\"text-align: right;\">\n",
       "      <th></th>\n",
       "      <th>PassengerId</th>\n",
       "      <th>Survived</th>\n",
       "      <th>Pclass</th>\n",
       "      <th>Name</th>\n",
       "      <th>Sex</th>\n",
       "      <th>Age</th>\n",
       "      <th>SibSp</th>\n",
       "      <th>Parch</th>\n",
       "      <th>Ticket</th>\n",
       "      <th>Fare</th>\n",
       "      <th>Cabin</th>\n",
       "      <th>Embarked</th>\n",
       "    </tr>\n",
       "  </thead>\n",
       "  <tbody>\n",
       "    <tr>\n",
       "      <th>0</th>\n",
       "      <td>1</td>\n",
       "      <td>0</td>\n",
       "      <td>3</td>\n",
       "      <td>Braund, Mr. Owen Harris</td>\n",
       "      <td>male</td>\n",
       "      <td>22.0</td>\n",
       "      <td>1</td>\n",
       "      <td>0</td>\n",
       "      <td>A/5 21171</td>\n",
       "      <td>7.2500</td>\n",
       "      <td>NaN</td>\n",
       "      <td>S</td>\n",
       "    </tr>\n",
       "    <tr>\n",
       "      <th>1</th>\n",
       "      <td>2</td>\n",
       "      <td>1</td>\n",
       "      <td>1</td>\n",
       "      <td>Cumings, Mrs. John Bradley (Florence Briggs Th...</td>\n",
       "      <td>female</td>\n",
       "      <td>38.0</td>\n",
       "      <td>1</td>\n",
       "      <td>0</td>\n",
       "      <td>PC 17599</td>\n",
       "      <td>71.2833</td>\n",
       "      <td>C85</td>\n",
       "      <td>C</td>\n",
       "    </tr>\n",
       "    <tr>\n",
       "      <th>2</th>\n",
       "      <td>3</td>\n",
       "      <td>1</td>\n",
       "      <td>3</td>\n",
       "      <td>Heikkinen, Miss. Laina</td>\n",
       "      <td>female</td>\n",
       "      <td>26.0</td>\n",
       "      <td>0</td>\n",
       "      <td>0</td>\n",
       "      <td>STON/O2. 3101282</td>\n",
       "      <td>7.9250</td>\n",
       "      <td>NaN</td>\n",
       "      <td>S</td>\n",
       "    </tr>\n",
       "    <tr>\n",
       "      <th>3</th>\n",
       "      <td>4</td>\n",
       "      <td>1</td>\n",
       "      <td>1</td>\n",
       "      <td>Futrelle, Mrs. Jacques Heath (Lily May Peel)</td>\n",
       "      <td>female</td>\n",
       "      <td>35.0</td>\n",
       "      <td>1</td>\n",
       "      <td>0</td>\n",
       "      <td>113803</td>\n",
       "      <td>53.1000</td>\n",
       "      <td>C123</td>\n",
       "      <td>S</td>\n",
       "    </tr>\n",
       "    <tr>\n",
       "      <th>4</th>\n",
       "      <td>5</td>\n",
       "      <td>0</td>\n",
       "      <td>3</td>\n",
       "      <td>Allen, Mr. William Henry</td>\n",
       "      <td>male</td>\n",
       "      <td>35.0</td>\n",
       "      <td>0</td>\n",
       "      <td>0</td>\n",
       "      <td>373450</td>\n",
       "      <td>8.0500</td>\n",
       "      <td>NaN</td>\n",
       "      <td>S</td>\n",
       "    </tr>\n",
       "  </tbody>\n",
       "</table>\n",
       "</div>"
      ],
      "text/plain": [
       "   PassengerId  Survived  Pclass  \\\n",
       "0            1         0       3   \n",
       "1            2         1       1   \n",
       "2            3         1       3   \n",
       "3            4         1       1   \n",
       "4            5         0       3   \n",
       "\n",
       "                                                Name     Sex   Age  SibSp  \\\n",
       "0                            Braund, Mr. Owen Harris    male  22.0      1   \n",
       "1  Cumings, Mrs. John Bradley (Florence Briggs Th...  female  38.0      1   \n",
       "2                             Heikkinen, Miss. Laina  female  26.0      0   \n",
       "3       Futrelle, Mrs. Jacques Heath (Lily May Peel)  female  35.0      1   \n",
       "4                           Allen, Mr. William Henry    male  35.0      0   \n",
       "\n",
       "   Parch            Ticket     Fare Cabin Embarked  \n",
       "0      0         A/5 21171   7.2500   NaN        S  \n",
       "1      0          PC 17599  71.2833   C85        C  \n",
       "2      0  STON/O2. 3101282   7.9250   NaN        S  \n",
       "3      0            113803  53.1000  C123        S  \n",
       "4      0            373450   8.0500   NaN        S  "
      ]
     },
     "execution_count": 1,
     "metadata": {},
     "output_type": "execute_result"
    }
   ],
   "source": [
    "from catboost.datasets import titanic\n",
    "import numpy as np\n",
    "\n",
    "train_df, test_df = titanic()\n",
    "\n",
    "train_df.head()"
   ]
  },
  {
   "cell_type": "markdown",
   "metadata": {},
   "source": [
    "### Null 값 check"
   ]
  },
  {
   "cell_type": "code",
   "execution_count": 2,
   "metadata": {},
   "outputs": [
    {
     "data": {
      "text/plain": [
       "Age         177\n",
       "Cabin       687\n",
       "Embarked      2\n",
       "dtype: int64"
      ]
     },
     "execution_count": 2,
     "metadata": {},
     "output_type": "execute_result"
    }
   ],
   "source": [
    "null_value_stats = train_df.isnull().sum(axis=0)\n",
    "null_value_stats[null_value_stats != 0]"
   ]
  },
  {
   "cell_type": "markdown",
   "metadata": {},
   "source": [
    "missing value였던 instance를 구분하기 위해서 아주 작은 값을 할당해주도록 하겠습니다. "
   ]
  },
  {
   "cell_type": "code",
   "execution_count": 3,
   "metadata": {},
   "outputs": [],
   "source": [
    "train_df.fillna(-999, inplace=True)\n",
    "test_df.fillna(-999, inplace=True)"
   ]
  },
  {
   "cell_type": "markdown",
   "metadata": {},
   "source": [
    "input variable과 target variable을 나눠줍니다. "
   ]
  },
  {
   "cell_type": "code",
   "execution_count": 4,
   "metadata": {},
   "outputs": [],
   "source": [
    "X = train_df.drop('Survived', axis=1)\n",
    "y = train_df.Survived"
   ]
  },
  {
   "cell_type": "markdown",
   "metadata": {},
   "source": [
    "numeric을 제외한 cetegorical feature나 string feature는 catboost 내부에서 자동으로 categorical feature로 처리하여 ordered boosting을 수행합니다. categorical feature를 따로 저장만 해주면됩니다. "
   ]
  },
  {
   "cell_type": "code",
   "execution_count": 5,
   "metadata": {},
   "outputs": [
    {
     "name": "stdout",
     "output_type": "stream",
     "text": [
      "PassengerId      int64\n",
      "Pclass           int64\n",
      "Name            object\n",
      "Sex             object\n",
      "Age            float64\n",
      "SibSp            int64\n",
      "Parch            int64\n",
      "Ticket          object\n",
      "Fare           float64\n",
      "Cabin           object\n",
      "Embarked        object\n",
      "dtype: object\n",
      "Index(['PassengerId', 'Pclass', 'Name', 'Sex', 'Age', 'SibSp', 'Parch',\n",
      "       'Ticket', 'Fare', 'Cabin', 'Embarked'],\n",
      "      dtype='object')\n"
     ]
    },
    {
     "data": {
      "text/plain": [
       "array([ 0,  1,  2,  3,  5,  6,  7,  9, 10], dtype=int64)"
      ]
     },
     "execution_count": 5,
     "metadata": {},
     "output_type": "execute_result"
    }
   ],
   "source": [
    "print(X.dtypes)\n",
    "categorical_features_indices = np.where(X.dtypes != np.float)[0]\n",
    "print(X.columns)\n",
    "categorical_features_indices"
   ]
  },
  {
   "cell_type": "markdown",
   "metadata": {},
   "source": [
    "### Data Splitting\n",
    "train:validation = 3:1"
   ]
  },
  {
   "cell_type": "code",
   "execution_count": 6,
   "metadata": {},
   "outputs": [],
   "source": [
    "from sklearn.model_selection import train_test_split\n",
    "\n",
    "X_train, X_validation, y_train, y_validation = train_test_split(X, y, train_size=0.75, random_state=923)\n",
    "X_test = test_df"
   ]
  },
  {
   "cell_type": "markdown",
   "metadata": {},
   "source": [
    "## 1. Modeling CatBoost"
   ]
  },
  {
   "cell_type": "markdown",
   "metadata": {},
   "source": [
    "이제 제공된 CatBoost library를 사용하여 Catboost Model을 만들어보도록 하겠습니다. "
   ]
  },
  {
   "cell_type": "code",
   "execution_count": 7,
   "metadata": {},
   "outputs": [],
   "source": [
    "from catboost import CatBoostClassifier, Pool, cv\n",
    "from sklearn.metrics import accuracy_score"
   ]
  },
  {
   "cell_type": "markdown",
   "metadata": {},
   "source": [
    "### Training "
   ]
  },
  {
   "cell_type": "markdown",
   "metadata": {},
   "source": [
    "Accuracy 기준으로 이를 최소화 하는 방향으로 학습하도록 하겠습니다. "
   ]
  },
  {
   "cell_type": "code",
   "execution_count": 73,
   "metadata": {},
   "outputs": [],
   "source": [
    "model = CatBoostClassifier(\n",
    "    custom_loss=['Accuracy'],\n",
    "    random_seed=923,\n",
    "    logging_level='Silent'\n",
    ")"
   ]
  },
  {
   "cell_type": "markdown",
   "metadata": {},
   "source": [
    "model을 fit 시킬 때, cat_features에 앞서 저장해둔 categorical feature의 index를 지정해줍니다. 이렇게 지정해준 categorical feature에 대해 ordered TS를 계산하여 numerical value로 치환될 것 입니다. "
   ]
  },
  {
   "cell_type": "code",
   "execution_count": 74,
   "metadata": {
    "scrolled": true
   },
   "outputs": [
    {
     "name": "stdout",
     "output_type": "stream",
     "text": [
      "Learning rate set to 0.028683\n",
      "0:\tlearn: 0.6739884\ttest: 0.6779887\tbest: 0.6779887 (0)\ttotal: 24.9ms\tremaining: 24.9s\n",
      "1:\tlearn: 0.6575283\ttest: 0.6652014\tbest: 0.6652014 (1)\ttotal: 52.7ms\tremaining: 26.3s\n",
      "2:\tlearn: 0.6414082\ttest: 0.6514773\tbest: 0.6514773 (2)\ttotal: 68.4ms\tremaining: 22.7s\n",
      "3:\tlearn: 0.6272018\ttest: 0.6403541\tbest: 0.6403541 (3)\ttotal: 70.6ms\tremaining: 17.6s\n",
      "4:\tlearn: 0.6112110\ttest: 0.6268848\tbest: 0.6268848 (4)\ttotal: 84.5ms\tremaining: 16.8s\n",
      "5:\tlearn: 0.5967523\ttest: 0.6160295\tbest: 0.6160295 (5)\ttotal: 99.1ms\tremaining: 16.4s\n",
      "6:\tlearn: 0.5836431\ttest: 0.6065507\tbest: 0.6065507 (6)\ttotal: 112ms\tremaining: 15.8s\n",
      "7:\tlearn: 0.5718567\ttest: 0.5983032\tbest: 0.5983032 (7)\ttotal: 130ms\tremaining: 16.1s\n",
      "8:\tlearn: 0.5635820\ttest: 0.5926517\tbest: 0.5926517 (8)\ttotal: 139ms\tremaining: 15.3s\n",
      "9:\tlearn: 0.5530857\ttest: 0.5848741\tbest: 0.5848741 (9)\ttotal: 151ms\tremaining: 14.9s\n",
      "10:\tlearn: 0.5436174\ttest: 0.5775056\tbest: 0.5775056 (10)\ttotal: 163ms\tremaining: 14.7s\n",
      "11:\tlearn: 0.5355923\ttest: 0.5719165\tbest: 0.5719165 (11)\ttotal: 179ms\tremaining: 14.7s\n",
      "12:\tlearn: 0.5271893\ttest: 0.5663937\tbest: 0.5663937 (12)\ttotal: 191ms\tremaining: 14.5s\n",
      "13:\tlearn: 0.5184387\ttest: 0.5602291\tbest: 0.5602291 (13)\ttotal: 203ms\tremaining: 14.3s\n",
      "14:\tlearn: 0.5116278\ttest: 0.5556304\tbest: 0.5556304 (14)\ttotal: 208ms\tremaining: 13.7s\n",
      "15:\tlearn: 0.5036163\ttest: 0.5510135\tbest: 0.5510135 (15)\ttotal: 212ms\tremaining: 13s\n",
      "16:\tlearn: 0.4996386\ttest: 0.5488469\tbest: 0.5488469 (16)\ttotal: 214ms\tremaining: 12.3s\n",
      "17:\tlearn: 0.4953446\ttest: 0.5468155\tbest: 0.5468155 (17)\ttotal: 218ms\tremaining: 11.9s\n",
      "18:\tlearn: 0.4891079\ttest: 0.5424298\tbest: 0.5424298 (18)\ttotal: 237ms\tremaining: 12.2s\n",
      "19:\tlearn: 0.4822013\ttest: 0.5378271\tbest: 0.5378271 (19)\ttotal: 255ms\tremaining: 12.5s\n",
      "20:\tlearn: 0.4778470\ttest: 0.5348242\tbest: 0.5348242 (20)\ttotal: 258ms\tremaining: 12s\n",
      "21:\tlearn: 0.4725941\ttest: 0.5315738\tbest: 0.5315738 (21)\ttotal: 273ms\tremaining: 12.1s\n",
      "22:\tlearn: 0.4683163\ttest: 0.5295189\tbest: 0.5295189 (22)\ttotal: 285ms\tremaining: 12.1s\n",
      "23:\tlearn: 0.4631789\ttest: 0.5267935\tbest: 0.5267935 (23)\ttotal: 297ms\tremaining: 12.1s\n",
      "24:\tlearn: 0.4573297\ttest: 0.5228940\tbest: 0.5228940 (24)\ttotal: 312ms\tremaining: 12.2s\n",
      "25:\tlearn: 0.4534297\ttest: 0.5208688\tbest: 0.5208688 (25)\ttotal: 327ms\tremaining: 12.3s\n",
      "26:\tlearn: 0.4499584\ttest: 0.5189594\tbest: 0.5189594 (26)\ttotal: 342ms\tremaining: 12.3s\n",
      "27:\tlearn: 0.4462768\ttest: 0.5171451\tbest: 0.5171451 (27)\ttotal: 352ms\tremaining: 12.2s\n",
      "28:\tlearn: 0.4437410\ttest: 0.5154843\tbest: 0.5154843 (28)\ttotal: 358ms\tremaining: 12s\n",
      "29:\tlearn: 0.4395577\ttest: 0.5132490\tbest: 0.5132490 (29)\ttotal: 367ms\tremaining: 11.9s\n",
      "30:\tlearn: 0.4363672\ttest: 0.5119065\tbest: 0.5119065 (30)\ttotal: 384ms\tremaining: 12s\n",
      "31:\tlearn: 0.4333527\ttest: 0.5107017\tbest: 0.5107017 (31)\ttotal: 393ms\tremaining: 11.9s\n",
      "32:\tlearn: 0.4298761\ttest: 0.5082360\tbest: 0.5082360 (32)\ttotal: 412ms\tremaining: 12.1s\n",
      "33:\tlearn: 0.4271476\ttest: 0.5064914\tbest: 0.5064914 (33)\ttotal: 430ms\tremaining: 12.2s\n",
      "34:\tlearn: 0.4246204\ttest: 0.5055858\tbest: 0.5055858 (34)\ttotal: 451ms\tremaining: 12.4s\n",
      "35:\tlearn: 0.4237583\ttest: 0.5051319\tbest: 0.5051319 (35)\ttotal: 456ms\tremaining: 12.2s\n",
      "36:\tlearn: 0.4223322\ttest: 0.5045209\tbest: 0.5045209 (36)\ttotal: 461ms\tremaining: 12s\n",
      "37:\tlearn: 0.4194110\ttest: 0.5029061\tbest: 0.5029061 (37)\ttotal: 474ms\tremaining: 12s\n",
      "38:\tlearn: 0.4169461\ttest: 0.5019399\tbest: 0.5019399 (38)\ttotal: 490ms\tremaining: 12.1s\n",
      "39:\tlearn: 0.4144708\ttest: 0.5017169\tbest: 0.5017169 (39)\ttotal: 507ms\tremaining: 12.2s\n",
      "40:\tlearn: 0.4123648\ttest: 0.5012633\tbest: 0.5012633 (40)\ttotal: 513ms\tremaining: 12s\n",
      "41:\tlearn: 0.4105250\ttest: 0.5011325\tbest: 0.5011325 (41)\ttotal: 525ms\tremaining: 12s\n",
      "42:\tlearn: 0.4084761\ttest: 0.5001522\tbest: 0.5001522 (42)\ttotal: 541ms\tremaining: 12.1s\n",
      "43:\tlearn: 0.4059470\ttest: 0.4993419\tbest: 0.4993419 (43)\ttotal: 556ms\tremaining: 12.1s\n",
      "44:\tlearn: 0.4041126\ttest: 0.4984657\tbest: 0.4984657 (44)\ttotal: 566ms\tremaining: 12s\n",
      "45:\tlearn: 0.4028411\ttest: 0.4976584\tbest: 0.4976584 (45)\ttotal: 570ms\tremaining: 11.8s\n",
      "46:\tlearn: 0.4004506\ttest: 0.4964749\tbest: 0.4964749 (46)\ttotal: 583ms\tremaining: 11.8s\n",
      "47:\tlearn: 0.3988590\ttest: 0.4951914\tbest: 0.4951914 (47)\ttotal: 605ms\tremaining: 12s\n",
      "48:\tlearn: 0.3962261\ttest: 0.4946373\tbest: 0.4946373 (48)\ttotal: 621ms\tremaining: 12.1s\n",
      "49:\tlearn: 0.3935404\ttest: 0.4927425\tbest: 0.4927425 (49)\ttotal: 639ms\tremaining: 12.1s\n",
      "50:\tlearn: 0.3932557\ttest: 0.4925272\tbest: 0.4925272 (50)\ttotal: 641ms\tremaining: 11.9s\n",
      "51:\tlearn: 0.3915661\ttest: 0.4908078\tbest: 0.4908078 (51)\ttotal: 655ms\tremaining: 11.9s\n",
      "52:\tlearn: 0.3900829\ttest: 0.4891052\tbest: 0.4891052 (52)\ttotal: 668ms\tremaining: 11.9s\n",
      "53:\tlearn: 0.3881805\ttest: 0.4881901\tbest: 0.4881901 (53)\ttotal: 675ms\tremaining: 11.8s\n",
      "54:\tlearn: 0.3859059\ttest: 0.4869305\tbest: 0.4869305 (54)\ttotal: 687ms\tremaining: 11.8s\n",
      "55:\tlearn: 0.3831938\ttest: 0.4859017\tbest: 0.4859017 (55)\ttotal: 705ms\tremaining: 11.9s\n",
      "56:\tlearn: 0.3815653\ttest: 0.4851958\tbest: 0.4851958 (56)\ttotal: 717ms\tremaining: 11.9s\n",
      "57:\tlearn: 0.3797887\ttest: 0.4841910\tbest: 0.4841910 (57)\ttotal: 732ms\tremaining: 11.9s\n",
      "58:\tlearn: 0.3786811\ttest: 0.4833998\tbest: 0.4833998 (58)\ttotal: 744ms\tremaining: 11.9s\n",
      "59:\tlearn: 0.3782141\ttest: 0.4828499\tbest: 0.4828499 (59)\ttotal: 754ms\tremaining: 11.8s\n",
      "60:\tlearn: 0.3771115\ttest: 0.4827061\tbest: 0.4827061 (60)\ttotal: 771ms\tremaining: 11.9s\n",
      "61:\tlearn: 0.3768216\ttest: 0.4828670\tbest: 0.4827061 (60)\ttotal: 773ms\tremaining: 11.7s\n",
      "62:\tlearn: 0.3758123\ttest: 0.4823616\tbest: 0.4823616 (62)\ttotal: 778ms\tremaining: 11.6s\n",
      "63:\tlearn: 0.3739812\ttest: 0.4818531\tbest: 0.4818531 (63)\ttotal: 795ms\tremaining: 11.6s\n",
      "64:\tlearn: 0.3725587\ttest: 0.4812377\tbest: 0.4812377 (64)\ttotal: 810ms\tremaining: 11.6s\n",
      "65:\tlearn: 0.3713663\ttest: 0.4809025\tbest: 0.4809025 (65)\ttotal: 829ms\tremaining: 11.7s\n",
      "66:\tlearn: 0.3707699\ttest: 0.4802198\tbest: 0.4802198 (66)\ttotal: 844ms\tremaining: 11.8s\n",
      "67:\tlearn: 0.3696181\ttest: 0.4794161\tbest: 0.4794161 (67)\ttotal: 856ms\tremaining: 11.7s\n",
      "68:\tlearn: 0.3684227\ttest: 0.4787869\tbest: 0.4787869 (68)\ttotal: 871ms\tremaining: 11.8s\n",
      "69:\tlearn: 0.3671271\ttest: 0.4784621\tbest: 0.4784621 (69)\ttotal: 878ms\tremaining: 11.7s\n",
      "70:\tlearn: 0.3670900\ttest: 0.4786442\tbest: 0.4784621 (69)\ttotal: 883ms\tremaining: 11.5s\n",
      "71:\tlearn: 0.3659429\ttest: 0.4785144\tbest: 0.4784621 (69)\ttotal: 901ms\tremaining: 11.6s\n",
      "72:\tlearn: 0.3659205\ttest: 0.4786510\tbest: 0.4784621 (69)\ttotal: 902ms\tremaining: 11.5s\n",
      "73:\tlearn: 0.3652129\ttest: 0.4784261\tbest: 0.4784261 (73)\ttotal: 917ms\tremaining: 11.5s\n",
      "74:\tlearn: 0.3637547\ttest: 0.4775177\tbest: 0.4775177 (74)\ttotal: 933ms\tremaining: 11.5s\n",
      "75:\tlearn: 0.3626563\ttest: 0.4766630\tbest: 0.4766630 (75)\ttotal: 946ms\tremaining: 11.5s\n",
      "76:\tlearn: 0.3619712\ttest: 0.4761856\tbest: 0.4761856 (76)\ttotal: 965ms\tremaining: 11.6s\n",
      "77:\tlearn: 0.3603011\ttest: 0.4758160\tbest: 0.4758160 (77)\ttotal: 983ms\tremaining: 11.6s\n",
      "78:\tlearn: 0.3597399\ttest: 0.4756710\tbest: 0.4756710 (78)\ttotal: 1s\tremaining: 11.7s\n",
      "79:\tlearn: 0.3582784\ttest: 0.4760099\tbest: 0.4756710 (78)\ttotal: 1.03s\tremaining: 11.9s\n",
      "80:\tlearn: 0.3574637\ttest: 0.4762465\tbest: 0.4756710 (78)\ttotal: 1.08s\tremaining: 12.3s\n",
      "81:\tlearn: 0.3566859\ttest: 0.4757612\tbest: 0.4756710 (78)\ttotal: 1.12s\tremaining: 12.6s\n",
      "82:\tlearn: 0.3563907\ttest: 0.4758390\tbest: 0.4756710 (78)\ttotal: 1.17s\tremaining: 12.9s\n",
      "83:\tlearn: 0.3560999\ttest: 0.4758999\tbest: 0.4756710 (78)\ttotal: 1.18s\tremaining: 12.9s\n",
      "84:\tlearn: 0.3553596\ttest: 0.4757017\tbest: 0.4756710 (78)\ttotal: 1.19s\tremaining: 12.9s\n",
      "85:\tlearn: 0.3542599\ttest: 0.4751801\tbest: 0.4751801 (85)\ttotal: 1.21s\tremaining: 12.9s\n",
      "86:\tlearn: 0.3536614\ttest: 0.4751943\tbest: 0.4751801 (85)\ttotal: 1.24s\tremaining: 13s\n",
      "87:\tlearn: 0.3533582\ttest: 0.4745004\tbest: 0.4745004 (87)\ttotal: 1.25s\tremaining: 13s\n",
      "88:\tlearn: 0.3515255\ttest: 0.4733813\tbest: 0.4733813 (88)\ttotal: 1.27s\tremaining: 13s\n",
      "89:\tlearn: 0.3505699\ttest: 0.4727341\tbest: 0.4727341 (89)\ttotal: 1.28s\tremaining: 13s\n",
      "90:\tlearn: 0.3494157\ttest: 0.4726647\tbest: 0.4726647 (90)\ttotal: 1.3s\tremaining: 13s\n",
      "91:\tlearn: 0.3493297\ttest: 0.4728075\tbest: 0.4726647 (90)\ttotal: 1.31s\tremaining: 12.9s\n",
      "92:\tlearn: 0.3485524\ttest: 0.4732679\tbest: 0.4726647 (90)\ttotal: 1.33s\tremaining: 12.9s\n",
      "93:\tlearn: 0.3480894\ttest: 0.4732731\tbest: 0.4726647 (90)\ttotal: 1.35s\tremaining: 13s\n"
     ]
    },
    {
     "name": "stdout",
     "output_type": "stream",
     "text": [
      "94:\tlearn: 0.3472590\ttest: 0.4730304\tbest: 0.4726647 (90)\ttotal: 1.37s\tremaining: 13s\n",
      "95:\tlearn: 0.3463219\ttest: 0.4728980\tbest: 0.4726647 (90)\ttotal: 1.39s\tremaining: 13.1s\n",
      "96:\tlearn: 0.3463057\ttest: 0.4729467\tbest: 0.4726647 (90)\ttotal: 1.4s\tremaining: 13s\n",
      "97:\tlearn: 0.3455259\ttest: 0.4729330\tbest: 0.4726647 (90)\ttotal: 1.42s\tremaining: 13.1s\n",
      "98:\tlearn: 0.3450137\ttest: 0.4737214\tbest: 0.4726647 (90)\ttotal: 1.44s\tremaining: 13.1s\n",
      "99:\tlearn: 0.3442971\ttest: 0.4736851\tbest: 0.4726647 (90)\ttotal: 1.46s\tremaining: 13.1s\n",
      "100:\tlearn: 0.3435989\ttest: 0.4735593\tbest: 0.4726647 (90)\ttotal: 1.47s\tremaining: 13.1s\n",
      "101:\tlearn: 0.3429515\ttest: 0.4736792\tbest: 0.4726647 (90)\ttotal: 1.49s\tremaining: 13.1s\n",
      "102:\tlearn: 0.3426272\ttest: 0.4736743\tbest: 0.4726647 (90)\ttotal: 1.5s\tremaining: 13.1s\n",
      "103:\tlearn: 0.3423225\ttest: 0.4730495\tbest: 0.4726647 (90)\ttotal: 1.51s\tremaining: 13s\n",
      "104:\tlearn: 0.3418398\ttest: 0.4729549\tbest: 0.4726647 (90)\ttotal: 1.52s\tremaining: 12.9s\n",
      "105:\tlearn: 0.3410857\ttest: 0.4721987\tbest: 0.4721987 (105)\ttotal: 1.53s\tremaining: 12.9s\n",
      "106:\tlearn: 0.3401102\ttest: 0.4721645\tbest: 0.4721645 (106)\ttotal: 1.55s\tremaining: 13s\n",
      "107:\tlearn: 0.3390196\ttest: 0.4713954\tbest: 0.4713954 (107)\ttotal: 1.57s\tremaining: 13s\n",
      "108:\tlearn: 0.3385728\ttest: 0.4710700\tbest: 0.4710700 (108)\ttotal: 1.58s\tremaining: 12.9s\n",
      "109:\tlearn: 0.3379381\ttest: 0.4710071\tbest: 0.4710071 (109)\ttotal: 1.6s\tremaining: 12.9s\n",
      "110:\tlearn: 0.3371537\ttest: 0.4707110\tbest: 0.4707110 (110)\ttotal: 1.62s\tremaining: 13s\n",
      "111:\tlearn: 0.3363647\ttest: 0.4711593\tbest: 0.4707110 (110)\ttotal: 1.64s\tremaining: 13s\n",
      "112:\tlearn: 0.3363352\ttest: 0.4711491\tbest: 0.4707110 (110)\ttotal: 1.65s\tremaining: 12.9s\n",
      "113:\tlearn: 0.3362202\ttest: 0.4707828\tbest: 0.4707110 (110)\ttotal: 1.66s\tremaining: 12.9s\n",
      "114:\tlearn: 0.3358301\ttest: 0.4708739\tbest: 0.4707110 (110)\ttotal: 1.68s\tremaining: 12.9s\n",
      "115:\tlearn: 0.3353437\ttest: 0.4706304\tbest: 0.4706304 (115)\ttotal: 1.7s\tremaining: 13s\n",
      "116:\tlearn: 0.3353430\ttest: 0.4706591\tbest: 0.4706304 (115)\ttotal: 1.7s\tremaining: 12.8s\n",
      "117:\tlearn: 0.3347100\ttest: 0.4700198\tbest: 0.4700198 (117)\ttotal: 1.72s\tremaining: 12.9s\n",
      "118:\tlearn: 0.3340923\ttest: 0.4697437\tbest: 0.4697437 (118)\ttotal: 1.74s\tremaining: 12.9s\n",
      "119:\tlearn: 0.3333181\ttest: 0.4690171\tbest: 0.4690171 (119)\ttotal: 1.76s\tremaining: 12.9s\n",
      "120:\tlearn: 0.3328851\ttest: 0.4691949\tbest: 0.4690171 (119)\ttotal: 1.78s\tremaining: 12.9s\n",
      "121:\tlearn: 0.3327348\ttest: 0.4692509\tbest: 0.4690171 (119)\ttotal: 1.78s\tremaining: 12.8s\n",
      "122:\tlearn: 0.3321741\ttest: 0.4686485\tbest: 0.4686485 (122)\ttotal: 1.81s\tremaining: 12.9s\n",
      "123:\tlearn: 0.3318015\ttest: 0.4686348\tbest: 0.4686348 (123)\ttotal: 1.82s\tremaining: 12.9s\n",
      "124:\tlearn: 0.3317945\ttest: 0.4686241\tbest: 0.4686241 (124)\ttotal: 1.82s\tremaining: 12.8s\n",
      "125:\tlearn: 0.3310419\ttest: 0.4681579\tbest: 0.4681579 (125)\ttotal: 1.83s\tremaining: 12.7s\n",
      "126:\tlearn: 0.3303343\ttest: 0.4688708\tbest: 0.4681579 (125)\ttotal: 1.85s\tremaining: 12.7s\n",
      "127:\tlearn: 0.3298115\ttest: 0.4689222\tbest: 0.4681579 (125)\ttotal: 1.85s\tremaining: 12.6s\n",
      "128:\tlearn: 0.3295810\ttest: 0.4689395\tbest: 0.4681579 (125)\ttotal: 1.86s\tremaining: 12.6s\n",
      "129:\tlearn: 0.3289656\ttest: 0.4693508\tbest: 0.4681579 (125)\ttotal: 1.88s\tremaining: 12.6s\n",
      "130:\tlearn: 0.3289445\ttest: 0.4693771\tbest: 0.4681579 (125)\ttotal: 1.88s\tremaining: 12.5s\n",
      "131:\tlearn: 0.3283854\ttest: 0.4694164\tbest: 0.4681579 (125)\ttotal: 1.9s\tremaining: 12.5s\n",
      "132:\tlearn: 0.3278322\ttest: 0.4693171\tbest: 0.4681579 (125)\ttotal: 1.91s\tremaining: 12.5s\n",
      "133:\tlearn: 0.3272247\ttest: 0.4698740\tbest: 0.4681579 (125)\ttotal: 1.93s\tremaining: 12.5s\n",
      "134:\tlearn: 0.3266665\ttest: 0.4698692\tbest: 0.4681579 (125)\ttotal: 1.95s\tremaining: 12.5s\n",
      "135:\tlearn: 0.3261559\ttest: 0.4697305\tbest: 0.4681579 (125)\ttotal: 1.96s\tremaining: 12.5s\n",
      "136:\tlearn: 0.3253899\ttest: 0.4700410\tbest: 0.4681579 (125)\ttotal: 1.98s\tremaining: 12.5s\n",
      "137:\tlearn: 0.3251119\ttest: 0.4696121\tbest: 0.4681579 (125)\ttotal: 2.01s\tremaining: 12.6s\n",
      "138:\tlearn: 0.3250969\ttest: 0.4695479\tbest: 0.4681579 (125)\ttotal: 2.01s\tremaining: 12.5s\n",
      "139:\tlearn: 0.3249716\ttest: 0.4695597\tbest: 0.4681579 (125)\ttotal: 2.03s\tremaining: 12.4s\n",
      "140:\tlearn: 0.3249636\ttest: 0.4696309\tbest: 0.4681579 (125)\ttotal: 2.03s\tremaining: 12.4s\n",
      "141:\tlearn: 0.3245575\ttest: 0.4698383\tbest: 0.4681579 (125)\ttotal: 2.05s\tremaining: 12.4s\n",
      "142:\tlearn: 0.3238622\ttest: 0.4703296\tbest: 0.4681579 (125)\ttotal: 2.06s\tremaining: 12.4s\n",
      "143:\tlearn: 0.3233706\ttest: 0.4697338\tbest: 0.4681579 (125)\ttotal: 2.07s\tremaining: 12.3s\n",
      "144:\tlearn: 0.3232976\ttest: 0.4696958\tbest: 0.4681579 (125)\ttotal: 2.08s\tremaining: 12.3s\n",
      "145:\tlearn: 0.3230410\ttest: 0.4696911\tbest: 0.4681579 (125)\ttotal: 2.09s\tremaining: 12.2s\n",
      "146:\tlearn: 0.3224956\ttest: 0.4696999\tbest: 0.4681579 (125)\ttotal: 2.1s\tremaining: 12.2s\n",
      "147:\tlearn: 0.3221084\ttest: 0.4696503\tbest: 0.4681579 (125)\ttotal: 2.11s\tremaining: 12.2s\n",
      "148:\tlearn: 0.3215058\ttest: 0.4695456\tbest: 0.4681579 (125)\ttotal: 2.13s\tremaining: 12.2s\n",
      "149:\tlearn: 0.3209557\ttest: 0.4690587\tbest: 0.4681579 (125)\ttotal: 2.15s\tremaining: 12.2s\n",
      "150:\tlearn: 0.3204113\ttest: 0.4688624\tbest: 0.4681579 (125)\ttotal: 2.16s\tremaining: 12.2s\n",
      "151:\tlearn: 0.3201153\ttest: 0.4689758\tbest: 0.4681579 (125)\ttotal: 2.18s\tremaining: 12.2s\n",
      "152:\tlearn: 0.3196945\ttest: 0.4687199\tbest: 0.4681579 (125)\ttotal: 2.21s\tremaining: 12.2s\n",
      "153:\tlearn: 0.3193711\ttest: 0.4686329\tbest: 0.4681579 (125)\ttotal: 2.22s\tremaining: 12.2s\n",
      "154:\tlearn: 0.3191123\ttest: 0.4686681\tbest: 0.4681579 (125)\ttotal: 2.24s\tremaining: 12.2s\n",
      "155:\tlearn: 0.3180334\ttest: 0.4688488\tbest: 0.4681579 (125)\ttotal: 2.25s\tremaining: 12.2s\n",
      "156:\tlearn: 0.3174158\ttest: 0.4694998\tbest: 0.4681579 (125)\ttotal: 2.27s\tremaining: 12.2s\n",
      "157:\tlearn: 0.3172922\ttest: 0.4694053\tbest: 0.4681579 (125)\ttotal: 2.28s\tremaining: 12.2s\n",
      "158:\tlearn: 0.3171618\ttest: 0.4693190\tbest: 0.4681579 (125)\ttotal: 2.29s\tremaining: 12.1s\n",
      "159:\tlearn: 0.3163999\ttest: 0.4692379\tbest: 0.4681579 (125)\ttotal: 2.31s\tremaining: 12.1s\n",
      "160:\tlearn: 0.3162871\ttest: 0.4692770\tbest: 0.4681579 (125)\ttotal: 2.32s\tremaining: 12.1s\n",
      "161:\tlearn: 0.3159217\ttest: 0.4691582\tbest: 0.4681579 (125)\ttotal: 2.35s\tremaining: 12.2s\n",
      "162:\tlearn: 0.3153822\ttest: 0.4690970\tbest: 0.4681579 (125)\ttotal: 2.37s\tremaining: 12.2s\n",
      "163:\tlearn: 0.3153657\ttest: 0.4691225\tbest: 0.4681579 (125)\ttotal: 2.38s\tremaining: 12.1s\n",
      "164:\tlearn: 0.3144365\ttest: 0.4684666\tbest: 0.4681579 (125)\ttotal: 2.39s\tremaining: 12.1s\n",
      "165:\tlearn: 0.3139931\ttest: 0.4679520\tbest: 0.4679520 (165)\ttotal: 2.4s\tremaining: 12.1s\n",
      "166:\tlearn: 0.3138768\ttest: 0.4678358\tbest: 0.4678358 (166)\ttotal: 2.42s\tremaining: 12.1s\n",
      "167:\tlearn: 0.3132459\ttest: 0.4679502\tbest: 0.4678358 (166)\ttotal: 2.44s\tremaining: 12.1s\n",
      "168:\tlearn: 0.3130752\ttest: 0.4680449\tbest: 0.4678358 (166)\ttotal: 2.46s\tremaining: 12.1s\n",
      "169:\tlearn: 0.3125549\ttest: 0.4673445\tbest: 0.4673445 (169)\ttotal: 2.48s\tremaining: 12.1s\n",
      "170:\tlearn: 0.3119298\ttest: 0.4671405\tbest: 0.4671405 (170)\ttotal: 2.49s\tremaining: 12.1s\n",
      "171:\tlearn: 0.3115981\ttest: 0.4663889\tbest: 0.4663889 (171)\ttotal: 2.51s\tremaining: 12.1s\n",
      "172:\tlearn: 0.3111463\ttest: 0.4663935\tbest: 0.4663889 (171)\ttotal: 2.52s\tremaining: 12.1s\n",
      "173:\tlearn: 0.3105629\ttest: 0.4664780\tbest: 0.4663889 (171)\ttotal: 2.53s\tremaining: 12s\n",
      "174:\tlearn: 0.3099058\ttest: 0.4664312\tbest: 0.4663889 (171)\ttotal: 2.54s\tremaining: 12s\n",
      "175:\tlearn: 0.3099058\ttest: 0.4664303\tbest: 0.4663889 (171)\ttotal: 2.54s\tremaining: 11.9s\n",
      "176:\tlearn: 0.3098308\ttest: 0.4664256\tbest: 0.4663889 (171)\ttotal: 2.55s\tremaining: 11.9s\n",
      "177:\tlearn: 0.3097738\ttest: 0.4665127\tbest: 0.4663889 (171)\ttotal: 2.56s\tremaining: 11.8s\n",
      "178:\tlearn: 0.3095738\ttest: 0.4664483\tbest: 0.4663889 (171)\ttotal: 2.58s\tremaining: 11.8s\n",
      "179:\tlearn: 0.3091434\ttest: 0.4661581\tbest: 0.4661581 (179)\ttotal: 2.59s\tremaining: 11.8s\n",
      "180:\tlearn: 0.3087376\ttest: 0.4658125\tbest: 0.4658125 (180)\ttotal: 2.62s\tremaining: 11.8s\n",
      "181:\tlearn: 0.3083049\ttest: 0.4661359\tbest: 0.4658125 (180)\ttotal: 2.63s\tremaining: 11.8s\n",
      "182:\tlearn: 0.3076330\ttest: 0.4656128\tbest: 0.4656128 (182)\ttotal: 2.64s\tremaining: 11.8s\n",
      "183:\tlearn: 0.3072244\ttest: 0.4657514\tbest: 0.4656128 (182)\ttotal: 2.66s\tremaining: 11.8s\n",
      "184:\tlearn: 0.3069619\ttest: 0.4659581\tbest: 0.4656128 (182)\ttotal: 2.67s\tremaining: 11.8s\n",
      "185:\tlearn: 0.3066312\ttest: 0.4659851\tbest: 0.4656128 (182)\ttotal: 2.68s\tremaining: 11.7s\n",
      "186:\tlearn: 0.3063504\ttest: 0.4657537\tbest: 0.4656128 (182)\ttotal: 2.69s\tremaining: 11.7s\n",
      "187:\tlearn: 0.3063130\ttest: 0.4658816\tbest: 0.4656128 (182)\ttotal: 2.7s\tremaining: 11.7s\n",
      "188:\tlearn: 0.3060872\ttest: 0.4657795\tbest: 0.4656128 (182)\ttotal: 2.71s\tremaining: 11.6s\n",
      "189:\tlearn: 0.3055150\ttest: 0.4660381\tbest: 0.4656128 (182)\ttotal: 2.73s\tremaining: 11.6s\n",
      "190:\tlearn: 0.3053705\ttest: 0.4659862\tbest: 0.4656128 (182)\ttotal: 2.75s\tremaining: 11.6s\n"
     ]
    },
    {
     "name": "stdout",
     "output_type": "stream",
     "text": [
      "191:\tlearn: 0.3048107\ttest: 0.4662074\tbest: 0.4656128 (182)\ttotal: 2.77s\tremaining: 11.6s\n",
      "192:\tlearn: 0.3048106\ttest: 0.4662069\tbest: 0.4656128 (182)\ttotal: 2.77s\tremaining: 11.6s\n",
      "193:\tlearn: 0.3047790\ttest: 0.4662195\tbest: 0.4656128 (182)\ttotal: 2.77s\tremaining: 11.5s\n",
      "194:\tlearn: 0.3044359\ttest: 0.4664736\tbest: 0.4656128 (182)\ttotal: 2.79s\tremaining: 11.5s\n",
      "195:\tlearn: 0.3041269\ttest: 0.4664273\tbest: 0.4656128 (182)\ttotal: 2.81s\tremaining: 11.5s\n",
      "196:\tlearn: 0.3036822\ttest: 0.4665485\tbest: 0.4656128 (182)\ttotal: 2.83s\tremaining: 11.5s\n",
      "197:\tlearn: 0.3026967\ttest: 0.4669244\tbest: 0.4656128 (182)\ttotal: 2.85s\tremaining: 11.5s\n",
      "198:\tlearn: 0.3024986\ttest: 0.4667496\tbest: 0.4656128 (182)\ttotal: 2.87s\tremaining: 11.5s\n",
      "199:\tlearn: 0.3024558\ttest: 0.4667629\tbest: 0.4656128 (182)\ttotal: 2.87s\tremaining: 11.5s\n",
      "200:\tlearn: 0.3019166\ttest: 0.4660328\tbest: 0.4656128 (182)\ttotal: 2.89s\tremaining: 11.5s\n",
      "201:\tlearn: 0.3015846\ttest: 0.4657554\tbest: 0.4656128 (182)\ttotal: 2.9s\tremaining: 11.5s\n",
      "202:\tlearn: 0.3013608\ttest: 0.4657757\tbest: 0.4656128 (182)\ttotal: 2.92s\tremaining: 11.5s\n",
      "203:\tlearn: 0.3010289\ttest: 0.4654563\tbest: 0.4654563 (203)\ttotal: 2.93s\tremaining: 11.4s\n",
      "204:\tlearn: 0.3004866\ttest: 0.4650814\tbest: 0.4650814 (204)\ttotal: 2.95s\tremaining: 11.4s\n",
      "205:\tlearn: 0.3001402\ttest: 0.4651142\tbest: 0.4650814 (204)\ttotal: 2.97s\tremaining: 11.4s\n",
      "206:\tlearn: 0.2995532\ttest: 0.4649719\tbest: 0.4649719 (206)\ttotal: 2.99s\tremaining: 11.4s\n",
      "207:\tlearn: 0.2995142\ttest: 0.4649831\tbest: 0.4649719 (206)\ttotal: 3s\tremaining: 11.4s\n",
      "208:\tlearn: 0.2991521\ttest: 0.4651169\tbest: 0.4649719 (206)\ttotal: 3.02s\tremaining: 11.4s\n",
      "209:\tlearn: 0.2989854\ttest: 0.4651056\tbest: 0.4649719 (206)\ttotal: 3.03s\tremaining: 11.4s\n",
      "210:\tlearn: 0.2986341\ttest: 0.4651592\tbest: 0.4649719 (206)\ttotal: 3.05s\tremaining: 11.4s\n",
      "211:\tlearn: 0.2984440\ttest: 0.4650700\tbest: 0.4649719 (206)\ttotal: 3.07s\tremaining: 11.4s\n",
      "212:\tlearn: 0.2983975\ttest: 0.4650502\tbest: 0.4649719 (206)\ttotal: 3.09s\tremaining: 11.4s\n",
      "213:\tlearn: 0.2983618\ttest: 0.4650605\tbest: 0.4649719 (206)\ttotal: 3.09s\tremaining: 11.4s\n",
      "214:\tlearn: 0.2982068\ttest: 0.4649369\tbest: 0.4649369 (214)\ttotal: 3.11s\tremaining: 11.3s\n",
      "215:\tlearn: 0.2978521\ttest: 0.4655239\tbest: 0.4649369 (214)\ttotal: 3.13s\tremaining: 11.3s\n",
      "216:\tlearn: 0.2977950\ttest: 0.4654843\tbest: 0.4649369 (214)\ttotal: 3.13s\tremaining: 11.3s\n",
      "217:\tlearn: 0.2972060\ttest: 0.4653859\tbest: 0.4649369 (214)\ttotal: 3.15s\tremaining: 11.3s\n",
      "218:\tlearn: 0.2967495\ttest: 0.4651556\tbest: 0.4649369 (214)\ttotal: 3.17s\tremaining: 11.3s\n",
      "219:\tlearn: 0.2967237\ttest: 0.4652260\tbest: 0.4649369 (214)\ttotal: 3.18s\tremaining: 11.3s\n",
      "220:\tlearn: 0.2961507\ttest: 0.4652202\tbest: 0.4649369 (214)\ttotal: 3.19s\tremaining: 11.3s\n",
      "221:\tlearn: 0.2955688\ttest: 0.4647025\tbest: 0.4647025 (221)\ttotal: 3.22s\tremaining: 11.3s\n",
      "222:\tlearn: 0.2955285\ttest: 0.4647102\tbest: 0.4647025 (221)\ttotal: 3.23s\tremaining: 11.3s\n",
      "223:\tlearn: 0.2949359\ttest: 0.4648979\tbest: 0.4647025 (221)\ttotal: 3.26s\tremaining: 11.3s\n",
      "224:\tlearn: 0.2948313\ttest: 0.4648698\tbest: 0.4647025 (221)\ttotal: 3.27s\tremaining: 11.3s\n",
      "225:\tlearn: 0.2945486\ttest: 0.4651085\tbest: 0.4647025 (221)\ttotal: 3.29s\tremaining: 11.3s\n",
      "226:\tlearn: 0.2942108\ttest: 0.4652011\tbest: 0.4647025 (221)\ttotal: 3.31s\tremaining: 11.3s\n",
      "227:\tlearn: 0.2941145\ttest: 0.4648781\tbest: 0.4647025 (221)\ttotal: 3.33s\tremaining: 11.3s\n",
      "228:\tlearn: 0.2935782\ttest: 0.4649083\tbest: 0.4647025 (221)\ttotal: 3.35s\tremaining: 11.3s\n",
      "229:\tlearn: 0.2933451\ttest: 0.4641601\tbest: 0.4641601 (229)\ttotal: 3.37s\tremaining: 11.3s\n",
      "230:\tlearn: 0.2931758\ttest: 0.4641532\tbest: 0.4641532 (230)\ttotal: 3.39s\tremaining: 11.3s\n",
      "231:\tlearn: 0.2930757\ttest: 0.4642323\tbest: 0.4641532 (230)\ttotal: 3.4s\tremaining: 11.2s\n",
      "232:\tlearn: 0.2930446\ttest: 0.4642403\tbest: 0.4641532 (230)\ttotal: 3.41s\tremaining: 11.2s\n",
      "233:\tlearn: 0.2925097\ttest: 0.4641135\tbest: 0.4641135 (233)\ttotal: 3.43s\tremaining: 11.2s\n",
      "234:\tlearn: 0.2922629\ttest: 0.4639706\tbest: 0.4639706 (234)\ttotal: 3.44s\tremaining: 11.2s\n",
      "235:\tlearn: 0.2916064\ttest: 0.4637313\tbest: 0.4637313 (235)\ttotal: 3.45s\tremaining: 11.2s\n",
      "236:\tlearn: 0.2912920\ttest: 0.4636153\tbest: 0.4636153 (236)\ttotal: 3.47s\tremaining: 11.2s\n",
      "237:\tlearn: 0.2910666\ttest: 0.4636572\tbest: 0.4636153 (236)\ttotal: 3.49s\tremaining: 11.2s\n",
      "238:\tlearn: 0.2907340\ttest: 0.4635471\tbest: 0.4635471 (238)\ttotal: 3.5s\tremaining: 11.2s\n",
      "239:\tlearn: 0.2903770\ttest: 0.4632363\tbest: 0.4632363 (239)\ttotal: 3.52s\tremaining: 11.2s\n",
      "240:\tlearn: 0.2902736\ttest: 0.4631759\tbest: 0.4631759 (240)\ttotal: 3.53s\tremaining: 11.1s\n",
      "241:\tlearn: 0.2902419\ttest: 0.4631718\tbest: 0.4631718 (241)\ttotal: 3.55s\tremaining: 11.1s\n",
      "242:\tlearn: 0.2897488\ttest: 0.4633069\tbest: 0.4631718 (241)\ttotal: 3.57s\tremaining: 11.1s\n",
      "243:\tlearn: 0.2895516\ttest: 0.4632325\tbest: 0.4631718 (241)\ttotal: 3.58s\tremaining: 11.1s\n",
      "244:\tlearn: 0.2888707\ttest: 0.4633420\tbest: 0.4631718 (241)\ttotal: 3.6s\tremaining: 11.1s\n",
      "245:\tlearn: 0.2880850\ttest: 0.4645166\tbest: 0.4631718 (241)\ttotal: 3.62s\tremaining: 11.1s\n",
      "246:\tlearn: 0.2876176\ttest: 0.4645424\tbest: 0.4631718 (241)\ttotal: 3.64s\tremaining: 11.1s\n",
      "247:\tlearn: 0.2872667\ttest: 0.4647682\tbest: 0.4631718 (241)\ttotal: 3.66s\tremaining: 11.1s\n",
      "248:\tlearn: 0.2863994\ttest: 0.4645006\tbest: 0.4631718 (241)\ttotal: 3.68s\tremaining: 11.1s\n",
      "249:\tlearn: 0.2860827\ttest: 0.4649016\tbest: 0.4631718 (241)\ttotal: 3.69s\tremaining: 11.1s\n",
      "250:\tlearn: 0.2857869\ttest: 0.4653543\tbest: 0.4631718 (241)\ttotal: 3.71s\tremaining: 11.1s\n",
      "251:\tlearn: 0.2853592\ttest: 0.4653756\tbest: 0.4631718 (241)\ttotal: 3.71s\tremaining: 11s\n",
      "252:\tlearn: 0.2851961\ttest: 0.4653330\tbest: 0.4631718 (241)\ttotal: 3.73s\tremaining: 11s\n",
      "253:\tlearn: 0.2844510\ttest: 0.4652629\tbest: 0.4631718 (241)\ttotal: 3.74s\tremaining: 11s\n",
      "254:\tlearn: 0.2841576\ttest: 0.4654435\tbest: 0.4631718 (241)\ttotal: 3.76s\tremaining: 11s\n",
      "255:\tlearn: 0.2841108\ttest: 0.4654720\tbest: 0.4631718 (241)\ttotal: 3.77s\tremaining: 11s\n",
      "256:\tlearn: 0.2834476\ttest: 0.4649448\tbest: 0.4631718 (241)\ttotal: 3.79s\tremaining: 11s\n",
      "257:\tlearn: 0.2827146\ttest: 0.4650811\tbest: 0.4631718 (241)\ttotal: 3.81s\tremaining: 11s\n",
      "258:\tlearn: 0.2824341\ttest: 0.4654465\tbest: 0.4631718 (241)\ttotal: 3.83s\tremaining: 11s\n",
      "259:\tlearn: 0.2821553\ttest: 0.4652287\tbest: 0.4631718 (241)\ttotal: 3.84s\tremaining: 10.9s\n",
      "260:\tlearn: 0.2821339\ttest: 0.4652307\tbest: 0.4631718 (241)\ttotal: 3.85s\tremaining: 10.9s\n",
      "261:\tlearn: 0.2814055\ttest: 0.4646325\tbest: 0.4631718 (241)\ttotal: 3.86s\tremaining: 10.9s\n",
      "262:\tlearn: 0.2811659\ttest: 0.4645176\tbest: 0.4631718 (241)\ttotal: 3.87s\tremaining: 10.9s\n",
      "263:\tlearn: 0.2807485\ttest: 0.4640839\tbest: 0.4631718 (241)\ttotal: 3.89s\tremaining: 10.8s\n",
      "264:\tlearn: 0.2807271\ttest: 0.4640840\tbest: 0.4631718 (241)\ttotal: 3.89s\tremaining: 10.8s\n",
      "265:\tlearn: 0.2803383\ttest: 0.4639983\tbest: 0.4631718 (241)\ttotal: 3.92s\tremaining: 10.8s\n",
      "266:\tlearn: 0.2802095\ttest: 0.4637103\tbest: 0.4631718 (241)\ttotal: 3.94s\tremaining: 10.8s\n",
      "267:\tlearn: 0.2801957\ttest: 0.4637118\tbest: 0.4631718 (241)\ttotal: 3.95s\tremaining: 10.8s\n",
      "268:\tlearn: 0.2798295\ttest: 0.4640025\tbest: 0.4631718 (241)\ttotal: 3.96s\tremaining: 10.8s\n",
      "269:\tlearn: 0.2794823\ttest: 0.4644889\tbest: 0.4631718 (241)\ttotal: 3.98s\tremaining: 10.8s\n",
      "270:\tlearn: 0.2791760\ttest: 0.4644737\tbest: 0.4631718 (241)\ttotal: 4s\tremaining: 10.8s\n",
      "271:\tlearn: 0.2791707\ttest: 0.4644592\tbest: 0.4631718 (241)\ttotal: 4s\tremaining: 10.7s\n",
      "272:\tlearn: 0.2785691\ttest: 0.4642147\tbest: 0.4631718 (241)\ttotal: 4.02s\tremaining: 10.7s\n",
      "273:\tlearn: 0.2781809\ttest: 0.4641514\tbest: 0.4631718 (241)\ttotal: 4.03s\tremaining: 10.7s\n",
      "274:\tlearn: 0.2779812\ttest: 0.4642020\tbest: 0.4631718 (241)\ttotal: 4.05s\tremaining: 10.7s\n",
      "275:\tlearn: 0.2779263\ttest: 0.4642416\tbest: 0.4631718 (241)\ttotal: 4.07s\tremaining: 10.7s\n",
      "276:\tlearn: 0.2778792\ttest: 0.4642253\tbest: 0.4631718 (241)\ttotal: 4.08s\tremaining: 10.6s\n",
      "277:\tlearn: 0.2773780\ttest: 0.4639649\tbest: 0.4631718 (241)\ttotal: 4.1s\tremaining: 10.6s\n",
      "278:\tlearn: 0.2773422\ttest: 0.4639360\tbest: 0.4631718 (241)\ttotal: 4.11s\tremaining: 10.6s\n",
      "279:\tlearn: 0.2769193\ttest: 0.4646337\tbest: 0.4631718 (241)\ttotal: 4.12s\tremaining: 10.6s\n",
      "280:\tlearn: 0.2768563\ttest: 0.4645726\tbest: 0.4631718 (241)\ttotal: 4.14s\tremaining: 10.6s\n",
      "281:\tlearn: 0.2757057\ttest: 0.4643292\tbest: 0.4631718 (241)\ttotal: 4.16s\tremaining: 10.6s\n",
      "282:\tlearn: 0.2756047\ttest: 0.4645077\tbest: 0.4631718 (241)\ttotal: 4.17s\tremaining: 10.6s\n",
      "283:\tlearn: 0.2755541\ttest: 0.4645427\tbest: 0.4631718 (241)\ttotal: 4.19s\tremaining: 10.6s\n",
      "284:\tlearn: 0.2754926\ttest: 0.4645873\tbest: 0.4631718 (241)\ttotal: 4.21s\tremaining: 10.6s\n",
      "285:\tlearn: 0.2749396\ttest: 0.4645959\tbest: 0.4631718 (241)\ttotal: 4.23s\tremaining: 10.6s\n",
      "286:\tlearn: 0.2744728\ttest: 0.4650879\tbest: 0.4631718 (241)\ttotal: 4.25s\tremaining: 10.6s\n",
      "287:\tlearn: 0.2739699\ttest: 0.4654504\tbest: 0.4631718 (241)\ttotal: 4.27s\tremaining: 10.5s\n",
      "288:\tlearn: 0.2738050\ttest: 0.4654542\tbest: 0.4631718 (241)\ttotal: 4.28s\tremaining: 10.5s\n",
      "289:\tlearn: 0.2737711\ttest: 0.4654588\tbest: 0.4631718 (241)\ttotal: 4.3s\tremaining: 10.5s\n",
      "290:\tlearn: 0.2734232\ttest: 0.4652100\tbest: 0.4631718 (241)\ttotal: 4.32s\tremaining: 10.5s\n",
      "291:\tlearn: 0.2732638\ttest: 0.4651730\tbest: 0.4631718 (241)\ttotal: 4.33s\tremaining: 10.5s\n",
      "292:\tlearn: 0.2729261\ttest: 0.4647689\tbest: 0.4631718 (241)\ttotal: 4.35s\tremaining: 10.5s\n"
     ]
    },
    {
     "name": "stdout",
     "output_type": "stream",
     "text": [
      "293:\tlearn: 0.2726067\ttest: 0.4648008\tbest: 0.4631718 (241)\ttotal: 4.38s\tremaining: 10.5s\n",
      "294:\tlearn: 0.2725503\ttest: 0.4647915\tbest: 0.4631718 (241)\ttotal: 4.4s\tremaining: 10.5s\n",
      "295:\tlearn: 0.2725034\ttest: 0.4648186\tbest: 0.4631718 (241)\ttotal: 4.42s\tremaining: 10.5s\n",
      "296:\tlearn: 0.2724648\ttest: 0.4648225\tbest: 0.4631718 (241)\ttotal: 4.44s\tremaining: 10.5s\n",
      "297:\tlearn: 0.2719739\ttest: 0.4646422\tbest: 0.4631718 (241)\ttotal: 4.46s\tremaining: 10.5s\n",
      "298:\tlearn: 0.2718607\ttest: 0.4647162\tbest: 0.4631718 (241)\ttotal: 4.48s\tremaining: 10.5s\n",
      "299:\tlearn: 0.2715648\ttest: 0.4649101\tbest: 0.4631718 (241)\ttotal: 4.5s\tremaining: 10.5s\n",
      "300:\tlearn: 0.2714415\ttest: 0.4648546\tbest: 0.4631718 (241)\ttotal: 4.51s\tremaining: 10.5s\n",
      "301:\tlearn: 0.2713164\ttest: 0.4648995\tbest: 0.4631718 (241)\ttotal: 4.52s\tremaining: 10.4s\n",
      "302:\tlearn: 0.2706266\ttest: 0.4652265\tbest: 0.4631718 (241)\ttotal: 4.54s\tremaining: 10.4s\n",
      "303:\tlearn: 0.2701916\ttest: 0.4652854\tbest: 0.4631718 (241)\ttotal: 4.55s\tremaining: 10.4s\n",
      "304:\tlearn: 0.2701525\ttest: 0.4652861\tbest: 0.4631718 (241)\ttotal: 4.57s\tremaining: 10.4s\n",
      "305:\tlearn: 0.2692416\ttest: 0.4643669\tbest: 0.4631718 (241)\ttotal: 4.59s\tremaining: 10.4s\n",
      "306:\tlearn: 0.2688722\ttest: 0.4644079\tbest: 0.4631718 (241)\ttotal: 4.61s\tremaining: 10.4s\n",
      "307:\tlearn: 0.2688291\ttest: 0.4643534\tbest: 0.4631718 (241)\ttotal: 4.63s\tremaining: 10.4s\n",
      "308:\tlearn: 0.2687856\ttest: 0.4644465\tbest: 0.4631718 (241)\ttotal: 4.64s\tremaining: 10.4s\n",
      "309:\tlearn: 0.2683197\ttest: 0.4642052\tbest: 0.4631718 (241)\ttotal: 4.66s\tremaining: 10.4s\n",
      "310:\tlearn: 0.2674626\ttest: 0.4639827\tbest: 0.4631718 (241)\ttotal: 4.68s\tremaining: 10.4s\n",
      "311:\tlearn: 0.2667590\ttest: 0.4639360\tbest: 0.4631718 (241)\ttotal: 4.7s\tremaining: 10.4s\n",
      "312:\tlearn: 0.2663360\ttest: 0.4638007\tbest: 0.4631718 (241)\ttotal: 4.71s\tremaining: 10.3s\n",
      "313:\tlearn: 0.2659963\ttest: 0.4638017\tbest: 0.4631718 (241)\ttotal: 4.73s\tremaining: 10.3s\n",
      "314:\tlearn: 0.2655384\ttest: 0.4640140\tbest: 0.4631718 (241)\ttotal: 4.75s\tremaining: 10.3s\n",
      "315:\tlearn: 0.2653342\ttest: 0.4641524\tbest: 0.4631718 (241)\ttotal: 4.76s\tremaining: 10.3s\n",
      "316:\tlearn: 0.2650879\ttest: 0.4643333\tbest: 0.4631718 (241)\ttotal: 4.78s\tremaining: 10.3s\n",
      "317:\tlearn: 0.2647340\ttest: 0.4638974\tbest: 0.4631718 (241)\ttotal: 4.8s\tremaining: 10.3s\n",
      "318:\tlearn: 0.2646215\ttest: 0.4638459\tbest: 0.4631718 (241)\ttotal: 4.82s\tremaining: 10.3s\n",
      "319:\tlearn: 0.2645166\ttest: 0.4638245\tbest: 0.4631718 (241)\ttotal: 4.85s\tremaining: 10.3s\n",
      "320:\tlearn: 0.2644093\ttest: 0.4638014\tbest: 0.4631718 (241)\ttotal: 4.86s\tremaining: 10.3s\n",
      "321:\tlearn: 0.2635986\ttest: 0.4636921\tbest: 0.4631718 (241)\ttotal: 4.88s\tremaining: 10.3s\n",
      "322:\tlearn: 0.2630315\ttest: 0.4634069\tbest: 0.4631718 (241)\ttotal: 4.89s\tremaining: 10.3s\n",
      "323:\tlearn: 0.2628746\ttest: 0.4637165\tbest: 0.4631718 (241)\ttotal: 4.91s\tremaining: 10.2s\n",
      "324:\tlearn: 0.2628436\ttest: 0.4637596\tbest: 0.4631718 (241)\ttotal: 4.92s\tremaining: 10.2s\n",
      "325:\tlearn: 0.2624907\ttest: 0.4638993\tbest: 0.4631718 (241)\ttotal: 4.94s\tremaining: 10.2s\n",
      "326:\tlearn: 0.2620505\ttest: 0.4644731\tbest: 0.4631718 (241)\ttotal: 4.95s\tremaining: 10.2s\n",
      "327:\tlearn: 0.2619452\ttest: 0.4644171\tbest: 0.4631718 (241)\ttotal: 4.97s\tremaining: 10.2s\n",
      "328:\tlearn: 0.2616297\ttest: 0.4649893\tbest: 0.4631718 (241)\ttotal: 4.99s\tremaining: 10.2s\n",
      "329:\tlearn: 0.2612638\ttest: 0.4647478\tbest: 0.4631718 (241)\ttotal: 5.01s\tremaining: 10.2s\n",
      "330:\tlearn: 0.2612383\ttest: 0.4648579\tbest: 0.4631718 (241)\ttotal: 5.03s\tremaining: 10.2s\n",
      "331:\tlearn: 0.2608062\ttest: 0.4650386\tbest: 0.4631718 (241)\ttotal: 5.04s\tremaining: 10.1s\n",
      "332:\tlearn: 0.2600997\ttest: 0.4653437\tbest: 0.4631718 (241)\ttotal: 5.06s\tremaining: 10.1s\n",
      "333:\tlearn: 0.2597602\ttest: 0.4651056\tbest: 0.4631718 (241)\ttotal: 5.07s\tremaining: 10.1s\n",
      "334:\tlearn: 0.2593919\ttest: 0.4649422\tbest: 0.4631718 (241)\ttotal: 5.09s\tremaining: 10.1s\n",
      "335:\tlearn: 0.2592797\ttest: 0.4649101\tbest: 0.4631718 (241)\ttotal: 5.11s\tremaining: 10.1s\n",
      "336:\tlearn: 0.2587212\ttest: 0.4655188\tbest: 0.4631718 (241)\ttotal: 5.13s\tremaining: 10.1s\n",
      "337:\tlearn: 0.2580500\ttest: 0.4654329\tbest: 0.4631718 (241)\ttotal: 5.15s\tremaining: 10.1s\n",
      "338:\tlearn: 0.2580121\ttest: 0.4653810\tbest: 0.4631718 (241)\ttotal: 5.17s\tremaining: 10.1s\n",
      "339:\tlearn: 0.2578760\ttest: 0.4653449\tbest: 0.4631718 (241)\ttotal: 5.19s\tremaining: 10.1s\n",
      "340:\tlearn: 0.2576027\ttest: 0.4657363\tbest: 0.4631718 (241)\ttotal: 5.21s\tremaining: 10.1s\n",
      "341:\tlearn: 0.2574029\ttest: 0.4656172\tbest: 0.4631718 (241)\ttotal: 5.22s\tremaining: 10.1s\n",
      "342:\tlearn: 0.2570686\ttest: 0.4651353\tbest: 0.4631718 (241)\ttotal: 5.25s\tremaining: 10s\n",
      "343:\tlearn: 0.2569182\ttest: 0.4651218\tbest: 0.4631718 (241)\ttotal: 5.26s\tremaining: 10s\n",
      "344:\tlearn: 0.2563751\ttest: 0.4650763\tbest: 0.4631718 (241)\ttotal: 5.28s\tremaining: 10s\n",
      "345:\tlearn: 0.2563463\ttest: 0.4650914\tbest: 0.4631718 (241)\ttotal: 5.3s\tremaining: 10s\n",
      "346:\tlearn: 0.2563213\ttest: 0.4651228\tbest: 0.4631718 (241)\ttotal: 5.32s\tremaining: 10s\n",
      "347:\tlearn: 0.2559278\ttest: 0.4648018\tbest: 0.4631718 (241)\ttotal: 5.33s\tremaining: 9.98s\n",
      "348:\tlearn: 0.2559083\ttest: 0.4648216\tbest: 0.4631718 (241)\ttotal: 5.33s\tremaining: 9.95s\n",
      "349:\tlearn: 0.2554685\ttest: 0.4645072\tbest: 0.4631718 (241)\ttotal: 5.35s\tremaining: 9.94s\n",
      "350:\tlearn: 0.2552321\ttest: 0.4644578\tbest: 0.4631718 (241)\ttotal: 5.37s\tremaining: 9.93s\n",
      "351:\tlearn: 0.2546836\ttest: 0.4644785\tbest: 0.4631718 (241)\ttotal: 5.39s\tremaining: 9.92s\n",
      "352:\tlearn: 0.2544245\ttest: 0.4646295\tbest: 0.4631718 (241)\ttotal: 5.41s\tremaining: 9.91s\n",
      "353:\tlearn: 0.2542870\ttest: 0.4644366\tbest: 0.4631718 (241)\ttotal: 5.43s\tremaining: 9.91s\n",
      "354:\tlearn: 0.2539088\ttest: 0.4644813\tbest: 0.4631718 (241)\ttotal: 5.45s\tremaining: 9.9s\n",
      "355:\tlearn: 0.2538819\ttest: 0.4646204\tbest: 0.4631718 (241)\ttotal: 5.46s\tremaining: 9.89s\n",
      "356:\tlearn: 0.2535981\ttest: 0.4644340\tbest: 0.4631718 (241)\ttotal: 5.47s\tremaining: 9.85s\n",
      "357:\tlearn: 0.2535481\ttest: 0.4644332\tbest: 0.4631718 (241)\ttotal: 5.49s\tremaining: 9.84s\n",
      "358:\tlearn: 0.2534331\ttest: 0.4644151\tbest: 0.4631718 (241)\ttotal: 5.51s\tremaining: 9.84s\n",
      "359:\tlearn: 0.2532742\ttest: 0.4643756\tbest: 0.4631718 (241)\ttotal: 5.52s\tremaining: 9.82s\n",
      "360:\tlearn: 0.2527723\ttest: 0.4643964\tbest: 0.4631718 (241)\ttotal: 5.54s\tremaining: 9.81s\n",
      "361:\tlearn: 0.2522803\ttest: 0.4637549\tbest: 0.4631718 (241)\ttotal: 5.56s\tremaining: 9.79s\n",
      "362:\tlearn: 0.2518158\ttest: 0.4636368\tbest: 0.4631718 (241)\ttotal: 5.57s\tremaining: 9.78s\n",
      "363:\tlearn: 0.2513052\ttest: 0.4642352\tbest: 0.4631718 (241)\ttotal: 5.59s\tremaining: 9.78s\n",
      "364:\tlearn: 0.2510889\ttest: 0.4642882\tbest: 0.4631718 (241)\ttotal: 5.62s\tremaining: 9.77s\n",
      "365:\tlearn: 0.2509935\ttest: 0.4642612\tbest: 0.4631718 (241)\ttotal: 5.64s\tremaining: 9.77s\n",
      "366:\tlearn: 0.2507346\ttest: 0.4649484\tbest: 0.4631718 (241)\ttotal: 5.66s\tremaining: 9.76s\n",
      "367:\tlearn: 0.2502200\ttest: 0.4646157\tbest: 0.4631718 (241)\ttotal: 5.67s\tremaining: 9.74s\n",
      "368:\tlearn: 0.2500322\ttest: 0.4644443\tbest: 0.4631718 (241)\ttotal: 5.69s\tremaining: 9.73s\n",
      "369:\tlearn: 0.2500043\ttest: 0.4644618\tbest: 0.4631718 (241)\ttotal: 5.71s\tremaining: 9.72s\n",
      "370:\tlearn: 0.2497299\ttest: 0.4645484\tbest: 0.4631718 (241)\ttotal: 5.73s\tremaining: 9.71s\n",
      "371:\tlearn: 0.2497084\ttest: 0.4645751\tbest: 0.4631718 (241)\ttotal: 5.74s\tremaining: 9.69s\n",
      "372:\tlearn: 0.2493461\ttest: 0.4644661\tbest: 0.4631718 (241)\ttotal: 5.76s\tremaining: 9.68s\n",
      "373:\tlearn: 0.2491139\ttest: 0.4644508\tbest: 0.4631718 (241)\ttotal: 5.78s\tremaining: 9.67s\n",
      "374:\tlearn: 0.2490943\ttest: 0.4644331\tbest: 0.4631718 (241)\ttotal: 5.79s\tremaining: 9.66s\n",
      "375:\tlearn: 0.2487194\ttest: 0.4644330\tbest: 0.4631718 (241)\ttotal: 5.81s\tremaining: 9.64s\n",
      "376:\tlearn: 0.2481203\ttest: 0.4643437\tbest: 0.4631718 (241)\ttotal: 5.83s\tremaining: 9.63s\n",
      "377:\tlearn: 0.2474854\ttest: 0.4649034\tbest: 0.4631718 (241)\ttotal: 5.84s\tremaining: 9.62s\n",
      "378:\tlearn: 0.2473489\ttest: 0.4648397\tbest: 0.4631718 (241)\ttotal: 5.87s\tremaining: 9.61s\n",
      "379:\tlearn: 0.2470962\ttest: 0.4653326\tbest: 0.4631718 (241)\ttotal: 5.88s\tremaining: 9.6s\n",
      "380:\tlearn: 0.2470360\ttest: 0.4654305\tbest: 0.4631718 (241)\ttotal: 5.9s\tremaining: 9.59s\n",
      "381:\tlearn: 0.2470053\ttest: 0.4654124\tbest: 0.4631718 (241)\ttotal: 5.92s\tremaining: 9.58s\n",
      "382:\tlearn: 0.2469364\ttest: 0.4654170\tbest: 0.4631718 (241)\ttotal: 5.93s\tremaining: 9.56s\n",
      "383:\tlearn: 0.2466932\ttest: 0.4653895\tbest: 0.4631718 (241)\ttotal: 5.95s\tremaining: 9.54s\n",
      "384:\tlearn: 0.2457718\ttest: 0.4657933\tbest: 0.4631718 (241)\ttotal: 5.97s\tremaining: 9.53s\n",
      "385:\tlearn: 0.2452402\ttest: 0.4657773\tbest: 0.4631718 (241)\ttotal: 5.99s\tremaining: 9.52s\n"
     ]
    },
    {
     "name": "stdout",
     "output_type": "stream",
     "text": [
      "386:\tlearn: 0.2450674\ttest: 0.4659053\tbest: 0.4631718 (241)\ttotal: 6s\tremaining: 9.51s\n",
      "387:\tlearn: 0.2449117\ttest: 0.4662347\tbest: 0.4631718 (241)\ttotal: 6.02s\tremaining: 9.5s\n",
      "388:\tlearn: 0.2444751\ttest: 0.4667114\tbest: 0.4631718 (241)\ttotal: 6.04s\tremaining: 9.49s\n",
      "389:\tlearn: 0.2441628\ttest: 0.4663031\tbest: 0.4631718 (241)\ttotal: 6.06s\tremaining: 9.48s\n",
      "390:\tlearn: 0.2436673\ttest: 0.4663573\tbest: 0.4631718 (241)\ttotal: 6.08s\tremaining: 9.47s\n",
      "391:\tlearn: 0.2434781\ttest: 0.4664511\tbest: 0.4631718 (241)\ttotal: 6.1s\tremaining: 9.46s\n",
      "392:\tlearn: 0.2428815\ttest: 0.4664287\tbest: 0.4631718 (241)\ttotal: 6.12s\tremaining: 9.45s\n",
      "393:\tlearn: 0.2428345\ttest: 0.4664182\tbest: 0.4631718 (241)\ttotal: 6.14s\tremaining: 9.44s\n",
      "394:\tlearn: 0.2424894\ttest: 0.4663075\tbest: 0.4631718 (241)\ttotal: 6.16s\tremaining: 9.43s\n",
      "395:\tlearn: 0.2421481\ttest: 0.4662539\tbest: 0.4631718 (241)\ttotal: 6.17s\tremaining: 9.41s\n",
      "396:\tlearn: 0.2420481\ttest: 0.4662986\tbest: 0.4631718 (241)\ttotal: 6.19s\tremaining: 9.41s\n",
      "397:\tlearn: 0.2415242\ttest: 0.4662149\tbest: 0.4631718 (241)\ttotal: 6.21s\tremaining: 9.4s\n",
      "398:\tlearn: 0.2414764\ttest: 0.4662998\tbest: 0.4631718 (241)\ttotal: 6.23s\tremaining: 9.39s\n",
      "399:\tlearn: 0.2413443\ttest: 0.4661558\tbest: 0.4631718 (241)\ttotal: 6.25s\tremaining: 9.38s\n",
      "400:\tlearn: 0.2410371\ttest: 0.4660517\tbest: 0.4631718 (241)\ttotal: 6.26s\tremaining: 9.36s\n",
      "401:\tlearn: 0.2409420\ttest: 0.4660966\tbest: 0.4631718 (241)\ttotal: 6.28s\tremaining: 9.35s\n",
      "402:\tlearn: 0.2408098\ttest: 0.4663388\tbest: 0.4631718 (241)\ttotal: 6.3s\tremaining: 9.33s\n",
      "403:\tlearn: 0.2405588\ttest: 0.4661263\tbest: 0.4631718 (241)\ttotal: 6.32s\tremaining: 9.32s\n",
      "404:\tlearn: 0.2404423\ttest: 0.4657206\tbest: 0.4631718 (241)\ttotal: 6.33s\tremaining: 9.3s\n",
      "405:\tlearn: 0.2404241\ttest: 0.4656969\tbest: 0.4631718 (241)\ttotal: 6.35s\tremaining: 9.29s\n",
      "406:\tlearn: 0.2404107\ttest: 0.4657804\tbest: 0.4631718 (241)\ttotal: 6.37s\tremaining: 9.28s\n",
      "407:\tlearn: 0.2403017\ttest: 0.4657693\tbest: 0.4631718 (241)\ttotal: 6.38s\tremaining: 9.26s\n",
      "408:\tlearn: 0.2402861\ttest: 0.4657978\tbest: 0.4631718 (241)\ttotal: 6.4s\tremaining: 9.25s\n",
      "409:\tlearn: 0.2400647\ttest: 0.4657046\tbest: 0.4631718 (241)\ttotal: 6.42s\tremaining: 9.24s\n",
      "410:\tlearn: 0.2392503\ttest: 0.4653412\tbest: 0.4631718 (241)\ttotal: 6.44s\tremaining: 9.23s\n",
      "411:\tlearn: 0.2390405\ttest: 0.4653866\tbest: 0.4631718 (241)\ttotal: 6.46s\tremaining: 9.22s\n",
      "412:\tlearn: 0.2387726\ttest: 0.4655652\tbest: 0.4631718 (241)\ttotal: 6.47s\tremaining: 9.2s\n",
      "413:\tlearn: 0.2384830\ttest: 0.4661318\tbest: 0.4631718 (241)\ttotal: 6.49s\tremaining: 9.19s\n",
      "414:\tlearn: 0.2384420\ttest: 0.4661541\tbest: 0.4631718 (241)\ttotal: 6.51s\tremaining: 9.18s\n",
      "415:\tlearn: 0.2383024\ttest: 0.4660972\tbest: 0.4631718 (241)\ttotal: 6.52s\tremaining: 9.16s\n",
      "416:\tlearn: 0.2379066\ttest: 0.4660191\tbest: 0.4631718 (241)\ttotal: 6.54s\tremaining: 9.14s\n",
      "417:\tlearn: 0.2378588\ttest: 0.4659649\tbest: 0.4631718 (241)\ttotal: 6.56s\tremaining: 9.13s\n",
      "418:\tlearn: 0.2375664\ttest: 0.4660893\tbest: 0.4631718 (241)\ttotal: 6.58s\tremaining: 9.12s\n",
      "419:\tlearn: 0.2375294\ttest: 0.4660955\tbest: 0.4631718 (241)\ttotal: 6.6s\tremaining: 9.11s\n",
      "420:\tlearn: 0.2371697\ttest: 0.4659799\tbest: 0.4631718 (241)\ttotal: 6.61s\tremaining: 9.1s\n",
      "421:\tlearn: 0.2367162\ttest: 0.4658526\tbest: 0.4631718 (241)\ttotal: 6.63s\tremaining: 9.08s\n",
      "422:\tlearn: 0.2364175\ttest: 0.4653954\tbest: 0.4631718 (241)\ttotal: 6.63s\tremaining: 9.05s\n",
      "423:\tlearn: 0.2362426\ttest: 0.4655389\tbest: 0.4631718 (241)\ttotal: 6.65s\tremaining: 9.04s\n",
      "424:\tlearn: 0.2360573\ttest: 0.4655477\tbest: 0.4631718 (241)\ttotal: 6.66s\tremaining: 9.02s\n",
      "425:\tlearn: 0.2360229\ttest: 0.4655695\tbest: 0.4631718 (241)\ttotal: 6.68s\tremaining: 9s\n",
      "426:\tlearn: 0.2359935\ttest: 0.4655498\tbest: 0.4631718 (241)\ttotal: 6.7s\tremaining: 8.99s\n",
      "427:\tlearn: 0.2358005\ttest: 0.4655381\tbest: 0.4631718 (241)\ttotal: 6.71s\tremaining: 8.97s\n",
      "428:\tlearn: 0.2350012\ttest: 0.4651615\tbest: 0.4631718 (241)\ttotal: 6.73s\tremaining: 8.96s\n",
      "429:\tlearn: 0.2345934\ttest: 0.4650545\tbest: 0.4631718 (241)\ttotal: 6.75s\tremaining: 8.95s\n",
      "430:\tlearn: 0.2343105\ttest: 0.4645564\tbest: 0.4631718 (241)\ttotal: 6.77s\tremaining: 8.94s\n",
      "431:\tlearn: 0.2341157\ttest: 0.4644400\tbest: 0.4631718 (241)\ttotal: 6.79s\tremaining: 8.93s\n",
      "432:\tlearn: 0.2336100\ttest: 0.4652527\tbest: 0.4631718 (241)\ttotal: 6.8s\tremaining: 8.91s\n",
      "433:\tlearn: 0.2335452\ttest: 0.4651125\tbest: 0.4631718 (241)\ttotal: 6.82s\tremaining: 8.9s\n",
      "434:\tlearn: 0.2333085\ttest: 0.4649596\tbest: 0.4631718 (241)\ttotal: 6.84s\tremaining: 8.89s\n",
      "435:\tlearn: 0.2330905\ttest: 0.4647752\tbest: 0.4631718 (241)\ttotal: 6.86s\tremaining: 8.87s\n",
      "436:\tlearn: 0.2327676\ttest: 0.4647558\tbest: 0.4631718 (241)\ttotal: 6.87s\tremaining: 8.85s\n",
      "437:\tlearn: 0.2325546\ttest: 0.4649155\tbest: 0.4631718 (241)\ttotal: 6.88s\tremaining: 8.83s\n",
      "438:\tlearn: 0.2324175\ttest: 0.4649033\tbest: 0.4631718 (241)\ttotal: 6.9s\tremaining: 8.82s\n",
      "439:\tlearn: 0.2320611\ttest: 0.4650960\tbest: 0.4631718 (241)\ttotal: 6.92s\tremaining: 8.81s\n",
      "440:\tlearn: 0.2314477\ttest: 0.4652714\tbest: 0.4631718 (241)\ttotal: 6.95s\tremaining: 8.81s\n",
      "441:\tlearn: 0.2311160\ttest: 0.4650613\tbest: 0.4631718 (241)\ttotal: 6.96s\tremaining: 8.79s\n",
      "442:\tlearn: 0.2307307\ttest: 0.4652338\tbest: 0.4631718 (241)\ttotal: 6.98s\tremaining: 8.78s\n",
      "443:\tlearn: 0.2306927\ttest: 0.4653445\tbest: 0.4631718 (241)\ttotal: 7s\tremaining: 8.76s\n",
      "444:\tlearn: 0.2305205\ttest: 0.4653808\tbest: 0.4631718 (241)\ttotal: 7.01s\tremaining: 8.75s\n",
      "445:\tlearn: 0.2303448\ttest: 0.4653086\tbest: 0.4631718 (241)\ttotal: 7.03s\tremaining: 8.73s\n",
      "446:\tlearn: 0.2302523\ttest: 0.4652942\tbest: 0.4631718 (241)\ttotal: 7.05s\tremaining: 8.72s\n",
      "447:\tlearn: 0.2299226\ttest: 0.4656888\tbest: 0.4631718 (241)\ttotal: 7.08s\tremaining: 8.72s\n",
      "448:\tlearn: 0.2299045\ttest: 0.4656667\tbest: 0.4631718 (241)\ttotal: 7.1s\tremaining: 8.71s\n",
      "449:\tlearn: 0.2297876\ttest: 0.4659522\tbest: 0.4631718 (241)\ttotal: 7.11s\tremaining: 8.7s\n",
      "450:\tlearn: 0.2291059\ttest: 0.4655085\tbest: 0.4631718 (241)\ttotal: 7.13s\tremaining: 8.68s\n",
      "451:\tlearn: 0.2290630\ttest: 0.4654620\tbest: 0.4631718 (241)\ttotal: 7.15s\tremaining: 8.67s\n",
      "452:\tlearn: 0.2289519\ttest: 0.4655044\tbest: 0.4631718 (241)\ttotal: 7.18s\tremaining: 8.66s\n",
      "453:\tlearn: 0.2288064\ttest: 0.4654934\tbest: 0.4631718 (241)\ttotal: 7.2s\tremaining: 8.66s\n",
      "454:\tlearn: 0.2284576\ttest: 0.4654854\tbest: 0.4631718 (241)\ttotal: 7.22s\tremaining: 8.64s\n",
      "455:\tlearn: 0.2282612\ttest: 0.4655574\tbest: 0.4631718 (241)\ttotal: 7.24s\tremaining: 8.63s\n",
      "456:\tlearn: 0.2279258\ttest: 0.4658036\tbest: 0.4631718 (241)\ttotal: 7.25s\tremaining: 8.62s\n",
      "457:\tlearn: 0.2278854\ttest: 0.4657530\tbest: 0.4631718 (241)\ttotal: 7.27s\tremaining: 8.6s\n",
      "458:\tlearn: 0.2277621\ttest: 0.4656491\tbest: 0.4631718 (241)\ttotal: 7.29s\tremaining: 8.59s\n",
      "459:\tlearn: 0.2275847\ttest: 0.4653952\tbest: 0.4631718 (241)\ttotal: 7.31s\tremaining: 8.58s\n",
      "460:\tlearn: 0.2275367\ttest: 0.4654494\tbest: 0.4631718 (241)\ttotal: 7.33s\tremaining: 8.57s\n",
      "461:\tlearn: 0.2275151\ttest: 0.4654346\tbest: 0.4631718 (241)\ttotal: 7.35s\tremaining: 8.56s\n",
      "462:\tlearn: 0.2270510\ttest: 0.4655577\tbest: 0.4631718 (241)\ttotal: 7.37s\tremaining: 8.54s\n",
      "463:\tlearn: 0.2266887\ttest: 0.4660138\tbest: 0.4631718 (241)\ttotal: 7.39s\tremaining: 8.54s\n",
      "464:\tlearn: 0.2261383\ttest: 0.4663717\tbest: 0.4631718 (241)\ttotal: 7.41s\tremaining: 8.53s\n",
      "465:\tlearn: 0.2258466\ttest: 0.4663870\tbest: 0.4631718 (241)\ttotal: 7.43s\tremaining: 8.51s\n",
      "466:\tlearn: 0.2256110\ttest: 0.4664160\tbest: 0.4631718 (241)\ttotal: 7.45s\tremaining: 8.5s\n",
      "467:\tlearn: 0.2251393\ttest: 0.4667499\tbest: 0.4631718 (241)\ttotal: 7.47s\tremaining: 8.49s\n",
      "468:\tlearn: 0.2249713\ttest: 0.4669365\tbest: 0.4631718 (241)\ttotal: 7.49s\tremaining: 8.48s\n",
      "469:\tlearn: 0.2249028\ttest: 0.4668978\tbest: 0.4631718 (241)\ttotal: 7.51s\tremaining: 8.47s\n",
      "470:\tlearn: 0.2247499\ttest: 0.4670160\tbest: 0.4631718 (241)\ttotal: 7.53s\tremaining: 8.46s\n",
      "471:\tlearn: 0.2244679\ttest: 0.4671976\tbest: 0.4631718 (241)\ttotal: 7.55s\tremaining: 8.45s\n",
      "472:\tlearn: 0.2239588\ttest: 0.4669197\tbest: 0.4631718 (241)\ttotal: 7.57s\tremaining: 8.43s\n",
      "473:\tlearn: 0.2238838\ttest: 0.4669855\tbest: 0.4631718 (241)\ttotal: 7.58s\tremaining: 8.41s\n",
      "474:\tlearn: 0.2236488\ttest: 0.4668942\tbest: 0.4631718 (241)\ttotal: 7.6s\tremaining: 8.4s\n",
      "475:\tlearn: 0.2235703\ttest: 0.4668637\tbest: 0.4631718 (241)\ttotal: 7.62s\tremaining: 8.39s\n",
      "476:\tlearn: 0.2235538\ttest: 0.4668439\tbest: 0.4631718 (241)\ttotal: 7.64s\tremaining: 8.38s\n",
      "477:\tlearn: 0.2232266\ttest: 0.4667219\tbest: 0.4631718 (241)\ttotal: 7.66s\tremaining: 8.36s\n",
      "478:\tlearn: 0.2227508\ttest: 0.4668741\tbest: 0.4631718 (241)\ttotal: 7.68s\tremaining: 8.35s\n",
      "479:\tlearn: 0.2226764\ttest: 0.4669321\tbest: 0.4631718 (241)\ttotal: 7.69s\tremaining: 8.33s\n",
      "480:\tlearn: 0.2225454\ttest: 0.4669856\tbest: 0.4631718 (241)\ttotal: 7.71s\tremaining: 8.32s\n",
      "481:\tlearn: 0.2223202\ttest: 0.4667773\tbest: 0.4631718 (241)\ttotal: 7.73s\tremaining: 8.31s\n",
      "482:\tlearn: 0.2222573\ttest: 0.4669808\tbest: 0.4631718 (241)\ttotal: 7.74s\tremaining: 8.28s\n",
      "483:\tlearn: 0.2220370\ttest: 0.4667292\tbest: 0.4631718 (241)\ttotal: 7.75s\tremaining: 8.26s\n"
     ]
    },
    {
     "name": "stdout",
     "output_type": "stream",
     "text": [
      "484:\tlearn: 0.2217705\ttest: 0.4666818\tbest: 0.4631718 (241)\ttotal: 7.76s\tremaining: 8.24s\n",
      "485:\tlearn: 0.2215942\ttest: 0.4666802\tbest: 0.4631718 (241)\ttotal: 7.78s\tremaining: 8.23s\n",
      "486:\tlearn: 0.2213157\ttest: 0.4665956\tbest: 0.4631718 (241)\ttotal: 7.8s\tremaining: 8.22s\n",
      "487:\tlearn: 0.2210594\ttest: 0.4664525\tbest: 0.4631718 (241)\ttotal: 7.82s\tremaining: 8.21s\n",
      "488:\tlearn: 0.2206283\ttest: 0.4665328\tbest: 0.4631718 (241)\ttotal: 7.84s\tremaining: 8.19s\n",
      "489:\tlearn: 0.2199419\ttest: 0.4671534\tbest: 0.4631718 (241)\ttotal: 7.86s\tremaining: 8.18s\n",
      "490:\tlearn: 0.2198899\ttest: 0.4672020\tbest: 0.4631718 (241)\ttotal: 7.87s\tremaining: 8.16s\n",
      "491:\tlearn: 0.2196549\ttest: 0.4672765\tbest: 0.4631718 (241)\ttotal: 7.88s\tremaining: 8.14s\n",
      "492:\tlearn: 0.2191322\ttest: 0.4672219\tbest: 0.4631718 (241)\ttotal: 7.9s\tremaining: 8.12s\n",
      "493:\tlearn: 0.2186208\ttest: 0.4670487\tbest: 0.4631718 (241)\ttotal: 7.92s\tremaining: 8.11s\n",
      "494:\tlearn: 0.2181655\ttest: 0.4669192\tbest: 0.4631718 (241)\ttotal: 7.93s\tremaining: 8.1s\n",
      "495:\tlearn: 0.2179727\ttest: 0.4668238\tbest: 0.4631718 (241)\ttotal: 7.95s\tremaining: 8.08s\n",
      "496:\tlearn: 0.2177084\ttest: 0.4667285\tbest: 0.4631718 (241)\ttotal: 7.97s\tremaining: 8.06s\n",
      "497:\tlearn: 0.2174402\ttest: 0.4665802\tbest: 0.4631718 (241)\ttotal: 7.99s\tremaining: 8.05s\n",
      "498:\tlearn: 0.2172575\ttest: 0.4668014\tbest: 0.4631718 (241)\ttotal: 8.01s\tremaining: 8.04s\n",
      "499:\tlearn: 0.2171652\ttest: 0.4667559\tbest: 0.4631718 (241)\ttotal: 8.03s\tremaining: 8.03s\n",
      "500:\tlearn: 0.2170984\ttest: 0.4667968\tbest: 0.4631718 (241)\ttotal: 8.04s\tremaining: 8.01s\n",
      "501:\tlearn: 0.2167357\ttest: 0.4668191\tbest: 0.4631718 (241)\ttotal: 8.06s\tremaining: 8s\n",
      "502:\tlearn: 0.2167168\ttest: 0.4668183\tbest: 0.4631718 (241)\ttotal: 8.08s\tremaining: 7.98s\n",
      "503:\tlearn: 0.2166630\ttest: 0.4670116\tbest: 0.4631718 (241)\ttotal: 8.09s\tremaining: 7.96s\n",
      "504:\tlearn: 0.2166456\ttest: 0.4669882\tbest: 0.4631718 (241)\ttotal: 8.11s\tremaining: 7.95s\n",
      "505:\tlearn: 0.2164249\ttest: 0.4666731\tbest: 0.4631718 (241)\ttotal: 8.13s\tremaining: 7.94s\n",
      "506:\tlearn: 0.2164142\ttest: 0.4666644\tbest: 0.4631718 (241)\ttotal: 8.15s\tremaining: 7.93s\n",
      "507:\tlearn: 0.2161818\ttest: 0.4664231\tbest: 0.4631718 (241)\ttotal: 8.17s\tremaining: 7.91s\n",
      "508:\tlearn: 0.2161577\ttest: 0.4664960\tbest: 0.4631718 (241)\ttotal: 8.19s\tremaining: 7.89s\n",
      "509:\tlearn: 0.2160904\ttest: 0.4664764\tbest: 0.4631718 (241)\ttotal: 8.21s\tremaining: 7.88s\n",
      "510:\tlearn: 0.2160447\ttest: 0.4664401\tbest: 0.4631718 (241)\ttotal: 8.22s\tremaining: 7.87s\n",
      "511:\tlearn: 0.2160340\ttest: 0.4664634\tbest: 0.4631718 (241)\ttotal: 8.23s\tremaining: 7.85s\n",
      "512:\tlearn: 0.2153461\ttest: 0.4664662\tbest: 0.4631718 (241)\ttotal: 8.25s\tremaining: 7.83s\n",
      "513:\tlearn: 0.2146083\ttest: 0.4665418\tbest: 0.4631718 (241)\ttotal: 8.27s\tremaining: 7.82s\n",
      "514:\tlearn: 0.2144021\ttest: 0.4664012\tbest: 0.4631718 (241)\ttotal: 8.28s\tremaining: 7.8s\n",
      "515:\tlearn: 0.2141248\ttest: 0.4662783\tbest: 0.4631718 (241)\ttotal: 8.3s\tremaining: 7.79s\n",
      "516:\tlearn: 0.2140384\ttest: 0.4662911\tbest: 0.4631718 (241)\ttotal: 8.32s\tremaining: 7.78s\n",
      "517:\tlearn: 0.2139280\ttest: 0.4662567\tbest: 0.4631718 (241)\ttotal: 8.34s\tremaining: 7.76s\n",
      "518:\tlearn: 0.2138312\ttest: 0.4662666\tbest: 0.4631718 (241)\ttotal: 8.35s\tremaining: 7.74s\n",
      "519:\tlearn: 0.2137790\ttest: 0.4663012\tbest: 0.4631718 (241)\ttotal: 8.38s\tremaining: 7.74s\n",
      "520:\tlearn: 0.2134576\ttest: 0.4663353\tbest: 0.4631718 (241)\ttotal: 8.4s\tremaining: 7.72s\n",
      "521:\tlearn: 0.2133869\ttest: 0.4657829\tbest: 0.4631718 (241)\ttotal: 8.42s\tremaining: 7.71s\n",
      "522:\tlearn: 0.2130965\ttest: 0.4655880\tbest: 0.4631718 (241)\ttotal: 8.43s\tremaining: 7.69s\n",
      "523:\tlearn: 0.2129992\ttest: 0.4654879\tbest: 0.4631718 (241)\ttotal: 8.44s\tremaining: 7.67s\n",
      "524:\tlearn: 0.2127369\ttest: 0.4656798\tbest: 0.4631718 (241)\ttotal: 8.46s\tremaining: 7.66s\n",
      "525:\tlearn: 0.2126918\ttest: 0.4656843\tbest: 0.4631718 (241)\ttotal: 8.48s\tremaining: 7.64s\n",
      "526:\tlearn: 0.2124854\ttest: 0.4659906\tbest: 0.4631718 (241)\ttotal: 8.49s\tremaining: 7.62s\n",
      "527:\tlearn: 0.2124759\ttest: 0.4659830\tbest: 0.4631718 (241)\ttotal: 8.51s\tremaining: 7.61s\n",
      "528:\tlearn: 0.2123532\ttest: 0.4660073\tbest: 0.4631718 (241)\ttotal: 8.52s\tremaining: 7.58s\n",
      "529:\tlearn: 0.2120716\ttest: 0.4657464\tbest: 0.4631718 (241)\ttotal: 8.54s\tremaining: 7.57s\n",
      "530:\tlearn: 0.2119489\ttest: 0.4656520\tbest: 0.4631718 (241)\ttotal: 8.55s\tremaining: 7.55s\n",
      "531:\tlearn: 0.2117250\ttest: 0.4655737\tbest: 0.4631718 (241)\ttotal: 8.56s\tremaining: 7.53s\n",
      "532:\tlearn: 0.2114834\ttest: 0.4655421\tbest: 0.4631718 (241)\ttotal: 8.58s\tremaining: 7.51s\n",
      "533:\tlearn: 0.2112486\ttest: 0.4653780\tbest: 0.4631718 (241)\ttotal: 8.59s\tremaining: 7.5s\n",
      "534:\tlearn: 0.2110516\ttest: 0.4655538\tbest: 0.4631718 (241)\ttotal: 8.61s\tremaining: 7.48s\n",
      "535:\tlearn: 0.2108237\ttest: 0.4656164\tbest: 0.4631718 (241)\ttotal: 8.63s\tremaining: 7.47s\n",
      "536:\tlearn: 0.2107063\ttest: 0.4656413\tbest: 0.4631718 (241)\ttotal: 8.65s\tremaining: 7.46s\n",
      "537:\tlearn: 0.2104643\ttest: 0.4658936\tbest: 0.4631718 (241)\ttotal: 8.67s\tremaining: 7.44s\n",
      "538:\tlearn: 0.2104514\ttest: 0.4658716\tbest: 0.4631718 (241)\ttotal: 8.68s\tremaining: 7.42s\n",
      "539:\tlearn: 0.2103142\ttest: 0.4661418\tbest: 0.4631718 (241)\ttotal: 8.7s\tremaining: 7.41s\n",
      "540:\tlearn: 0.2100059\ttest: 0.4659269\tbest: 0.4631718 (241)\ttotal: 8.72s\tremaining: 7.39s\n",
      "541:\tlearn: 0.2098062\ttest: 0.4662271\tbest: 0.4631718 (241)\ttotal: 8.74s\tremaining: 7.38s\n",
      "542:\tlearn: 0.2094070\ttest: 0.4664783\tbest: 0.4631718 (241)\ttotal: 8.75s\tremaining: 7.37s\n",
      "543:\tlearn: 0.2092735\ttest: 0.4666795\tbest: 0.4631718 (241)\ttotal: 8.77s\tremaining: 7.35s\n",
      "544:\tlearn: 0.2092219\ttest: 0.4668769\tbest: 0.4631718 (241)\ttotal: 8.8s\tremaining: 7.35s\n",
      "545:\tlearn: 0.2092126\ttest: 0.4668717\tbest: 0.4631718 (241)\ttotal: 8.82s\tremaining: 7.34s\n",
      "546:\tlearn: 0.2087540\ttest: 0.4669451\tbest: 0.4631718 (241)\ttotal: 8.84s\tremaining: 7.32s\n",
      "547:\tlearn: 0.2087011\ttest: 0.4668943\tbest: 0.4631718 (241)\ttotal: 8.86s\tremaining: 7.31s\n",
      "548:\tlearn: 0.2084666\ttest: 0.4671571\tbest: 0.4631718 (241)\ttotal: 8.88s\tremaining: 7.29s\n",
      "549:\tlearn: 0.2082164\ttest: 0.4672111\tbest: 0.4631718 (241)\ttotal: 8.89s\tremaining: 7.28s\n",
      "550:\tlearn: 0.2081847\ttest: 0.4671792\tbest: 0.4631718 (241)\ttotal: 8.91s\tremaining: 7.26s\n",
      "551:\tlearn: 0.2078406\ttest: 0.4677052\tbest: 0.4631718 (241)\ttotal: 8.93s\tremaining: 7.25s\n",
      "552:\tlearn: 0.2076753\ttest: 0.4679851\tbest: 0.4631718 (241)\ttotal: 8.95s\tremaining: 7.23s\n",
      "553:\tlearn: 0.2076637\ttest: 0.4680102\tbest: 0.4631718 (241)\ttotal: 8.97s\tremaining: 7.22s\n",
      "554:\tlearn: 0.2075748\ttest: 0.4680949\tbest: 0.4631718 (241)\ttotal: 8.98s\tremaining: 7.2s\n",
      "555:\tlearn: 0.2073749\ttest: 0.4681863\tbest: 0.4631718 (241)\ttotal: 9.01s\tremaining: 7.19s\n",
      "556:\tlearn: 0.2069457\ttest: 0.4681710\tbest: 0.4631718 (241)\ttotal: 9.02s\tremaining: 7.18s\n",
      "557:\tlearn: 0.2066568\ttest: 0.4679683\tbest: 0.4631718 (241)\ttotal: 9.04s\tremaining: 7.16s\n",
      "558:\tlearn: 0.2064505\ttest: 0.4679869\tbest: 0.4631718 (241)\ttotal: 9.06s\tremaining: 7.15s\n",
      "559:\tlearn: 0.2064419\ttest: 0.4680088\tbest: 0.4631718 (241)\ttotal: 9.07s\tremaining: 7.13s\n",
      "560:\tlearn: 0.2061711\ttest: 0.4674971\tbest: 0.4631718 (241)\ttotal: 9.09s\tremaining: 7.11s\n",
      "561:\tlearn: 0.2058091\ttest: 0.4674260\tbest: 0.4631718 (241)\ttotal: 9.11s\tremaining: 7.1s\n",
      "562:\tlearn: 0.2054700\ttest: 0.4677519\tbest: 0.4631718 (241)\ttotal: 9.12s\tremaining: 7.08s\n",
      "563:\tlearn: 0.2049343\ttest: 0.4672948\tbest: 0.4631718 (241)\ttotal: 9.14s\tremaining: 7.07s\n",
      "564:\tlearn: 0.2046392\ttest: 0.4672034\tbest: 0.4631718 (241)\ttotal: 9.16s\tremaining: 7.05s\n",
      "565:\tlearn: 0.2045224\ttest: 0.4673029\tbest: 0.4631718 (241)\ttotal: 9.19s\tremaining: 7.04s\n",
      "566:\tlearn: 0.2041587\ttest: 0.4678681\tbest: 0.4631718 (241)\ttotal: 9.21s\tremaining: 7.03s\n",
      "567:\tlearn: 0.2038689\ttest: 0.4675780\tbest: 0.4631718 (241)\ttotal: 9.23s\tremaining: 7.02s\n",
      "568:\tlearn: 0.2035545\ttest: 0.4680347\tbest: 0.4631718 (241)\ttotal: 9.24s\tremaining: 7s\n",
      "569:\tlearn: 0.2032901\ttest: 0.4683865\tbest: 0.4631718 (241)\ttotal: 9.26s\tremaining: 6.99s\n",
      "570:\tlearn: 0.2026126\ttest: 0.4681515\tbest: 0.4631718 (241)\ttotal: 9.28s\tremaining: 6.97s\n",
      "571:\tlearn: 0.2022151\ttest: 0.4681429\tbest: 0.4631718 (241)\ttotal: 9.3s\tremaining: 6.96s\n",
      "572:\tlearn: 0.2021777\ttest: 0.4681637\tbest: 0.4631718 (241)\ttotal: 9.32s\tremaining: 6.94s\n",
      "573:\tlearn: 0.2020158\ttest: 0.4681812\tbest: 0.4631718 (241)\ttotal: 9.34s\tremaining: 6.93s\n",
      "574:\tlearn: 0.2018963\ttest: 0.4684329\tbest: 0.4631718 (241)\ttotal: 9.35s\tremaining: 6.91s\n",
      "575:\tlearn: 0.2017289\ttest: 0.4685951\tbest: 0.4631718 (241)\ttotal: 9.37s\tremaining: 6.89s\n",
      "576:\tlearn: 0.2015962\ttest: 0.4685273\tbest: 0.4631718 (241)\ttotal: 9.38s\tremaining: 6.88s\n",
      "577:\tlearn: 0.2012462\ttest: 0.4686124\tbest: 0.4631718 (241)\ttotal: 9.41s\tremaining: 6.87s\n",
      "578:\tlearn: 0.2011934\ttest: 0.4686183\tbest: 0.4631718 (241)\ttotal: 9.42s\tremaining: 6.85s\n",
      "579:\tlearn: 0.2008267\ttest: 0.4690276\tbest: 0.4631718 (241)\ttotal: 9.44s\tremaining: 6.84s\n",
      "580:\tlearn: 0.2004576\ttest: 0.4688990\tbest: 0.4631718 (241)\ttotal: 9.46s\tremaining: 6.82s\n",
      "581:\tlearn: 0.2001960\ttest: 0.4687438\tbest: 0.4631718 (241)\ttotal: 9.51s\tremaining: 6.83s\n",
      "582:\tlearn: 0.1995342\ttest: 0.4692345\tbest: 0.4631718 (241)\ttotal: 9.52s\tremaining: 6.81s\n",
      "583:\tlearn: 0.1993957\ttest: 0.4693513\tbest: 0.4631718 (241)\ttotal: 9.54s\tremaining: 6.79s\n",
      "584:\tlearn: 0.1993860\ttest: 0.4694015\tbest: 0.4631718 (241)\ttotal: 9.56s\tremaining: 6.78s\n"
     ]
    },
    {
     "name": "stdout",
     "output_type": "stream",
     "text": [
      "585:\tlearn: 0.1990138\ttest: 0.4692822\tbest: 0.4631718 (241)\ttotal: 9.58s\tremaining: 6.77s\n",
      "586:\tlearn: 0.1988735\ttest: 0.4691996\tbest: 0.4631718 (241)\ttotal: 9.6s\tremaining: 6.75s\n",
      "587:\tlearn: 0.1985867\ttest: 0.4693015\tbest: 0.4631718 (241)\ttotal: 9.62s\tremaining: 6.74s\n",
      "588:\tlearn: 0.1982422\ttest: 0.4689274\tbest: 0.4631718 (241)\ttotal: 9.63s\tremaining: 6.72s\n",
      "589:\tlearn: 0.1981414\ttest: 0.4688989\tbest: 0.4631718 (241)\ttotal: 9.65s\tremaining: 6.71s\n",
      "590:\tlearn: 0.1980615\ttest: 0.4688615\tbest: 0.4631718 (241)\ttotal: 9.66s\tremaining: 6.69s\n",
      "591:\tlearn: 0.1978709\ttest: 0.4687524\tbest: 0.4631718 (241)\ttotal: 9.68s\tremaining: 6.67s\n",
      "592:\tlearn: 0.1976247\ttest: 0.4690688\tbest: 0.4631718 (241)\ttotal: 9.7s\tremaining: 6.66s\n",
      "593:\tlearn: 0.1973927\ttest: 0.4689486\tbest: 0.4631718 (241)\ttotal: 9.71s\tremaining: 6.64s\n",
      "594:\tlearn: 0.1973432\ttest: 0.4689562\tbest: 0.4631718 (241)\ttotal: 9.73s\tremaining: 6.62s\n",
      "595:\tlearn: 0.1972460\ttest: 0.4690807\tbest: 0.4631718 (241)\ttotal: 9.75s\tremaining: 6.61s\n",
      "596:\tlearn: 0.1971549\ttest: 0.4690726\tbest: 0.4631718 (241)\ttotal: 9.76s\tremaining: 6.59s\n",
      "597:\tlearn: 0.1966075\ttest: 0.4688357\tbest: 0.4631718 (241)\ttotal: 9.78s\tremaining: 6.57s\n",
      "598:\tlearn: 0.1963395\ttest: 0.4694798\tbest: 0.4631718 (241)\ttotal: 9.8s\tremaining: 6.56s\n",
      "599:\tlearn: 0.1960838\ttest: 0.4695059\tbest: 0.4631718 (241)\ttotal: 9.82s\tremaining: 6.54s\n",
      "600:\tlearn: 0.1960078\ttest: 0.4698244\tbest: 0.4631718 (241)\ttotal: 9.84s\tremaining: 6.53s\n",
      "601:\tlearn: 0.1955985\ttest: 0.4701362\tbest: 0.4631718 (241)\ttotal: 9.86s\tremaining: 6.52s\n",
      "602:\tlearn: 0.1953269\ttest: 0.4711732\tbest: 0.4631718 (241)\ttotal: 9.88s\tremaining: 6.5s\n",
      "603:\tlearn: 0.1950786\ttest: 0.4710897\tbest: 0.4631718 (241)\ttotal: 9.89s\tremaining: 6.49s\n",
      "604:\tlearn: 0.1949332\ttest: 0.4710957\tbest: 0.4631718 (241)\ttotal: 9.91s\tremaining: 6.47s\n",
      "605:\tlearn: 0.1948404\ttest: 0.4713014\tbest: 0.4631718 (241)\ttotal: 9.93s\tremaining: 6.45s\n",
      "606:\tlearn: 0.1945208\ttest: 0.4717597\tbest: 0.4631718 (241)\ttotal: 9.94s\tremaining: 6.44s\n",
      "607:\tlearn: 0.1943909\ttest: 0.4717942\tbest: 0.4631718 (241)\ttotal: 9.96s\tremaining: 6.42s\n",
      "608:\tlearn: 0.1940817\ttest: 0.4715538\tbest: 0.4631718 (241)\ttotal: 9.97s\tremaining: 6.4s\n",
      "609:\tlearn: 0.1938133\ttest: 0.4712779\tbest: 0.4631718 (241)\ttotal: 9.99s\tremaining: 6.39s\n",
      "610:\tlearn: 0.1937698\ttest: 0.4709844\tbest: 0.4631718 (241)\ttotal: 10s\tremaining: 6.37s\n",
      "611:\tlearn: 0.1937582\ttest: 0.4709071\tbest: 0.4631718 (241)\ttotal: 10s\tremaining: 6.36s\n",
      "612:\tlearn: 0.1931721\ttest: 0.4712373\tbest: 0.4631718 (241)\ttotal: 10s\tremaining: 6.34s\n",
      "613:\tlearn: 0.1929284\ttest: 0.4710180\tbest: 0.4631718 (241)\ttotal: 10.1s\tremaining: 6.33s\n",
      "614:\tlearn: 0.1928949\ttest: 0.4709597\tbest: 0.4631718 (241)\ttotal: 10.1s\tremaining: 6.31s\n",
      "615:\tlearn: 0.1928567\ttest: 0.4709936\tbest: 0.4631718 (241)\ttotal: 10.1s\tremaining: 6.3s\n",
      "616:\tlearn: 0.1928174\ttest: 0.4709955\tbest: 0.4631718 (241)\ttotal: 10.1s\tremaining: 6.28s\n",
      "617:\tlearn: 0.1926645\ttest: 0.4710155\tbest: 0.4631718 (241)\ttotal: 10.1s\tremaining: 6.26s\n",
      "618:\tlearn: 0.1924940\ttest: 0.4710295\tbest: 0.4631718 (241)\ttotal: 10.2s\tremaining: 6.25s\n",
      "619:\tlearn: 0.1922314\ttest: 0.4710857\tbest: 0.4631718 (241)\ttotal: 10.2s\tremaining: 6.23s\n",
      "620:\tlearn: 0.1916671\ttest: 0.4711053\tbest: 0.4631718 (241)\ttotal: 10.2s\tremaining: 6.22s\n",
      "621:\tlearn: 0.1915984\ttest: 0.4709919\tbest: 0.4631718 (241)\ttotal: 10.2s\tremaining: 6.2s\n",
      "622:\tlearn: 0.1915411\ttest: 0.4709682\tbest: 0.4631718 (241)\ttotal: 10.2s\tremaining: 6.19s\n",
      "623:\tlearn: 0.1913765\ttest: 0.4709889\tbest: 0.4631718 (241)\ttotal: 10.2s\tremaining: 6.17s\n",
      "624:\tlearn: 0.1910460\ttest: 0.4709016\tbest: 0.4631718 (241)\ttotal: 10.3s\tremaining: 6.16s\n",
      "625:\tlearn: 0.1908551\ttest: 0.4704541\tbest: 0.4631718 (241)\ttotal: 10.3s\tremaining: 6.14s\n",
      "626:\tlearn: 0.1904054\ttest: 0.4700491\tbest: 0.4631718 (241)\ttotal: 10.3s\tremaining: 6.13s\n",
      "627:\tlearn: 0.1903575\ttest: 0.4700499\tbest: 0.4631718 (241)\ttotal: 10.3s\tremaining: 6.11s\n",
      "628:\tlearn: 0.1898256\ttest: 0.4700822\tbest: 0.4631718 (241)\ttotal: 10.3s\tremaining: 6.1s\n",
      "629:\tlearn: 0.1896532\ttest: 0.4703088\tbest: 0.4631718 (241)\ttotal: 10.4s\tremaining: 6.08s\n",
      "630:\tlearn: 0.1892421\ttest: 0.4702151\tbest: 0.4631718 (241)\ttotal: 10.4s\tremaining: 6.07s\n",
      "631:\tlearn: 0.1882743\ttest: 0.4705656\tbest: 0.4631718 (241)\ttotal: 10.4s\tremaining: 6.05s\n",
      "632:\tlearn: 0.1881504\ttest: 0.4707926\tbest: 0.4631718 (241)\ttotal: 10.4s\tremaining: 6.04s\n",
      "633:\tlearn: 0.1875409\ttest: 0.4715144\tbest: 0.4631718 (241)\ttotal: 10.4s\tremaining: 6.02s\n",
      "634:\tlearn: 0.1874203\ttest: 0.4714875\tbest: 0.4631718 (241)\ttotal: 10.5s\tremaining: 6.01s\n",
      "635:\tlearn: 0.1872235\ttest: 0.4720299\tbest: 0.4631718 (241)\ttotal: 10.5s\tremaining: 5.99s\n",
      "636:\tlearn: 0.1869647\ttest: 0.4721480\tbest: 0.4631718 (241)\ttotal: 10.5s\tremaining: 5.97s\n",
      "637:\tlearn: 0.1867475\ttest: 0.4719557\tbest: 0.4631718 (241)\ttotal: 10.5s\tremaining: 5.96s\n",
      "638:\tlearn: 0.1866059\ttest: 0.4718670\tbest: 0.4631718 (241)\ttotal: 10.5s\tremaining: 5.95s\n",
      "639:\tlearn: 0.1863991\ttest: 0.4715362\tbest: 0.4631718 (241)\ttotal: 10.5s\tremaining: 5.93s\n",
      "640:\tlearn: 0.1861539\ttest: 0.4710865\tbest: 0.4631718 (241)\ttotal: 10.6s\tremaining: 5.92s\n",
      "641:\tlearn: 0.1859617\ttest: 0.4709729\tbest: 0.4631718 (241)\ttotal: 10.6s\tremaining: 5.9s\n",
      "642:\tlearn: 0.1856511\ttest: 0.4712205\tbest: 0.4631718 (241)\ttotal: 10.6s\tremaining: 5.89s\n",
      "643:\tlearn: 0.1854447\ttest: 0.4716520\tbest: 0.4631718 (241)\ttotal: 10.6s\tremaining: 5.87s\n",
      "644:\tlearn: 0.1851873\ttest: 0.4717324\tbest: 0.4631718 (241)\ttotal: 10.6s\tremaining: 5.86s\n",
      "645:\tlearn: 0.1851811\ttest: 0.4717279\tbest: 0.4631718 (241)\ttotal: 10.7s\tremaining: 5.84s\n",
      "646:\tlearn: 0.1849625\ttest: 0.4718680\tbest: 0.4631718 (241)\ttotal: 10.7s\tremaining: 5.83s\n",
      "647:\tlearn: 0.1846703\ttest: 0.4719928\tbest: 0.4631718 (241)\ttotal: 10.7s\tremaining: 5.81s\n",
      "648:\tlearn: 0.1845042\ttest: 0.4722715\tbest: 0.4631718 (241)\ttotal: 10.7s\tremaining: 5.79s\n",
      "649:\tlearn: 0.1844965\ttest: 0.4722823\tbest: 0.4631718 (241)\ttotal: 10.7s\tremaining: 5.77s\n",
      "650:\tlearn: 0.1842433\ttest: 0.4724209\tbest: 0.4631718 (241)\ttotal: 10.7s\tremaining: 5.76s\n",
      "651:\tlearn: 0.1839819\ttest: 0.4729274\tbest: 0.4631718 (241)\ttotal: 10.8s\tremaining: 5.74s\n",
      "652:\tlearn: 0.1839539\ttest: 0.4730595\tbest: 0.4631718 (241)\ttotal: 10.8s\tremaining: 5.72s\n",
      "653:\tlearn: 0.1838294\ttest: 0.4730312\tbest: 0.4631718 (241)\ttotal: 10.8s\tremaining: 5.71s\n",
      "654:\tlearn: 0.1837272\ttest: 0.4730217\tbest: 0.4631718 (241)\ttotal: 10.8s\tremaining: 5.69s\n",
      "655:\tlearn: 0.1835953\ttest: 0.4729276\tbest: 0.4631718 (241)\ttotal: 10.8s\tremaining: 5.68s\n",
      "656:\tlearn: 0.1835109\ttest: 0.4727370\tbest: 0.4631718 (241)\ttotal: 10.8s\tremaining: 5.66s\n",
      "657:\tlearn: 0.1833167\ttest: 0.4727459\tbest: 0.4631718 (241)\ttotal: 10.9s\tremaining: 5.65s\n",
      "658:\tlearn: 0.1832992\ttest: 0.4727919\tbest: 0.4631718 (241)\ttotal: 10.9s\tremaining: 5.63s\n",
      "659:\tlearn: 0.1829880\ttest: 0.4726566\tbest: 0.4631718 (241)\ttotal: 10.9s\tremaining: 5.62s\n",
      "660:\tlearn: 0.1828067\ttest: 0.4724330\tbest: 0.4631718 (241)\ttotal: 10.9s\tremaining: 5.6s\n",
      "661:\tlearn: 0.1825123\ttest: 0.4724527\tbest: 0.4631718 (241)\ttotal: 10.9s\tremaining: 5.58s\n",
      "662:\tlearn: 0.1822087\ttest: 0.4721556\tbest: 0.4631718 (241)\ttotal: 11s\tremaining: 5.57s\n",
      "663:\tlearn: 0.1818779\ttest: 0.4722078\tbest: 0.4631718 (241)\ttotal: 11s\tremaining: 5.55s\n",
      "664:\tlearn: 0.1817249\ttest: 0.4718587\tbest: 0.4631718 (241)\ttotal: 11s\tremaining: 5.54s\n",
      "665:\tlearn: 0.1815868\ttest: 0.4718536\tbest: 0.4631718 (241)\ttotal: 11s\tremaining: 5.52s\n",
      "666:\tlearn: 0.1815355\ttest: 0.4717135\tbest: 0.4631718 (241)\ttotal: 11s\tremaining: 5.51s\n",
      "667:\tlearn: 0.1812407\ttest: 0.4719067\tbest: 0.4631718 (241)\ttotal: 11s\tremaining: 5.49s\n",
      "668:\tlearn: 0.1810429\ttest: 0.4719892\tbest: 0.4631718 (241)\ttotal: 11.1s\tremaining: 5.47s\n",
      "669:\tlearn: 0.1809000\ttest: 0.4719908\tbest: 0.4631718 (241)\ttotal: 11.1s\tremaining: 5.46s\n",
      "670:\tlearn: 0.1808947\ttest: 0.4719987\tbest: 0.4631718 (241)\ttotal: 11.1s\tremaining: 5.44s\n",
      "671:\tlearn: 0.1805552\ttest: 0.4721601\tbest: 0.4631718 (241)\ttotal: 11.1s\tremaining: 5.42s\n",
      "672:\tlearn: 0.1804577\ttest: 0.4721590\tbest: 0.4631718 (241)\ttotal: 11.1s\tremaining: 5.4s\n",
      "673:\tlearn: 0.1803550\ttest: 0.4720017\tbest: 0.4631718 (241)\ttotal: 11.1s\tremaining: 5.38s\n",
      "674:\tlearn: 0.1803009\ttest: 0.4720187\tbest: 0.4631718 (241)\ttotal: 11.1s\tremaining: 5.37s\n",
      "675:\tlearn: 0.1800229\ttest: 0.4726802\tbest: 0.4631718 (241)\ttotal: 11.2s\tremaining: 5.35s\n",
      "676:\tlearn: 0.1799692\ttest: 0.4724453\tbest: 0.4631718 (241)\ttotal: 11.2s\tremaining: 5.34s\n"
     ]
    },
    {
     "name": "stdout",
     "output_type": "stream",
     "text": [
      "677:\tlearn: 0.1798992\ttest: 0.4724078\tbest: 0.4631718 (241)\ttotal: 11.2s\tremaining: 5.32s\n",
      "678:\tlearn: 0.1794462\ttest: 0.4722642\tbest: 0.4631718 (241)\ttotal: 11.2s\tremaining: 5.31s\n",
      "679:\tlearn: 0.1793873\ttest: 0.4723935\tbest: 0.4631718 (241)\ttotal: 11.2s\tremaining: 5.29s\n",
      "680:\tlearn: 0.1793017\ttest: 0.4725678\tbest: 0.4631718 (241)\ttotal: 11.3s\tremaining: 5.28s\n",
      "681:\tlearn: 0.1791738\ttest: 0.4727240\tbest: 0.4631718 (241)\ttotal: 11.3s\tremaining: 5.26s\n",
      "682:\tlearn: 0.1790112\ttest: 0.4728274\tbest: 0.4631718 (241)\ttotal: 11.3s\tremaining: 5.25s\n",
      "683:\tlearn: 0.1787506\ttest: 0.4735212\tbest: 0.4631718 (241)\ttotal: 11.3s\tremaining: 5.23s\n",
      "684:\tlearn: 0.1786406\ttest: 0.4735697\tbest: 0.4631718 (241)\ttotal: 11.3s\tremaining: 5.22s\n",
      "685:\tlearn: 0.1785785\ttest: 0.4732870\tbest: 0.4631718 (241)\ttotal: 11.4s\tremaining: 5.2s\n",
      "686:\tlearn: 0.1782335\ttest: 0.4732979\tbest: 0.4631718 (241)\ttotal: 11.4s\tremaining: 5.18s\n",
      "687:\tlearn: 0.1781185\ttest: 0.4732376\tbest: 0.4631718 (241)\ttotal: 11.4s\tremaining: 5.17s\n",
      "688:\tlearn: 0.1779817\ttest: 0.4732622\tbest: 0.4631718 (241)\ttotal: 11.4s\tremaining: 5.15s\n",
      "689:\tlearn: 0.1775962\ttest: 0.4739115\tbest: 0.4631718 (241)\ttotal: 11.4s\tremaining: 5.14s\n",
      "690:\tlearn: 0.1775793\ttest: 0.4738490\tbest: 0.4631718 (241)\ttotal: 11.5s\tremaining: 5.12s\n",
      "691:\tlearn: 0.1774420\ttest: 0.4737942\tbest: 0.4631718 (241)\ttotal: 11.5s\tremaining: 5.1s\n",
      "692:\tlearn: 0.1773256\ttest: 0.4740265\tbest: 0.4631718 (241)\ttotal: 11.5s\tremaining: 5.08s\n",
      "693:\tlearn: 0.1771164\ttest: 0.4742383\tbest: 0.4631718 (241)\ttotal: 11.5s\tremaining: 5.06s\n",
      "694:\tlearn: 0.1770966\ttest: 0.4742343\tbest: 0.4631718 (241)\ttotal: 11.5s\tremaining: 5.05s\n",
      "695:\tlearn: 0.1768398\ttest: 0.4744582\tbest: 0.4631718 (241)\ttotal: 11.5s\tremaining: 5.03s\n",
      "696:\tlearn: 0.1767299\ttest: 0.4745372\tbest: 0.4631718 (241)\ttotal: 11.5s\tremaining: 5.02s\n",
      "697:\tlearn: 0.1765607\ttest: 0.4742762\tbest: 0.4631718 (241)\ttotal: 11.6s\tremaining: 5s\n",
      "698:\tlearn: 0.1764850\ttest: 0.4742843\tbest: 0.4631718 (241)\ttotal: 11.6s\tremaining: 4.98s\n",
      "699:\tlearn: 0.1761019\ttest: 0.4751330\tbest: 0.4631718 (241)\ttotal: 11.6s\tremaining: 4.97s\n",
      "700:\tlearn: 0.1758909\ttest: 0.4753204\tbest: 0.4631718 (241)\ttotal: 11.6s\tremaining: 4.95s\n",
      "701:\tlearn: 0.1753357\ttest: 0.4755568\tbest: 0.4631718 (241)\ttotal: 11.6s\tremaining: 4.93s\n",
      "702:\tlearn: 0.1750558\ttest: 0.4753042\tbest: 0.4631718 (241)\ttotal: 11.6s\tremaining: 4.92s\n",
      "703:\tlearn: 0.1746711\ttest: 0.4748213\tbest: 0.4631718 (241)\ttotal: 11.7s\tremaining: 4.9s\n",
      "704:\tlearn: 0.1744605\ttest: 0.4747366\tbest: 0.4631718 (241)\ttotal: 11.7s\tremaining: 4.88s\n",
      "705:\tlearn: 0.1743295\ttest: 0.4747465\tbest: 0.4631718 (241)\ttotal: 11.7s\tremaining: 4.87s\n",
      "706:\tlearn: 0.1741253\ttest: 0.4750878\tbest: 0.4631718 (241)\ttotal: 11.7s\tremaining: 4.85s\n",
      "707:\tlearn: 0.1738236\ttest: 0.4747147\tbest: 0.4631718 (241)\ttotal: 11.7s\tremaining: 4.83s\n",
      "708:\tlearn: 0.1738185\ttest: 0.4746671\tbest: 0.4631718 (241)\ttotal: 11.7s\tremaining: 4.82s\n",
      "709:\tlearn: 0.1736198\ttest: 0.4748510\tbest: 0.4631718 (241)\ttotal: 11.8s\tremaining: 4.8s\n",
      "710:\tlearn: 0.1734624\ttest: 0.4749363\tbest: 0.4631718 (241)\ttotal: 11.8s\tremaining: 4.78s\n",
      "711:\tlearn: 0.1730164\ttest: 0.4751221\tbest: 0.4631718 (241)\ttotal: 11.8s\tremaining: 4.77s\n",
      "712:\tlearn: 0.1729354\ttest: 0.4750394\tbest: 0.4631718 (241)\ttotal: 11.8s\tremaining: 4.75s\n",
      "713:\tlearn: 0.1728257\ttest: 0.4749421\tbest: 0.4631718 (241)\ttotal: 11.8s\tremaining: 4.74s\n",
      "714:\tlearn: 0.1726202\ttest: 0.4745465\tbest: 0.4631718 (241)\ttotal: 11.8s\tremaining: 4.72s\n",
      "715:\tlearn: 0.1723142\ttest: 0.4748023\tbest: 0.4631718 (241)\ttotal: 11.9s\tremaining: 4.71s\n",
      "716:\tlearn: 0.1722770\ttest: 0.4747011\tbest: 0.4631718 (241)\ttotal: 11.9s\tremaining: 4.69s\n",
      "717:\tlearn: 0.1722429\ttest: 0.4745864\tbest: 0.4631718 (241)\ttotal: 11.9s\tremaining: 4.67s\n",
      "718:\tlearn: 0.1720686\ttest: 0.4750761\tbest: 0.4631718 (241)\ttotal: 11.9s\tremaining: 4.66s\n",
      "719:\tlearn: 0.1720582\ttest: 0.4751562\tbest: 0.4631718 (241)\ttotal: 11.9s\tremaining: 4.64s\n",
      "720:\tlearn: 0.1718727\ttest: 0.4753246\tbest: 0.4631718 (241)\ttotal: 11.9s\tremaining: 4.62s\n",
      "721:\tlearn: 0.1717709\ttest: 0.4755599\tbest: 0.4631718 (241)\ttotal: 12s\tremaining: 4.6s\n",
      "722:\tlearn: 0.1716938\ttest: 0.4755674\tbest: 0.4631718 (241)\ttotal: 12s\tremaining: 4.59s\n",
      "723:\tlearn: 0.1716756\ttest: 0.4755815\tbest: 0.4631718 (241)\ttotal: 12s\tremaining: 4.57s\n",
      "724:\tlearn: 0.1714336\ttest: 0.4758277\tbest: 0.4631718 (241)\ttotal: 12s\tremaining: 4.55s\n",
      "725:\tlearn: 0.1713223\ttest: 0.4754823\tbest: 0.4631718 (241)\ttotal: 12s\tremaining: 4.54s\n",
      "726:\tlearn: 0.1712846\ttest: 0.4754914\tbest: 0.4631718 (241)\ttotal: 12s\tremaining: 4.52s\n",
      "727:\tlearn: 0.1712143\ttest: 0.4754096\tbest: 0.4631718 (241)\ttotal: 12.1s\tremaining: 4.51s\n",
      "728:\tlearn: 0.1710835\ttest: 0.4754794\tbest: 0.4631718 (241)\ttotal: 12.1s\tremaining: 4.49s\n",
      "729:\tlearn: 0.1709239\ttest: 0.4752548\tbest: 0.4631718 (241)\ttotal: 12.1s\tremaining: 4.47s\n",
      "730:\tlearn: 0.1705729\ttest: 0.4751638\tbest: 0.4631718 (241)\ttotal: 12.1s\tremaining: 4.46s\n",
      "731:\tlearn: 0.1704065\ttest: 0.4750262\tbest: 0.4631718 (241)\ttotal: 12.1s\tremaining: 4.44s\n",
      "732:\tlearn: 0.1701995\ttest: 0.4752008\tbest: 0.4631718 (241)\ttotal: 12.1s\tremaining: 4.42s\n",
      "733:\tlearn: 0.1701176\ttest: 0.4751189\tbest: 0.4631718 (241)\ttotal: 12.2s\tremaining: 4.4s\n",
      "734:\tlearn: 0.1699296\ttest: 0.4752748\tbest: 0.4631718 (241)\ttotal: 12.2s\tremaining: 4.39s\n",
      "735:\tlearn: 0.1698689\ttest: 0.4753295\tbest: 0.4631718 (241)\ttotal: 12.2s\tremaining: 4.37s\n",
      "736:\tlearn: 0.1697540\ttest: 0.4750414\tbest: 0.4631718 (241)\ttotal: 12.2s\tremaining: 4.36s\n",
      "737:\tlearn: 0.1693069\ttest: 0.4756246\tbest: 0.4631718 (241)\ttotal: 12.2s\tremaining: 4.34s\n",
      "738:\tlearn: 0.1688758\ttest: 0.4758169\tbest: 0.4631718 (241)\ttotal: 12.2s\tremaining: 4.32s\n",
      "739:\tlearn: 0.1686809\ttest: 0.4757321\tbest: 0.4631718 (241)\ttotal: 12.3s\tremaining: 4.3s\n",
      "740:\tlearn: 0.1686627\ttest: 0.4757434\tbest: 0.4631718 (241)\ttotal: 12.3s\tremaining: 4.29s\n",
      "741:\tlearn: 0.1685732\ttest: 0.4757832\tbest: 0.4631718 (241)\ttotal: 12.3s\tremaining: 4.27s\n",
      "742:\tlearn: 0.1684142\ttest: 0.4759467\tbest: 0.4631718 (241)\ttotal: 12.3s\tremaining: 4.25s\n",
      "743:\tlearn: 0.1682967\ttest: 0.4761810\tbest: 0.4631718 (241)\ttotal: 12.3s\tremaining: 4.24s\n",
      "744:\tlearn: 0.1682561\ttest: 0.4762350\tbest: 0.4631718 (241)\ttotal: 12.3s\tremaining: 4.22s\n",
      "745:\tlearn: 0.1680584\ttest: 0.4761216\tbest: 0.4631718 (241)\ttotal: 12.3s\tremaining: 4.2s\n",
      "746:\tlearn: 0.1677870\ttest: 0.4762861\tbest: 0.4631718 (241)\ttotal: 12.4s\tremaining: 4.18s\n",
      "747:\tlearn: 0.1676907\ttest: 0.4765061\tbest: 0.4631718 (241)\ttotal: 12.4s\tremaining: 4.17s\n",
      "748:\tlearn: 0.1676191\ttest: 0.4766505\tbest: 0.4631718 (241)\ttotal: 12.4s\tremaining: 4.15s\n",
      "749:\tlearn: 0.1675989\ttest: 0.4766573\tbest: 0.4631718 (241)\ttotal: 12.4s\tremaining: 4.14s\n",
      "750:\tlearn: 0.1672259\ttest: 0.4770737\tbest: 0.4631718 (241)\ttotal: 12.4s\tremaining: 4.12s\n",
      "751:\tlearn: 0.1669218\ttest: 0.4768203\tbest: 0.4631718 (241)\ttotal: 12.5s\tremaining: 4.11s\n",
      "752:\tlearn: 0.1667741\ttest: 0.4766987\tbest: 0.4631718 (241)\ttotal: 12.5s\tremaining: 4.09s\n",
      "753:\tlearn: 0.1665030\ttest: 0.4769072\tbest: 0.4631718 (241)\ttotal: 12.5s\tremaining: 4.07s\n",
      "754:\tlearn: 0.1661455\ttest: 0.4769484\tbest: 0.4631718 (241)\ttotal: 12.5s\tremaining: 4.05s\n",
      "755:\tlearn: 0.1659158\ttest: 0.4768296\tbest: 0.4631718 (241)\ttotal: 12.5s\tremaining: 4.04s\n",
      "756:\tlearn: 0.1657942\ttest: 0.4767792\tbest: 0.4631718 (241)\ttotal: 12.5s\tremaining: 4.02s\n",
      "757:\tlearn: 0.1657650\ttest: 0.4768115\tbest: 0.4631718 (241)\ttotal: 12.5s\tremaining: 4.01s\n",
      "758:\tlearn: 0.1655807\ttest: 0.4766942\tbest: 0.4631718 (241)\ttotal: 12.6s\tremaining: 3.99s\n",
      "759:\tlearn: 0.1654952\ttest: 0.4767621\tbest: 0.4631718 (241)\ttotal: 12.6s\tremaining: 3.97s\n",
      "760:\tlearn: 0.1652004\ttest: 0.4771193\tbest: 0.4631718 (241)\ttotal: 12.6s\tremaining: 3.96s\n",
      "761:\tlearn: 0.1650600\ttest: 0.4770042\tbest: 0.4631718 (241)\ttotal: 12.6s\tremaining: 3.94s\n",
      "762:\tlearn: 0.1647173\ttest: 0.4771995\tbest: 0.4631718 (241)\ttotal: 12.6s\tremaining: 3.93s\n",
      "763:\tlearn: 0.1646084\ttest: 0.4773866\tbest: 0.4631718 (241)\ttotal: 12.7s\tremaining: 3.91s\n",
      "764:\tlearn: 0.1644444\ttest: 0.4773490\tbest: 0.4631718 (241)\ttotal: 12.7s\tremaining: 3.9s\n",
      "765:\tlearn: 0.1643630\ttest: 0.4774130\tbest: 0.4631718 (241)\ttotal: 12.7s\tremaining: 3.88s\n",
      "766:\tlearn: 0.1643162\ttest: 0.4774517\tbest: 0.4631718 (241)\ttotal: 12.7s\tremaining: 3.86s\n",
      "767:\tlearn: 0.1643108\ttest: 0.4774195\tbest: 0.4631718 (241)\ttotal: 12.7s\tremaining: 3.85s\n",
      "768:\tlearn: 0.1640512\ttest: 0.4773676\tbest: 0.4631718 (241)\ttotal: 12.7s\tremaining: 3.83s\n",
      "769:\tlearn: 0.1638903\ttest: 0.4778688\tbest: 0.4631718 (241)\ttotal: 12.8s\tremaining: 3.81s\n",
      "770:\tlearn: 0.1636682\ttest: 0.4779861\tbest: 0.4631718 (241)\ttotal: 12.8s\tremaining: 3.8s\n",
      "771:\tlearn: 0.1635266\ttest: 0.4779066\tbest: 0.4631718 (241)\ttotal: 12.8s\tremaining: 3.78s\n",
      "772:\tlearn: 0.1634362\ttest: 0.4780837\tbest: 0.4631718 (241)\ttotal: 12.8s\tremaining: 3.76s\n"
     ]
    },
    {
     "name": "stdout",
     "output_type": "stream",
     "text": [
      "773:\tlearn: 0.1632679\ttest: 0.4782027\tbest: 0.4631718 (241)\ttotal: 12.8s\tremaining: 3.75s\n",
      "774:\tlearn: 0.1630913\ttest: 0.4780279\tbest: 0.4631718 (241)\ttotal: 12.9s\tremaining: 3.73s\n",
      "775:\tlearn: 0.1628013\ttest: 0.4780771\tbest: 0.4631718 (241)\ttotal: 12.9s\tremaining: 3.72s\n",
      "776:\tlearn: 0.1626727\ttest: 0.4779103\tbest: 0.4631718 (241)\ttotal: 12.9s\tremaining: 3.7s\n",
      "777:\tlearn: 0.1625431\ttest: 0.4780567\tbest: 0.4631718 (241)\ttotal: 12.9s\tremaining: 3.68s\n",
      "778:\tlearn: 0.1622897\ttest: 0.4784278\tbest: 0.4631718 (241)\ttotal: 12.9s\tremaining: 3.67s\n",
      "779:\tlearn: 0.1622850\ttest: 0.4784686\tbest: 0.4631718 (241)\ttotal: 12.9s\tremaining: 3.65s\n",
      "780:\tlearn: 0.1622079\ttest: 0.4784956\tbest: 0.4631718 (241)\ttotal: 13s\tremaining: 3.63s\n",
      "781:\tlearn: 0.1621747\ttest: 0.4783659\tbest: 0.4631718 (241)\ttotal: 13s\tremaining: 3.62s\n",
      "782:\tlearn: 0.1619761\ttest: 0.4784768\tbest: 0.4631718 (241)\ttotal: 13s\tremaining: 3.6s\n",
      "783:\tlearn: 0.1619002\ttest: 0.4784838\tbest: 0.4631718 (241)\ttotal: 13s\tremaining: 3.58s\n",
      "784:\tlearn: 0.1618831\ttest: 0.4784788\tbest: 0.4631718 (241)\ttotal: 13s\tremaining: 3.57s\n",
      "785:\tlearn: 0.1616452\ttest: 0.4783732\tbest: 0.4631718 (241)\ttotal: 13s\tremaining: 3.55s\n",
      "786:\tlearn: 0.1608886\ttest: 0.4779635\tbest: 0.4631718 (241)\ttotal: 13.1s\tremaining: 3.54s\n",
      "787:\tlearn: 0.1607677\ttest: 0.4777409\tbest: 0.4631718 (241)\ttotal: 13.1s\tremaining: 3.52s\n",
      "788:\tlearn: 0.1603274\ttest: 0.4780823\tbest: 0.4631718 (241)\ttotal: 13.1s\tremaining: 3.5s\n",
      "789:\tlearn: 0.1602695\ttest: 0.4780479\tbest: 0.4631718 (241)\ttotal: 13.1s\tremaining: 3.49s\n",
      "790:\tlearn: 0.1600830\ttest: 0.4781497\tbest: 0.4631718 (241)\ttotal: 13.1s\tremaining: 3.47s\n",
      "791:\tlearn: 0.1600663\ttest: 0.4781378\tbest: 0.4631718 (241)\ttotal: 13.2s\tremaining: 3.45s\n",
      "792:\tlearn: 0.1598751\ttest: 0.4781786\tbest: 0.4631718 (241)\ttotal: 13.2s\tremaining: 3.44s\n",
      "793:\tlearn: 0.1598169\ttest: 0.4782107\tbest: 0.4631718 (241)\ttotal: 13.2s\tremaining: 3.42s\n",
      "794:\tlearn: 0.1597658\ttest: 0.4782110\tbest: 0.4631718 (241)\ttotal: 13.2s\tremaining: 3.4s\n",
      "795:\tlearn: 0.1594364\ttest: 0.4780089\tbest: 0.4631718 (241)\ttotal: 13.2s\tremaining: 3.39s\n",
      "796:\tlearn: 0.1594168\ttest: 0.4780744\tbest: 0.4631718 (241)\ttotal: 13.2s\tremaining: 3.37s\n",
      "797:\tlearn: 0.1592159\ttest: 0.4781867\tbest: 0.4631718 (241)\ttotal: 13.3s\tremaining: 3.36s\n",
      "798:\tlearn: 0.1590051\ttest: 0.4786085\tbest: 0.4631718 (241)\ttotal: 13.3s\tremaining: 3.34s\n",
      "799:\tlearn: 0.1588623\ttest: 0.4787004\tbest: 0.4631718 (241)\ttotal: 13.3s\tremaining: 3.33s\n",
      "800:\tlearn: 0.1584141\ttest: 0.4791622\tbest: 0.4631718 (241)\ttotal: 13.3s\tremaining: 3.31s\n",
      "801:\tlearn: 0.1583684\ttest: 0.4791837\tbest: 0.4631718 (241)\ttotal: 13.3s\tremaining: 3.29s\n",
      "802:\tlearn: 0.1583375\ttest: 0.4791405\tbest: 0.4631718 (241)\ttotal: 13.4s\tremaining: 3.28s\n",
      "803:\tlearn: 0.1579377\ttest: 0.4794814\tbest: 0.4631718 (241)\ttotal: 13.4s\tremaining: 3.26s\n",
      "804:\tlearn: 0.1579285\ttest: 0.4794588\tbest: 0.4631718 (241)\ttotal: 13.4s\tremaining: 3.24s\n",
      "805:\tlearn: 0.1576553\ttest: 0.4791559\tbest: 0.4631718 (241)\ttotal: 13.4s\tremaining: 3.23s\n",
      "806:\tlearn: 0.1575540\ttest: 0.4792454\tbest: 0.4631718 (241)\ttotal: 13.4s\tremaining: 3.21s\n",
      "807:\tlearn: 0.1573879\ttest: 0.4793509\tbest: 0.4631718 (241)\ttotal: 13.4s\tremaining: 3.19s\n",
      "808:\tlearn: 0.1572685\ttest: 0.4792852\tbest: 0.4631718 (241)\ttotal: 13.5s\tremaining: 3.18s\n",
      "809:\tlearn: 0.1572446\ttest: 0.4792385\tbest: 0.4631718 (241)\ttotal: 13.5s\tremaining: 3.16s\n",
      "810:\tlearn: 0.1570257\ttest: 0.4791720\tbest: 0.4631718 (241)\ttotal: 13.5s\tremaining: 3.15s\n",
      "811:\tlearn: 0.1568702\ttest: 0.4796103\tbest: 0.4631718 (241)\ttotal: 13.5s\tremaining: 3.13s\n",
      "812:\tlearn: 0.1567512\ttest: 0.4796747\tbest: 0.4631718 (241)\ttotal: 13.5s\tremaining: 3.11s\n",
      "813:\tlearn: 0.1567059\ttest: 0.4794880\tbest: 0.4631718 (241)\ttotal: 13.5s\tremaining: 3.1s\n",
      "814:\tlearn: 0.1566396\ttest: 0.4795042\tbest: 0.4631718 (241)\ttotal: 13.6s\tremaining: 3.08s\n",
      "815:\tlearn: 0.1564702\ttest: 0.4794193\tbest: 0.4631718 (241)\ttotal: 13.6s\tremaining: 3.06s\n",
      "816:\tlearn: 0.1563152\ttest: 0.4795260\tbest: 0.4631718 (241)\ttotal: 13.6s\tremaining: 3.05s\n",
      "817:\tlearn: 0.1562396\ttest: 0.4794109\tbest: 0.4631718 (241)\ttotal: 13.6s\tremaining: 3.03s\n",
      "818:\tlearn: 0.1560850\ttest: 0.4796214\tbest: 0.4631718 (241)\ttotal: 13.6s\tremaining: 3.01s\n",
      "819:\tlearn: 0.1559917\ttest: 0.4796828\tbest: 0.4631718 (241)\ttotal: 13.7s\tremaining: 3s\n",
      "820:\tlearn: 0.1559204\ttest: 0.4795731\tbest: 0.4631718 (241)\ttotal: 13.7s\tremaining: 2.98s\n",
      "821:\tlearn: 0.1558106\ttest: 0.4795566\tbest: 0.4631718 (241)\ttotal: 13.7s\tremaining: 2.96s\n",
      "822:\tlearn: 0.1557709\ttest: 0.4793696\tbest: 0.4631718 (241)\ttotal: 13.7s\tremaining: 2.95s\n",
      "823:\tlearn: 0.1556722\ttest: 0.4794776\tbest: 0.4631718 (241)\ttotal: 13.7s\tremaining: 2.93s\n",
      "824:\tlearn: 0.1554827\ttest: 0.4801148\tbest: 0.4631718 (241)\ttotal: 13.7s\tremaining: 2.91s\n",
      "825:\tlearn: 0.1554157\ttest: 0.4800126\tbest: 0.4631718 (241)\ttotal: 13.8s\tremaining: 2.9s\n",
      "826:\tlearn: 0.1551083\ttest: 0.4802834\tbest: 0.4631718 (241)\ttotal: 13.8s\tremaining: 2.88s\n",
      "827:\tlearn: 0.1550829\ttest: 0.4804288\tbest: 0.4631718 (241)\ttotal: 13.8s\tremaining: 2.86s\n",
      "828:\tlearn: 0.1548096\ttest: 0.4801547\tbest: 0.4631718 (241)\ttotal: 13.8s\tremaining: 2.85s\n",
      "829:\tlearn: 0.1545458\ttest: 0.4801729\tbest: 0.4631718 (241)\ttotal: 13.8s\tremaining: 2.83s\n",
      "830:\tlearn: 0.1544774\ttest: 0.4800434\tbest: 0.4631718 (241)\ttotal: 13.8s\tremaining: 2.81s\n",
      "831:\tlearn: 0.1544528\ttest: 0.4800096\tbest: 0.4631718 (241)\ttotal: 13.9s\tremaining: 2.8s\n",
      "832:\tlearn: 0.1542616\ttest: 0.4799653\tbest: 0.4631718 (241)\ttotal: 13.9s\tremaining: 2.78s\n",
      "833:\tlearn: 0.1542569\ttest: 0.4800054\tbest: 0.4631718 (241)\ttotal: 13.9s\tremaining: 2.77s\n",
      "834:\tlearn: 0.1541770\ttest: 0.4800005\tbest: 0.4631718 (241)\ttotal: 13.9s\tremaining: 2.75s\n",
      "835:\tlearn: 0.1541654\ttest: 0.4799914\tbest: 0.4631718 (241)\ttotal: 13.9s\tremaining: 2.74s\n",
      "836:\tlearn: 0.1540497\ttest: 0.4800519\tbest: 0.4631718 (241)\ttotal: 14s\tremaining: 2.72s\n",
      "837:\tlearn: 0.1537579\ttest: 0.4803305\tbest: 0.4631718 (241)\ttotal: 14s\tremaining: 2.71s\n",
      "838:\tlearn: 0.1536856\ttest: 0.4802736\tbest: 0.4631718 (241)\ttotal: 14s\tremaining: 2.69s\n",
      "839:\tlearn: 0.1533207\ttest: 0.4804035\tbest: 0.4631718 (241)\ttotal: 14s\tremaining: 2.67s\n",
      "840:\tlearn: 0.1530533\ttest: 0.4806927\tbest: 0.4631718 (241)\ttotal: 14s\tremaining: 2.65s\n",
      "841:\tlearn: 0.1530473\ttest: 0.4806855\tbest: 0.4631718 (241)\ttotal: 14.1s\tremaining: 2.64s\n",
      "842:\tlearn: 0.1527754\ttest: 0.4807577\tbest: 0.4631718 (241)\ttotal: 14.1s\tremaining: 2.62s\n",
      "843:\tlearn: 0.1526545\ttest: 0.4808975\tbest: 0.4631718 (241)\ttotal: 14.1s\tremaining: 2.61s\n",
      "844:\tlearn: 0.1524727\ttest: 0.4811599\tbest: 0.4631718 (241)\ttotal: 14.1s\tremaining: 2.59s\n",
      "845:\tlearn: 0.1523379\ttest: 0.4809962\tbest: 0.4631718 (241)\ttotal: 14.1s\tremaining: 2.57s\n",
      "846:\tlearn: 0.1522703\ttest: 0.4812699\tbest: 0.4631718 (241)\ttotal: 14.2s\tremaining: 2.56s\n",
      "847:\tlearn: 0.1521721\ttest: 0.4814991\tbest: 0.4631718 (241)\ttotal: 14.2s\tremaining: 2.54s\n",
      "848:\tlearn: 0.1521068\ttest: 0.4816125\tbest: 0.4631718 (241)\ttotal: 14.2s\tremaining: 2.52s\n",
      "849:\tlearn: 0.1520076\ttest: 0.4815832\tbest: 0.4631718 (241)\ttotal: 14.2s\tremaining: 2.51s\n",
      "850:\tlearn: 0.1519805\ttest: 0.4814968\tbest: 0.4631718 (241)\ttotal: 14.2s\tremaining: 2.49s\n",
      "851:\tlearn: 0.1517890\ttest: 0.4815468\tbest: 0.4631718 (241)\ttotal: 14.2s\tremaining: 2.47s\n",
      "852:\tlearn: 0.1514879\ttest: 0.4815892\tbest: 0.4631718 (241)\ttotal: 14.3s\tremaining: 2.46s\n",
      "853:\tlearn: 0.1513001\ttest: 0.4814664\tbest: 0.4631718 (241)\ttotal: 14.3s\tremaining: 2.44s\n",
      "854:\tlearn: 0.1512966\ttest: 0.4814652\tbest: 0.4631718 (241)\ttotal: 14.3s\tremaining: 2.42s\n",
      "855:\tlearn: 0.1511092\ttest: 0.4814886\tbest: 0.4631718 (241)\ttotal: 14.3s\tremaining: 2.41s\n",
      "856:\tlearn: 0.1510631\ttest: 0.4815512\tbest: 0.4631718 (241)\ttotal: 14.3s\tremaining: 2.39s\n",
      "857:\tlearn: 0.1510371\ttest: 0.4814172\tbest: 0.4631718 (241)\ttotal: 14.4s\tremaining: 2.38s\n",
      "858:\tlearn: 0.1509211\ttest: 0.4815159\tbest: 0.4631718 (241)\ttotal: 14.4s\tremaining: 2.36s\n",
      "859:\tlearn: 0.1509066\ttest: 0.4815706\tbest: 0.4631718 (241)\ttotal: 14.4s\tremaining: 2.34s\n",
      "860:\tlearn: 0.1507522\ttest: 0.4814148\tbest: 0.4631718 (241)\ttotal: 14.4s\tremaining: 2.33s\n",
      "861:\tlearn: 0.1505849\ttest: 0.4814549\tbest: 0.4631718 (241)\ttotal: 14.4s\tremaining: 2.31s\n",
      "862:\tlearn: 0.1504933\ttest: 0.4814613\tbest: 0.4631718 (241)\ttotal: 14.4s\tremaining: 2.29s\n",
      "863:\tlearn: 0.1502427\ttest: 0.4815078\tbest: 0.4631718 (241)\ttotal: 14.5s\tremaining: 2.28s\n",
      "864:\tlearn: 0.1502311\ttest: 0.4815223\tbest: 0.4631718 (241)\ttotal: 14.5s\tremaining: 2.26s\n",
      "865:\tlearn: 0.1501089\ttest: 0.4814686\tbest: 0.4631718 (241)\ttotal: 14.5s\tremaining: 2.24s\n",
      "866:\tlearn: 0.1498308\ttest: 0.4812303\tbest: 0.4631718 (241)\ttotal: 14.5s\tremaining: 2.23s\n",
      "867:\tlearn: 0.1496773\ttest: 0.4812845\tbest: 0.4631718 (241)\ttotal: 14.5s\tremaining: 2.21s\n",
      "868:\tlearn: 0.1496394\ttest: 0.4812961\tbest: 0.4631718 (241)\ttotal: 14.6s\tremaining: 2.19s\n",
      "869:\tlearn: 0.1495127\ttest: 0.4812455\tbest: 0.4631718 (241)\ttotal: 14.6s\tremaining: 2.18s\n",
      "870:\tlearn: 0.1494678\ttest: 0.4811726\tbest: 0.4631718 (241)\ttotal: 14.6s\tremaining: 2.16s\n",
      "871:\tlearn: 0.1494098\ttest: 0.4811771\tbest: 0.4631718 (241)\ttotal: 14.6s\tremaining: 2.14s\n",
      "872:\tlearn: 0.1493825\ttest: 0.4810582\tbest: 0.4631718 (241)\ttotal: 14.6s\tremaining: 2.13s\n"
     ]
    },
    {
     "name": "stdout",
     "output_type": "stream",
     "text": [
      "873:\tlearn: 0.1490222\ttest: 0.4816002\tbest: 0.4631718 (241)\ttotal: 14.6s\tremaining: 2.11s\n",
      "874:\tlearn: 0.1487703\ttest: 0.4814436\tbest: 0.4631718 (241)\ttotal: 14.7s\tremaining: 2.09s\n",
      "875:\tlearn: 0.1487044\ttest: 0.4813801\tbest: 0.4631718 (241)\ttotal: 14.7s\tremaining: 2.08s\n",
      "876:\tlearn: 0.1485780\ttest: 0.4813052\tbest: 0.4631718 (241)\ttotal: 14.7s\tremaining: 2.06s\n",
      "877:\tlearn: 0.1485071\ttest: 0.4812548\tbest: 0.4631718 (241)\ttotal: 14.7s\tremaining: 2.04s\n",
      "878:\tlearn: 0.1483976\ttest: 0.4809246\tbest: 0.4631718 (241)\ttotal: 14.7s\tremaining: 2.02s\n",
      "879:\tlearn: 0.1482468\ttest: 0.4808857\tbest: 0.4631718 (241)\ttotal: 14.7s\tremaining: 2.01s\n",
      "880:\tlearn: 0.1482425\ttest: 0.4808624\tbest: 0.4631718 (241)\ttotal: 14.7s\tremaining: 1.99s\n",
      "881:\tlearn: 0.1482230\ttest: 0.4808401\tbest: 0.4631718 (241)\ttotal: 14.8s\tremaining: 1.98s\n",
      "882:\tlearn: 0.1481297\ttest: 0.4806808\tbest: 0.4631718 (241)\ttotal: 14.8s\tremaining: 1.96s\n",
      "883:\tlearn: 0.1479576\ttest: 0.4808694\tbest: 0.4631718 (241)\ttotal: 14.8s\tremaining: 1.94s\n",
      "884:\tlearn: 0.1477031\ttest: 0.4807046\tbest: 0.4631718 (241)\ttotal: 14.8s\tremaining: 1.93s\n",
      "885:\tlearn: 0.1475136\ttest: 0.4810584\tbest: 0.4631718 (241)\ttotal: 14.8s\tremaining: 1.91s\n",
      "886:\tlearn: 0.1474281\ttest: 0.4810259\tbest: 0.4631718 (241)\ttotal: 14.9s\tremaining: 1.89s\n",
      "887:\tlearn: 0.1473807\ttest: 0.4810212\tbest: 0.4631718 (241)\ttotal: 14.9s\tremaining: 1.88s\n",
      "888:\tlearn: 0.1473209\ttest: 0.4809972\tbest: 0.4631718 (241)\ttotal: 14.9s\tremaining: 1.86s\n",
      "889:\tlearn: 0.1471607\ttest: 0.4812842\tbest: 0.4631718 (241)\ttotal: 14.9s\tremaining: 1.84s\n",
      "890:\tlearn: 0.1469194\ttest: 0.4812617\tbest: 0.4631718 (241)\ttotal: 14.9s\tremaining: 1.83s\n",
      "891:\tlearn: 0.1469134\ttest: 0.4812704\tbest: 0.4631718 (241)\ttotal: 15s\tremaining: 1.81s\n",
      "892:\tlearn: 0.1468990\ttest: 0.4812737\tbest: 0.4631718 (241)\ttotal: 15s\tremaining: 1.79s\n",
      "893:\tlearn: 0.1465165\ttest: 0.4816552\tbest: 0.4631718 (241)\ttotal: 15s\tremaining: 1.77s\n",
      "894:\tlearn: 0.1461396\ttest: 0.4814793\tbest: 0.4631718 (241)\ttotal: 15s\tremaining: 1.76s\n",
      "895:\tlearn: 0.1460426\ttest: 0.4814408\tbest: 0.4631718 (241)\ttotal: 15s\tremaining: 1.74s\n",
      "896:\tlearn: 0.1459667\ttest: 0.4813447\tbest: 0.4631718 (241)\ttotal: 15s\tremaining: 1.73s\n",
      "897:\tlearn: 0.1458644\ttest: 0.4816496\tbest: 0.4631718 (241)\ttotal: 15.1s\tremaining: 1.71s\n",
      "898:\tlearn: 0.1457897\ttest: 0.4816072\tbest: 0.4631718 (241)\ttotal: 15.1s\tremaining: 1.69s\n",
      "899:\tlearn: 0.1456328\ttest: 0.4818593\tbest: 0.4631718 (241)\ttotal: 15.1s\tremaining: 1.68s\n",
      "900:\tlearn: 0.1455120\ttest: 0.4820072\tbest: 0.4631718 (241)\ttotal: 15.1s\tremaining: 1.66s\n",
      "901:\tlearn: 0.1454901\ttest: 0.4820163\tbest: 0.4631718 (241)\ttotal: 15.1s\tremaining: 1.64s\n",
      "902:\tlearn: 0.1453825\ttest: 0.4821660\tbest: 0.4631718 (241)\ttotal: 15.1s\tremaining: 1.63s\n",
      "903:\tlearn: 0.1451797\ttest: 0.4828111\tbest: 0.4631718 (241)\ttotal: 15.2s\tremaining: 1.61s\n",
      "904:\tlearn: 0.1449646\ttest: 0.4827783\tbest: 0.4631718 (241)\ttotal: 15.2s\tremaining: 1.59s\n",
      "905:\tlearn: 0.1448032\ttest: 0.4832350\tbest: 0.4631718 (241)\ttotal: 15.2s\tremaining: 1.58s\n",
      "906:\tlearn: 0.1447861\ttest: 0.4832863\tbest: 0.4631718 (241)\ttotal: 15.2s\tremaining: 1.56s\n",
      "907:\tlearn: 0.1446388\ttest: 0.4832344\tbest: 0.4631718 (241)\ttotal: 15.2s\tremaining: 1.54s\n",
      "908:\tlearn: 0.1446293\ttest: 0.4832455\tbest: 0.4631718 (241)\ttotal: 15.3s\tremaining: 1.53s\n",
      "909:\tlearn: 0.1445039\ttest: 0.4835004\tbest: 0.4631718 (241)\ttotal: 15.3s\tremaining: 1.51s\n",
      "910:\tlearn: 0.1444401\ttest: 0.4834793\tbest: 0.4631718 (241)\ttotal: 15.3s\tremaining: 1.5s\n",
      "911:\tlearn: 0.1442913\ttest: 0.4835659\tbest: 0.4631718 (241)\ttotal: 15.3s\tremaining: 1.48s\n",
      "912:\tlearn: 0.1441581\ttest: 0.4833715\tbest: 0.4631718 (241)\ttotal: 15.3s\tremaining: 1.46s\n",
      "913:\tlearn: 0.1440218\ttest: 0.4835466\tbest: 0.4631718 (241)\ttotal: 15.4s\tremaining: 1.44s\n",
      "914:\tlearn: 0.1440126\ttest: 0.4835418\tbest: 0.4631718 (241)\ttotal: 15.4s\tremaining: 1.43s\n",
      "915:\tlearn: 0.1438825\ttest: 0.4837794\tbest: 0.4631718 (241)\ttotal: 15.4s\tremaining: 1.41s\n",
      "916:\tlearn: 0.1436983\ttest: 0.4841496\tbest: 0.4631718 (241)\ttotal: 15.4s\tremaining: 1.39s\n",
      "917:\tlearn: 0.1435122\ttest: 0.4841242\tbest: 0.4631718 (241)\ttotal: 15.4s\tremaining: 1.38s\n",
      "918:\tlearn: 0.1434835\ttest: 0.4842337\tbest: 0.4631718 (241)\ttotal: 15.4s\tremaining: 1.36s\n",
      "919:\tlearn: 0.1432278\ttest: 0.4841245\tbest: 0.4631718 (241)\ttotal: 15.5s\tremaining: 1.34s\n",
      "920:\tlearn: 0.1431200\ttest: 0.4842776\tbest: 0.4631718 (241)\ttotal: 15.5s\tremaining: 1.33s\n",
      "921:\tlearn: 0.1430400\ttest: 0.4840983\tbest: 0.4631718 (241)\ttotal: 15.5s\tremaining: 1.31s\n",
      "922:\tlearn: 0.1430361\ttest: 0.4841011\tbest: 0.4631718 (241)\ttotal: 15.5s\tremaining: 1.29s\n",
      "923:\tlearn: 0.1429939\ttest: 0.4842243\tbest: 0.4631718 (241)\ttotal: 15.5s\tremaining: 1.28s\n",
      "924:\tlearn: 0.1429669\ttest: 0.4842101\tbest: 0.4631718 (241)\ttotal: 15.5s\tremaining: 1.26s\n",
      "925:\tlearn: 0.1429181\ttest: 0.4842789\tbest: 0.4631718 (241)\ttotal: 15.6s\tremaining: 1.24s\n",
      "926:\tlearn: 0.1429134\ttest: 0.4842606\tbest: 0.4631718 (241)\ttotal: 15.6s\tremaining: 1.23s\n",
      "927:\tlearn: 0.1427778\ttest: 0.4843193\tbest: 0.4631718 (241)\ttotal: 15.6s\tremaining: 1.21s\n",
      "928:\tlearn: 0.1426028\ttest: 0.4842843\tbest: 0.4631718 (241)\ttotal: 15.6s\tremaining: 1.19s\n",
      "929:\tlearn: 0.1424639\ttest: 0.4843459\tbest: 0.4631718 (241)\ttotal: 15.6s\tremaining: 1.18s\n",
      "930:\tlearn: 0.1422988\ttest: 0.4842221\tbest: 0.4631718 (241)\ttotal: 15.6s\tremaining: 1.16s\n",
      "931:\tlearn: 0.1422175\ttest: 0.4843361\tbest: 0.4631718 (241)\ttotal: 15.7s\tremaining: 1.14s\n",
      "932:\tlearn: 0.1421664\ttest: 0.4846774\tbest: 0.4631718 (241)\ttotal: 15.7s\tremaining: 1.13s\n",
      "933:\tlearn: 0.1421458\ttest: 0.4846255\tbest: 0.4631718 (241)\ttotal: 15.7s\tremaining: 1.11s\n",
      "934:\tlearn: 0.1420791\ttest: 0.4847787\tbest: 0.4631718 (241)\ttotal: 15.7s\tremaining: 1.09s\n",
      "935:\tlearn: 0.1419659\ttest: 0.4848120\tbest: 0.4631718 (241)\ttotal: 15.7s\tremaining: 1.07s\n",
      "936:\tlearn: 0.1419271\ttest: 0.4845571\tbest: 0.4631718 (241)\ttotal: 15.7s\tremaining: 1.06s\n",
      "937:\tlearn: 0.1416699\ttest: 0.4846098\tbest: 0.4631718 (241)\ttotal: 15.8s\tremaining: 1.04s\n",
      "938:\tlearn: 0.1414145\ttest: 0.4844588\tbest: 0.4631718 (241)\ttotal: 15.8s\tremaining: 1.02s\n",
      "939:\tlearn: 0.1412203\ttest: 0.4845525\tbest: 0.4631718 (241)\ttotal: 15.8s\tremaining: 1.01s\n",
      "940:\tlearn: 0.1411214\ttest: 0.4846041\tbest: 0.4631718 (241)\ttotal: 15.8s\tremaining: 991ms\n",
      "941:\tlearn: 0.1409570\ttest: 0.4849801\tbest: 0.4631718 (241)\ttotal: 15.8s\tremaining: 975ms\n",
      "942:\tlearn: 0.1407827\ttest: 0.4849154\tbest: 0.4631718 (241)\ttotal: 15.9s\tremaining: 958ms\n",
      "943:\tlearn: 0.1407794\ttest: 0.4849488\tbest: 0.4631718 (241)\ttotal: 15.9s\tremaining: 942ms\n",
      "944:\tlearn: 0.1406811\ttest: 0.4850056\tbest: 0.4631718 (241)\ttotal: 15.9s\tremaining: 925ms\n",
      "945:\tlearn: 0.1406781\ttest: 0.4850067\tbest: 0.4631718 (241)\ttotal: 15.9s\tremaining: 908ms\n",
      "946:\tlearn: 0.1404269\ttest: 0.4853562\tbest: 0.4631718 (241)\ttotal: 15.9s\tremaining: 892ms\n",
      "947:\tlearn: 0.1403315\ttest: 0.4851675\tbest: 0.4631718 (241)\ttotal: 15.9s\tremaining: 875ms\n",
      "948:\tlearn: 0.1402055\ttest: 0.4852229\tbest: 0.4631718 (241)\ttotal: 16s\tremaining: 858ms\n",
      "949:\tlearn: 0.1401136\ttest: 0.4851212\tbest: 0.4631718 (241)\ttotal: 16s\tremaining: 841ms\n",
      "950:\tlearn: 0.1399933\ttest: 0.4848342\tbest: 0.4631718 (241)\ttotal: 16s\tremaining: 824ms\n",
      "951:\tlearn: 0.1399863\ttest: 0.4848355\tbest: 0.4631718 (241)\ttotal: 16s\tremaining: 807ms\n",
      "952:\tlearn: 0.1397774\ttest: 0.4852651\tbest: 0.4631718 (241)\ttotal: 16s\tremaining: 790ms\n",
      "953:\tlearn: 0.1397719\ttest: 0.4852831\tbest: 0.4631718 (241)\ttotal: 16s\tremaining: 774ms\n",
      "954:\tlearn: 0.1396597\ttest: 0.4853700\tbest: 0.4631718 (241)\ttotal: 16.1s\tremaining: 757ms\n",
      "955:\tlearn: 0.1396422\ttest: 0.4853388\tbest: 0.4631718 (241)\ttotal: 16.1s\tremaining: 740ms\n",
      "956:\tlearn: 0.1395446\ttest: 0.4850127\tbest: 0.4631718 (241)\ttotal: 16.1s\tremaining: 723ms\n",
      "957:\tlearn: 0.1393390\ttest: 0.4850422\tbest: 0.4631718 (241)\ttotal: 16.1s\tremaining: 707ms\n",
      "958:\tlearn: 0.1392191\ttest: 0.4850997\tbest: 0.4631718 (241)\ttotal: 16.1s\tremaining: 690ms\n",
      "959:\tlearn: 0.1391519\ttest: 0.4850694\tbest: 0.4631718 (241)\ttotal: 16.2s\tremaining: 673ms\n",
      "960:\tlearn: 0.1390476\ttest: 0.4851035\tbest: 0.4631718 (241)\ttotal: 16.2s\tremaining: 656ms\n",
      "961:\tlearn: 0.1389550\ttest: 0.4847907\tbest: 0.4631718 (241)\ttotal: 16.2s\tremaining: 640ms\n",
      "962:\tlearn: 0.1389280\ttest: 0.4847531\tbest: 0.4631718 (241)\ttotal: 16.2s\tremaining: 623ms\n",
      "963:\tlearn: 0.1387687\ttest: 0.4846886\tbest: 0.4631718 (241)\ttotal: 16.2s\tremaining: 606ms\n",
      "964:\tlearn: 0.1385748\ttest: 0.4847753\tbest: 0.4631718 (241)\ttotal: 16.2s\tremaining: 589ms\n",
      "965:\tlearn: 0.1383178\ttest: 0.4852940\tbest: 0.4631718 (241)\ttotal: 16.3s\tremaining: 572ms\n",
      "966:\tlearn: 0.1382309\ttest: 0.4851828\tbest: 0.4631718 (241)\ttotal: 16.3s\tremaining: 556ms\n",
      "967:\tlearn: 0.1379472\ttest: 0.4854266\tbest: 0.4631718 (241)\ttotal: 16.3s\tremaining: 539ms\n",
      "968:\tlearn: 0.1378560\ttest: 0.4853559\tbest: 0.4631718 (241)\ttotal: 16.3s\tremaining: 522ms\n",
      "969:\tlearn: 0.1378469\ttest: 0.4853440\tbest: 0.4631718 (241)\ttotal: 16.3s\tremaining: 505ms\n",
      "970:\tlearn: 0.1377001\ttest: 0.4854050\tbest: 0.4631718 (241)\ttotal: 16.3s\tremaining: 488ms\n",
      "971:\tlearn: 0.1376927\ttest: 0.4854186\tbest: 0.4631718 (241)\ttotal: 16.4s\tremaining: 471ms\n",
      "972:\tlearn: 0.1373633\ttest: 0.4857315\tbest: 0.4631718 (241)\ttotal: 16.4s\tremaining: 455ms\n",
      "973:\tlearn: 0.1372808\ttest: 0.4857076\tbest: 0.4631718 (241)\ttotal: 16.4s\tremaining: 438ms\n",
      "974:\tlearn: 0.1371171\ttest: 0.4864641\tbest: 0.4631718 (241)\ttotal: 16.4s\tremaining: 421ms\n"
     ]
    },
    {
     "name": "stdout",
     "output_type": "stream",
     "text": [
      "975:\tlearn: 0.1369538\ttest: 0.4868856\tbest: 0.4631718 (241)\ttotal: 16.4s\tremaining: 404ms\n",
      "976:\tlearn: 0.1369001\ttest: 0.4868662\tbest: 0.4631718 (241)\ttotal: 16.5s\tremaining: 387ms\n",
      "977:\tlearn: 0.1365612\ttest: 0.4867137\tbest: 0.4631718 (241)\ttotal: 16.5s\tremaining: 371ms\n",
      "978:\tlearn: 0.1359596\ttest: 0.4863805\tbest: 0.4631718 (241)\ttotal: 16.5s\tremaining: 354ms\n",
      "979:\tlearn: 0.1357767\ttest: 0.4862262\tbest: 0.4631718 (241)\ttotal: 16.5s\tremaining: 337ms\n",
      "980:\tlearn: 0.1355782\ttest: 0.4863034\tbest: 0.4631718 (241)\ttotal: 16.5s\tremaining: 320ms\n",
      "981:\tlearn: 0.1355044\ttest: 0.4865188\tbest: 0.4631718 (241)\ttotal: 16.5s\tremaining: 303ms\n",
      "982:\tlearn: 0.1354895\ttest: 0.4864099\tbest: 0.4631718 (241)\ttotal: 16.6s\tremaining: 286ms\n",
      "983:\tlearn: 0.1353886\ttest: 0.4863503\tbest: 0.4631718 (241)\ttotal: 16.6s\tremaining: 270ms\n",
      "984:\tlearn: 0.1352802\ttest: 0.4863703\tbest: 0.4631718 (241)\ttotal: 16.6s\tremaining: 253ms\n",
      "985:\tlearn: 0.1351837\ttest: 0.4865042\tbest: 0.4631718 (241)\ttotal: 16.6s\tremaining: 236ms\n",
      "986:\tlearn: 0.1351355\ttest: 0.4865849\tbest: 0.4631718 (241)\ttotal: 16.6s\tremaining: 219ms\n",
      "987:\tlearn: 0.1348212\ttest: 0.4864528\tbest: 0.4631718 (241)\ttotal: 16.7s\tremaining: 202ms\n",
      "988:\tlearn: 0.1347660\ttest: 0.4864120\tbest: 0.4631718 (241)\ttotal: 16.7s\tremaining: 185ms\n",
      "989:\tlearn: 0.1346878\ttest: 0.4859734\tbest: 0.4631718 (241)\ttotal: 16.7s\tremaining: 169ms\n",
      "990:\tlearn: 0.1346332\ttest: 0.4859086\tbest: 0.4631718 (241)\ttotal: 16.7s\tremaining: 152ms\n",
      "991:\tlearn: 0.1344906\ttest: 0.4861754\tbest: 0.4631718 (241)\ttotal: 16.7s\tremaining: 135ms\n",
      "992:\tlearn: 0.1343841\ttest: 0.4863964\tbest: 0.4631718 (241)\ttotal: 16.7s\tremaining: 118ms\n",
      "993:\tlearn: 0.1343777\ttest: 0.4864392\tbest: 0.4631718 (241)\ttotal: 16.8s\tremaining: 101ms\n",
      "994:\tlearn: 0.1343380\ttest: 0.4864072\tbest: 0.4631718 (241)\ttotal: 16.8s\tremaining: 84.3ms\n",
      "995:\tlearn: 0.1340375\ttest: 0.4862198\tbest: 0.4631718 (241)\ttotal: 16.8s\tremaining: 67.5ms\n",
      "996:\tlearn: 0.1337444\ttest: 0.4867564\tbest: 0.4631718 (241)\ttotal: 16.8s\tremaining: 50.6ms\n",
      "997:\tlearn: 0.1337412\ttest: 0.4867516\tbest: 0.4631718 (241)\ttotal: 16.8s\tremaining: 33.7ms\n",
      "998:\tlearn: 0.1336808\ttest: 0.4867215\tbest: 0.4631718 (241)\ttotal: 16.8s\tremaining: 16.9ms\n",
      "999:\tlearn: 0.1336446\ttest: 0.4866256\tbest: 0.4631718 (241)\ttotal: 16.9s\tremaining: 0us\n",
      "\n",
      "bestTest = 0.4631717656\n",
      "bestIteration = 241\n",
      "\n",
      "Shrink model to first 242 iterations.\n"
     ]
    },
    {
     "data": {
      "text/plain": [
       "<catboost.core.CatBoostClassifier at 0x17b03361130>"
      ]
     },
     "execution_count": 74,
     "metadata": {},
     "output_type": "execute_result"
    }
   ],
   "source": [
    "model.fit(\n",
    "    X_train, y_train,\n",
    "    cat_features=categorical_features_indices,\n",
    "    eval_set=(X_validation, y_validation),\n",
    "    logging_level='Verbose',  \n",
    "    #plot=True\n",
    ")"
   ]
  },
  {
   "cell_type": "markdown",
   "metadata": {},
   "source": [
    "학습 결과 최대 vailation set에 대한 accuracy는 약 0.798으로, boosting step 341번을 후에 달성했습니다."
   ]
  },
  {
   "cell_type": "markdown",
   "metadata": {},
   "source": [
    "### Cross-validation"
   ]
  },
  {
   "cell_type": "markdown",
   "metadata": {},
   "source": [
    "위에서 얻어진 parameter들에 대해 더욱 robust한 accuracy를 얻기 위해 cross-validation을 수행해보도록 하겠습니다. catboost에서 제공하는 cv로 쉽게 수행할 수 있습니다. k=3으로 수행되었고 loss function은 logloss로 update했습니다. "
   ]
  },
  {
   "cell_type": "code",
   "execution_count": 76,
   "metadata": {},
   "outputs": [],
   "source": [
    "cv_params = model.get_params()\n",
    "cv_params.update({\n",
    "    'loss_function': 'Logloss'\n",
    "})\n",
    "cv_data = cv(\n",
    "    Pool(X, y, cat_features=categorical_features_indices),\n",
    "    cv_params,\n",
    "    #plot=True\n",
    ")"
   ]
  },
  {
   "cell_type": "markdown",
   "metadata": {},
   "source": [
    "plot=Ture로 설정하면, cross-validation결과 값의 폭을 확인할 수 있습니다. "
   ]
  },
  {
   "cell_type": "code",
   "execution_count": 77,
   "metadata": {},
   "outputs": [
    {
     "name": "stdout",
     "output_type": "stream",
     "text": [
      "Best validation accuracy score: 0.84±0.01 on step 414\n"
     ]
    }
   ],
   "source": [
    "print('Best validation accuracy score: {:.2f}±{:.2f} on step {}'.format(\n",
    "    np.max(cv_data['test-Accuracy-mean']),\n",
    "    cv_data['test-Accuracy-std'][np.argmax(cv_data['test-Accuracy-mean'])],\n",
    "    np.argmax(cv_data['test-Accuracy-mean'])\n",
    "))"
   ]
  },
  {
   "cell_type": "markdown",
   "metadata": {},
   "source": [
    "가장 높은 accuracy는 boosting을 414했을 때로 나타났습니다. "
   ]
  },
  {
   "cell_type": "code",
   "execution_count": 78,
   "metadata": {},
   "outputs": [
    {
     "name": "stdout",
     "output_type": "stream",
     "text": [
      "Precise validation accuracy score: 0.8383838383838383\n"
     ]
    }
   ],
   "source": [
    "print('Precise validation accuracy score: {}'.format(np.max(cv_data['test-Accuracy-mean'])))"
   ]
  },
  {
   "cell_type": "markdown",
   "metadata": {},
   "source": [
    "cross-validation 결과, 처음 얻었던 accuracy=0.798보다 큰 약 0.8383의 accuracy를 얻었습니다. dataset을 어떻게 split하는가에 따라 성능지표의 값 차이가 나기 때문에 cross-validation을 통해 좀 더 robust한 성능을 얻을 필요가 있습니다. "
   ]
  },
  {
   "cell_type": "markdown",
   "metadata": {},
   "source": [
    "### Prediction\n",
    "catboost의 predict 함수를 통해, classification의 prediction 값을 얻을 수 있고, predict_proba를 사용하면, 각 class에 대해 예측하고 있는 확률을 얻을 수 있습니다."
   ]
  },
  {
   "cell_type": "code",
   "execution_count": 79,
   "metadata": {},
   "outputs": [
    {
     "name": "stdout",
     "output_type": "stream",
     "text": [
      "[0 0 0 0 1 0 1 0 1 0]\n",
      "[[0.89890292 0.10109708]\n",
      " [0.7204943  0.2795057 ]\n",
      " [0.92087031 0.07912969]\n",
      " [0.88355545 0.11644455]\n",
      " [0.14982657 0.85017343]\n",
      " [0.88847395 0.11152605]\n",
      " [0.47331547 0.52668453]\n",
      " [0.61274044 0.38725956]\n",
      " [0.38739407 0.61260593]\n",
      " [0.87273403 0.12726597]]\n"
     ]
    }
   ],
   "source": [
    "predictions = model.predict(X_test)\n",
    "predictions_probs = model.predict_proba(X_test)\n",
    "print(predictions[:10])\n",
    "print(predictions_probs[:10])"
   ]
  },
  {
   "cell_type": "markdown",
   "metadata": {},
   "source": [
    "## 2. CatBoost Features\n",
    "위에서는 기본적인 feature들만 지정하여 사용했는데, 이제 다른 feature들은 무엇이 있는지 그 역할을 살펴보고 사용해보겠습니다. "
   ]
  },
  {
   "cell_type": "markdown",
   "metadata": {},
   "source": [
    "먼저, catboost model의 random seed를 지정해주지 않았을 때, model을 fit한 후에 사용된 random seed를 random_seed_를 통해 다시 알아낼 수 있습니다. "
   ]
  },
  {
   "cell_type": "code",
   "execution_count": 14,
   "metadata": {},
   "outputs": [
    {
     "name": "stdout",
     "output_type": "stream",
     "text": [
      "Random seed assigned for this model: 0\n"
     ]
    }
   ],
   "source": [
    "model_without_seed = CatBoostClassifier(iterations=10, logging_level='Silent')\n",
    "model_without_seed.fit(X, y, cat_features=categorical_features_indices)\n",
    "\n",
    "print('Random seed assigned for this model: {}'.format(model_without_seed.random_seed_))"
   ]
  },
  {
   "cell_type": "markdown",
   "metadata": {},
   "source": [
    "이제 parameter들을 지정하고, 'Pool'을 만들어보도록 하겠습니다. Pool은 dataset의 feature, label, categorical features indice, weight 등에 대한 정보를 저장할 수 있습니다. "
   ]
  },
  {
   "cell_type": "code",
   "execution_count": 41,
   "metadata": {},
   "outputs": [],
   "source": [
    "params = {\n",
    "    'iterations': 500,\n",
    "    'learning_rate': 0.1,\n",
    "    'eval_metric': 'Accuracy',\n",
    "    'random_seed': 42,\n",
    "    'logging_level': 'Silent',\n",
    "    'use_best_model': False\n",
    "}\n",
    "\n",
    "# feature/label/cat_features 한꺼번에 저장\n",
    "train_pool = Pool(X_train, y_train, cat_features=categorical_features_indices)\n",
    "validate_pool = Pool(X_validation, y_validation, cat_features=categorical_features_indices)"
   ]
  },
  {
   "cell_type": "markdown",
   "metadata": {},
   "source": [
    "### Best Model\n",
    "use_best_model을 사용해 training할 때 best_model의 parameter를 사용할 수 있습니다. "
   ]
  },
  {
   "cell_type": "code",
   "execution_count": 16,
   "metadata": {},
   "outputs": [
    {
     "name": "stdout",
     "output_type": "stream",
     "text": [
      "Simple model validation accuracy: 0.8027\n",
      "\n",
      "Best model validation accuracy: 0.8117\n"
     ]
    }
   ],
   "source": [
    "model = CatBoostClassifier(**params)\n",
    "model.fit(train_pool, eval_set=validate_pool)\n",
    "\n",
    "best_model_params = params.copy()\n",
    "best_model_params.update({\n",
    "    'use_best_model': True\n",
    "})\n",
    "best_model = CatBoostClassifier(**best_model_params)\n",
    "best_model.fit(train_pool, eval_set=validate_pool);\n",
    "\n",
    "print('Simple model validation accuracy: {:.4}'.format(\n",
    "    accuracy_score(y_validation, model.predict(X_validation))\n",
    "))\n",
    "print('')\n",
    "\n",
    "print('Best model validation accuracy: {:.4}'.format(\n",
    "    accuracy_score(y_validation, best_model.predict(X_validation))\n",
    "))"
   ]
  },
  {
   "cell_type": "markdown",
   "metadata": {},
   "source": [
    "use_best_model을 사용한 model이 그렇지 않은 model보다 accuracy가 약 0.1 높았습니다. "
   ]
  },
  {
   "cell_type": "markdown",
   "metadata": {},
   "source": [
    "### Early stopping\n",
    "학습 시간을 단축하기 위해 od_type과 od_wait을 사용하여 early stopping을 사용할 수 있습니다. early stop을 한 경우와 그렇지 않은 경우의 성능과 수행시간을 비교해보도록 하겠습니다. "
   ]
  },
  {
   "cell_type": "code",
   "execution_count": 17,
   "metadata": {},
   "outputs": [
    {
     "name": "stdout",
     "output_type": "stream",
     "text": [
      "Wall time: 7.85 s\n"
     ]
    },
    {
     "data": {
      "text/plain": [
       "<catboost.core.CatBoostClassifier at 0x17b02976ee0>"
      ]
     },
     "execution_count": 17,
     "metadata": {},
     "output_type": "execute_result"
    }
   ],
   "source": [
    "%%time\n",
    "model = CatBoostClassifier(**params)\n",
    "model.fit(train_pool, eval_set=validate_pool)"
   ]
  },
  {
   "cell_type": "code",
   "execution_count": 18,
   "metadata": {},
   "outputs": [
    {
     "name": "stdout",
     "output_type": "stream",
     "text": [
      "Wall time: 1.73 s\n"
     ]
    },
    {
     "data": {
      "text/plain": [
       "<catboost.core.CatBoostClassifier at 0x17b02d7c3a0>"
      ]
     },
     "execution_count": 18,
     "metadata": {},
     "output_type": "execute_result"
    }
   ],
   "source": [
    "%%time\n",
    "earlystop_params = params.copy()\n",
    "\n",
    "#iteration 최대 40번까지만 허용\n",
    "earlystop_params.update({\n",
    "    'od_type': 'Iter',\n",
    "    'od_wait': 40\n",
    "})\n",
    "earlystop_model = CatBoostClassifier(**earlystop_params)\n",
    "earlystop_model.fit(train_pool, eval_set=validate_pool);"
   ]
  },
  {
   "cell_type": "code",
   "execution_count": 19,
   "metadata": {},
   "outputs": [
    {
     "name": "stdout",
     "output_type": "stream",
     "text": [
      "Simple model tree count: 500\n",
      "Simple model validation accuracy: 0.8027\n",
      "\n",
      "Early-stopped model tree count: 118\n",
      "Early-stopped model validation accuracy: 0.7982\n"
     ]
    }
   ],
   "source": [
    "print('Simple model tree count: {}'.format(model.tree_count_))\n",
    "print('Simple model validation accuracy: {:.4}'.format(\n",
    "    accuracy_score(y_validation, model.predict(X_validation))\n",
    "))\n",
    "print('')\n",
    "\n",
    "print('Early-stopped model tree count: {}'.format(earlystop_model.tree_count_))\n",
    "print('Early-stopped model validation accuracy: {:.4}'.format(\n",
    "    accuracy_score(y_validation, earlystop_model.predict(X_validation))\n",
    "))"
   ]
  },
  {
   "cell_type": "markdown",
   "metadata": {},
   "source": [
    "simple model과 비교해 early-stopped model의 수행시간은 4배 정도 단축됐지만, accuracy는 0.1 이하로 떨어졌습니다. 따라서 성능에 큰 차이가 없을 정도로 학습하고, 어느 정도 후에 멈추는 것이 시간복잡도 측면에서 더 효율적이라고 할 수 있습니다. 또한 overffiting을 방지하기 위해서도 적절한 iteration후에 early stopping하도록 는 것이 바람직합니다."
   ]
  },
  {
   "cell_type": "markdown",
   "metadata": {},
   "source": [
    "### Baseline\n",
    "prediction_type = RawFormulaVal으로 설정해 training된 model을 사용해 다시 training시키는 것이 가능합니다."
   ]
  },
  {
   "cell_type": "code",
   "execution_count": 45,
   "metadata": {},
   "outputs": [],
   "source": [
    "current_params = params.copy()\n",
    "current_params.update({\n",
    "    'iterations': 10\n",
    "})\n",
    "model = CatBoostClassifier(**current_params).fit(X_train, y_train, categorical_features_indices)\n",
    "\n",
    "\n",
    "# pre-trained model\n",
    "baseline = model.predict(X_train, prediction_type='RawFormulaVal')\n",
    "\n",
    "# new model\n",
    "model.fit(X_train, y_train, categorical_features_indices, baseline=baseline);"
   ]
  },
  {
   "cell_type": "markdown",
   "metadata": {},
   "source": [
    "### Snapshot\n",
    "catboost는 snapshot을 제공하는데, 이를 통해 interruption 후에 다시 학습할 수도 있고 이전 결과로부터 다시 training을 시작할 수도 있습니다. 학습 시 save_snapshot=True로 설정해주어야 합니다."
   ]
  },
  {
   "cell_type": "code",
   "execution_count": 51,
   "metadata": {},
   "outputs": [
    {
     "name": "stdout",
     "output_type": "stream",
     "text": [
      "\n",
      "bestTest = 0.7668161435\n",
      "bestIteration = 1\n",
      "\n",
      "10:\tlearn: 0.8473054\ttest: 0.7533632\tbest: 0.7668161 (1)\ttotal: 39.2ms\tremaining: 24.3ms\n",
      "11:\tlearn: 0.8458084\ttest: 0.7533632\tbest: 0.7668161 (1)\ttotal: 44ms\tremaining: 16.3ms\n",
      "12:\tlearn: 0.8473054\ttest: 0.7578475\tbest: 0.7668161 (1)\ttotal: 45.3ms\tremaining: 8.11ms\n",
      "13:\tlearn: 0.8473054\ttest: 0.7578475\tbest: 0.7668161 (1)\ttotal: 46.4ms\tremaining: 3.33ms\n",
      "14:\tlearn: 0.8473054\ttest: 0.7578475\tbest: 0.7668161 (1)\ttotal: 48.5ms\tremaining: 0us\n",
      "\n",
      "bestTest = 0.7668161435\n",
      "bestIteration = 1\n",
      "\n"
     ]
    }
   ],
   "source": [
    "params_with_snapshot = params.copy()\n",
    "params_with_snapshot.update({\n",
    "    'iterations': 10,\n",
    "    'learning_rate': 0.5,\n",
    "    'logging_level': 'Verbose'\n",
    "})\n",
    "model = CatBoostClassifier(**params_with_snapshot).fit(train_pool, eval_set=validate_pool, save_snapshot=True)\n",
    "\n",
    "\n",
    "params_with_snapshot.update({\n",
    "    'iterations': 15,\n",
    "    'learning_rate': 0.1\n",
    "})\n",
    "model = CatBoostClassifier(**params_with_snapshot).fit(train_pool, eval_set=validate_pool, save_snapshot=True)"
   ]
  },
  {
   "cell_type": "markdown",
   "metadata": {},
   "source": [
    "iteration 9번 후에 다시 10번부터 5번 반복하는 것을 확인할 수 있습니다."
   ]
  },
  {
   "cell_type": "markdown",
   "metadata": {},
   "source": [
    "### User Defined Objective Function\n",
    "\n",
    "objective function을 사용자가 cumstomizing하는 것이 가능합니다. logloss function을 만들어보겠습니다."
   ]
  },
  {
   "cell_type": "code",
   "execution_count": 52,
   "metadata": {},
   "outputs": [],
   "source": [
    "class LoglossObjective(object):\n",
    "    def calc_ders_range(self, approxes, targets, weights):      \n",
    "        assert len(approxes) == len(targets)\n",
    "        if weights is not None:\n",
    "            assert len(weights) == len(approxes)\n",
    "        \n",
    "        result = []\n",
    "        for index in range(len(targets)):\n",
    "            e = np.exp(approxes[index])\n",
    "            p = e / (1 + e)\n",
    "            der1 = (1 - p) if targets[index] > 0.0 else -p\n",
    "            der2 = -p * (1 - p)\n",
    "\n",
    "            if weights is not None:\n",
    "                der1 *= weights[index]\n",
    "                der2 *= weights[index]\n",
    "\n",
    "            result.append((der1, der2))\n",
    "        return result"
   ]
  },
  {
   "cell_type": "code",
   "execution_count": 23,
   "metadata": {},
   "outputs": [
    {
     "name": "stdout",
     "output_type": "stream",
     "text": [
      "0:\tlearn: 0.6816993\ttotal: 12.9ms\tremaining: 116ms\n",
      "1:\tlearn: 0.6704449\ttotal: 25.5ms\tremaining: 102ms\n",
      "2:\tlearn: 0.6611746\ttotal: 34.5ms\tremaining: 80.6ms\n",
      "3:\tlearn: 0.6512890\ttotal: 49.7ms\tremaining: 74.5ms\n",
      "4:\tlearn: 0.6425075\ttotal: 60.5ms\tremaining: 60.5ms\n",
      "5:\tlearn: 0.6324326\ttotal: 70.1ms\tremaining: 46.7ms\n",
      "6:\tlearn: 0.6230280\ttotal: 79.8ms\tremaining: 34.2ms\n",
      "7:\tlearn: 0.6143051\ttotal: 89.9ms\tremaining: 22.5ms\n",
      "8:\tlearn: 0.6071459\ttotal: 101ms\tremaining: 11.2ms\n",
      "9:\tlearn: 0.5993086\ttotal: 110ms\tremaining: 0us\n"
     ]
    }
   ],
   "source": [
    "model = CatBoostClassifier(\n",
    "    iterations=10,\n",
    "    random_seed=42, \n",
    "    loss_function=LoglossObjective(), \n",
    "    eval_metric=\"Logloss\"\n",
    ")\n",
    "\n",
    "# Fit model\n",
    "model.fit(train_pool)\n",
    "\n",
    "# custom `loss_function`을 사용하면 prediction_type='RawFormulaVal'만 설정할 수 있다. \n",
    "preds_raw = model.predict(X_test, prediction_type='RawFormulaVal')"
   ]
  },
  {
   "cell_type": "markdown",
   "metadata": {},
   "source": [
    "### User Defined Metric Function\n",
    "\n",
    "metric 또한 사용자가 정의해줄 수 있습니다."
   ]
  },
  {
   "cell_type": "code",
   "execution_count": 24,
   "metadata": {},
   "outputs": [],
   "source": [
    "class LoglossMetric(object):\n",
    "    def get_final_error(self, error, weight):\n",
    "        return error / (weight + 1e-38)\n",
    "\n",
    "    def is_max_optimal(self):\n",
    "        return False\n",
    "\n",
    "    def evaluate(self, approxes, target, weight):\n",
    "       \n",
    "        assert len(approxes) == 1\n",
    "        assert len(target) == len(approxes[0])\n",
    "\n",
    "        approx = approxes[0]\n",
    "\n",
    "        error_sum = 0.0\n",
    "        weight_sum = 0.0\n",
    "\n",
    "        for i in range(len(approx)):\n",
    "            w = 1.0 if weight is None else weight[i]\n",
    "            weight_sum += w\n",
    "            error_sum += -w * (target[i] * approx[i] - np.log(1 + np.exp(approx[i])))\n",
    "\n",
    "        return error_sum, weight_sum"
   ]
  },
  {
   "cell_type": "code",
   "execution_count": 25,
   "metadata": {},
   "outputs": [
    {
     "name": "stdout",
     "output_type": "stream",
     "text": [
      "Learning rate set to 0.5\n",
      "0:\tlearn: 0.5404506\ttotal: 6.56ms\tremaining: 59.1ms\n",
      "1:\tlearn: 0.4718844\ttotal: 14.1ms\tremaining: 56.4ms\n",
      "2:\tlearn: 0.4468731\ttotal: 19.5ms\tremaining: 45.4ms\n",
      "3:\tlearn: 0.4299629\ttotal: 23.4ms\tremaining: 35.1ms\n",
      "4:\tlearn: 0.4099561\ttotal: 28.1ms\tremaining: 28.1ms\n",
      "5:\tlearn: 0.4007550\ttotal: 35ms\tremaining: 23.3ms\n",
      "6:\tlearn: 0.3910768\ttotal: 39.2ms\tremaining: 16.8ms\n",
      "7:\tlearn: 0.3796317\ttotal: 42.7ms\tremaining: 10.7ms\n",
      "8:\tlearn: 0.3750199\ttotal: 48.4ms\tremaining: 5.38ms\n",
      "9:\tlearn: 0.3715420\ttotal: 53.9ms\tremaining: 0us\n"
     ]
    }
   ],
   "source": [
    "model = CatBoostClassifier(\n",
    "    iterations=10,\n",
    "    random_seed=42, \n",
    "    loss_function=\"Logloss\",\n",
    "    eval_metric=LoglossMetric()\n",
    ")\n",
    "\n",
    "model.fit(train_pool)\n",
    "preds_raw = model.predict(X_test, prediction_type='RawFormulaVal')"
   ]
  },
  {
   "cell_type": "markdown",
   "metadata": {},
   "source": [
    "### Staged Predict\n",
    "catboost는 staged_predict method를 제공합니다. 이 methood를 사용해 prediction에 사용될 tree의 범위를 지정해줄 수 있습니다. \n",
    "CatBoost model has `staged_predict` method. It allows you to iteratively get predictions for a given range of trees."
   ]
  },
  {
   "cell_type": "code",
   "execution_count": 26,
   "metadata": {},
   "outputs": [
    {
     "name": "stdout",
     "output_type": "stream",
     "text": [
      "First class probabilities using the first 3 trees: [0.48257516 0.39585845 0.37611297 0.54042906 0.48257516]\n",
      "First class probabilities using the first 5 trees: [0.46204618 0.3833052  0.35698827 0.61880357 0.46204618]\n",
      "First class probabilities using the first 7 trees: [0.44704572 0.37983824 0.34322245 0.65681876 0.44704572]\n"
     ]
    }
   ],
   "source": [
    "model = CatBoostClassifier(iterations=10, random_seed=42, logging_level='Silent').fit(train_pool)\n",
    "ntree_start, ntree_end, eval_period = 3, 9, 2\n",
    "predictions_iterator = model.staged_predict(validate_pool, 'Probability', ntree_start, ntree_end, eval_period)\n",
    "for preds, tree_count in zip(predictions_iterator, range(ntree_start, ntree_end, eval_period)):\n",
    "    print('First class probabilities using the first {} trees: {}'.format(tree_count, preds[:5, 1]))"
   ]
  },
  {
   "cell_type": "markdown",
   "metadata": {},
   "source": [
    "### Feature Importances\n",
    "\n",
    "적합된 model에서 각 feature가 target에 영향을 미치는 정도를 get_feature_importance method를 사용해 구할 수 있습니다."
   ]
  },
  {
   "cell_type": "code",
   "execution_count": 27,
   "metadata": {},
   "outputs": [
    {
     "name": "stdout",
     "output_type": "stream",
     "text": [
      "Sex: 52.362643977926105\n",
      "Pclass: 12.093354944343053\n",
      "Ticket: 11.604122897539481\n",
      "Age: 5.480820099799359\n",
      "Parch: 4.882169523307244\n",
      "SibSp: 4.179223814317337\n",
      "Fare: 3.4140458603213086\n",
      "Cabin: 3.024290925389097\n",
      "Embarked: 2.959327957057029\n",
      "PassengerId: 0.0\n",
      "Name: 0.0\n"
     ]
    }
   ],
   "source": [
    "model = CatBoostClassifier(iterations=50, random_seed=42, logging_level='Silent').fit(train_pool)\n",
    "feature_importances = model.get_feature_importance(train_pool)\n",
    "feature_names = X_train.columns\n",
    "for score, name in sorted(zip(feature_importances, feature_names), reverse=True):\n",
    "    print('{}: {}'.format(name, score))"
   ]
  },
  {
   "cell_type": "markdown",
   "metadata": {},
   "source": [
    "위의 결과를 통해 sex, pclass, ticket 순으로 target에 영향을 크게 미치고 있음을 확인할 수 있습니다."
   ]
  },
  {
   "cell_type": "markdown",
   "metadata": {},
   "source": [
    "### Eval Metrics\n",
    "\n",
    "다음으로 eval_metrics이라는 method를 사용해 주어진 metric에 대한 값을 계산할 수 있습니다. "
   ]
  },
  {
   "cell_type": "code",
   "execution_count": 80,
   "metadata": {},
   "outputs": [],
   "source": [
    "model = CatBoostClassifier(iterations=50, random_seed=42, logging_level='Silent').fit(train_pool)\n",
    "eval_metrics = model.eval_metrics(validate_pool, ['AUC'], plot=False)"
   ]
  },
  {
   "cell_type": "code",
   "execution_count": 81,
   "metadata": {},
   "outputs": [
    {
     "name": "stdout",
     "output_type": "stream",
     "text": [
      "[0.8264604810996563, 0.830387825233186, 0.8179921453117329, 0.8131647848142693, 0.8157830142366225, 0.8129193258059237]\n"
     ]
    }
   ],
   "source": [
    "print(eval_metrics['AUC'][:6])"
   ]
  },
  {
   "cell_type": "markdown",
   "metadata": {},
   "source": [
    "### Learning Processes Comparison\n",
    "\n",
    "서로 다른 model에 대해 learning process를 하나의 plot에 비교할 수도 있습니다."
   ]
  },
  {
   "cell_type": "code",
   "execution_count": 82,
   "metadata": {},
   "outputs": [],
   "source": [
    "model1 = CatBoostClassifier(iterations=10, depth=1, train_dir='model_depth_1/', logging_level='Silent')\n",
    "model1.fit(train_pool, eval_set=validate_pool)\n",
    "model2 = CatBoostClassifier(iterations=10, depth=5, train_dir='model_depth_5/', logging_level='Silent')\n",
    "model2.fit(train_pool, eval_set=validate_pool);"
   ]
  },
  {
   "cell_type": "code",
   "execution_count": 84,
   "metadata": {
    "scrolled": false
   },
   "outputs": [],
   "source": [
    "from catboost import MetricVisualizer\n",
    "#widget = MetricVisualizer(['model_depth_1', 'model_depth_5'])\n",
    "#widget.start()"
   ]
  },
  {
   "cell_type": "markdown",
   "metadata": {},
   "source": [
    "### Model Saving\n",
    "\n",
    "학습을 마친 model은 save_model로 저장할 수 있습니다. load_model로 읽어와 다시 사용할 수 있습니다. "
   ]
  },
  {
   "cell_type": "code",
   "execution_count": 32,
   "metadata": {},
   "outputs": [],
   "source": [
    "model = CatBoostClassifier(iterations=10, random_seed=42, logging_level='Silent').fit(train_pool)\n",
    "model.save_model('catboost_model.dump')\n",
    "model = CatBoostClassifier()\n",
    "model.load_model('catboost_model.dump');"
   ]
  },
  {
   "cell_type": "markdown",
   "metadata": {},
   "source": [
    "# 3. Parameters Tuning\n",
    "\n",
    "hyperopt package를 사용해서 l2_leaf_reg, learning_rate 등의 hyperparameter들을 optimization해보도록 하겠습니다. "
   ]
  },
  {
   "cell_type": "code",
   "execution_count": 55,
   "metadata": {},
   "outputs": [],
   "source": [
    "#!pip install hyperopt"
   ]
  },
  {
   "cell_type": "markdown",
   "metadata": {},
   "source": [
    "다음과 같이, tuning해줄 parameter에 대해서만 params로 지정할 수 있게 설정할 수 있습니다. best parameter를 고르는 기준은 cross-validation을 통해 accuracy 기준으로 선택하도록 하겠습니다. "
   ]
  },
  {
   "cell_type": "code",
   "execution_count": 34,
   "metadata": {},
   "outputs": [],
   "source": [
    "import hyperopt\n",
    "\n",
    "def hyperopt_objective(params):\n",
    "    model = CatBoostClassifier(\n",
    "        l2_leaf_reg=int(params['l2_leaf_reg']),\n",
    "        learning_rate=params['learning_rate'],\n",
    "        iterations=500,\n",
    "        eval_metric='Accuracy',\n",
    "        random_seed=42,\n",
    "        verbose=False,\n",
    "        loss_function='Logloss',\n",
    "    )\n",
    "    \n",
    "    cv_data = cv(\n",
    "        Pool(X, y, cat_features=categorical_features_indices),\n",
    "        model.get_params()\n",
    "    )\n",
    "    best_accuracy = np.max(cv_data['test-Accuracy-mean'])\n",
    "    \n",
    "    return 1 - best_accuracy # as hyperopt minimises"
   ]
  },
  {
   "cell_type": "code",
   "execution_count": 35,
   "metadata": {},
   "outputs": [
    {
     "name": "stdout",
     "output_type": "stream",
     "text": [
      "100%|████████████████████████████████████████████████| 50/50 [34:46<00:00, 41.73s/trial, best loss: 0.1661054994388328]\n",
      "{'l2_leaf_reg': 1.0, 'learning_rate': 0.030276027601240763}\n"
     ]
    }
   ],
   "source": [
    "from numpy.random import RandomState\n",
    "\n",
    "params_space = {\n",
    "    'l2_leaf_reg': hyperopt.hp.qloguniform('l2_leaf_reg', 0, 2, 1),\n",
    "    'learning_rate': hyperopt.hp.uniform('learning_rate', 1e-3, 5e-1),\n",
    "}\n",
    "\n",
    "trials = hyperopt.Trials()\n",
    "\n",
    "best = hyperopt.fmin(\n",
    "    hyperopt_objective,\n",
    "    space=params_space,\n",
    "    algo=hyperopt.tpe.suggest,\n",
    "    max_evals=50,\n",
    "    trials=trials,\n",
    "    rstate=RandomState(123)\n",
    ")\n",
    "\n",
    "print(best)"
   ]
  },
  {
   "cell_type": "markdown",
   "metadata": {},
   "source": [
    "{'l2_leaf_reg': 1.0, 'learning_rate': 0.030276027601240763}가 optimal parameter로 얻어졌습니다. 이들로 다시 model을 학습해보겠습니다."
   ]
  },
  {
   "cell_type": "code",
   "execution_count": 36,
   "metadata": {},
   "outputs": [],
   "source": [
    "model = CatBoostClassifier(\n",
    "    l2_leaf_reg=int(best['l2_leaf_reg']),\n",
    "    learning_rate=best['learning_rate'],\n",
    "    iterations=500,\n",
    "    eval_metric='Accuracy',\n",
    "    random_seed=42,\n",
    "    verbose=False,\n",
    "    loss_function='Logloss',\n",
    ")\n",
    "cv_data = cv(Pool(X, y, cat_features=categorical_features_indices), model.get_params())"
   ]
  },
  {
   "cell_type": "code",
   "execution_count": 37,
   "metadata": {},
   "outputs": [
    {
     "name": "stdout",
     "output_type": "stream",
     "text": [
      "Precise validation accuracy score: 0.8338945005611672\n"
     ]
    }
   ],
   "source": [
    "print('Precise validation accuracy score: {}'.format(np.max(cv_data['test-Accuracy-mean'])))"
   ]
  },
  {
   "cell_type": "markdown",
   "metadata": {},
   "source": [
    "hyperparameter를 tuning하기 전 accuracy는 약 0.82였는데, tuning 후 0.01이상 증가한 것을 볼 수 있습니다. "
   ]
  },
  {
   "cell_type": "markdown",
   "metadata": {},
   "source": [
    "### Make submission\n",
    "\n",
    "위에서 validation set에 의해 선택된 parameter들을 사용해 전체 train data에 대해 학습시키고, test에 대해 예측해보도록 하겠습니다."
   ]
  },
  {
   "cell_type": "code",
   "execution_count": 60,
   "metadata": {},
   "outputs": [
    {
     "data": {
      "text/plain": [
       "<catboost.core.CatBoostClassifier at 0x17b026410a0>"
      ]
     },
     "execution_count": 60,
     "metadata": {},
     "output_type": "execute_result"
    }
   ],
   "source": [
    "model = CatBoostClassifier(\n",
    "    l2_leaf_reg=int(best['l2_leaf_reg']),\n",
    "    learning_rate=best['learning_rate'],\n",
    "    iterations=500,\n",
    "    eval_metric='Accuracy',\n",
    "    random_seed=42,\n",
    "    verbose=False,\n",
    "    loss_function='Logloss',\n",
    ")\n",
    "\n",
    "model.fit(X, y, cat_features=categorical_features_indices)"
   ]
  },
  {
   "cell_type": "code",
   "execution_count": 66,
   "metadata": {},
   "outputs": [],
   "source": [
    "import pandas as pd\n",
    "prediction = pd.DataFrame()\n",
    "prediction['PassengerId'] = X_test['PassengerId']\n",
    "prediction['Survived'] = model.predict(X_test)"
   ]
  },
  {
   "cell_type": "code",
   "execution_count": 68,
   "metadata": {},
   "outputs": [
    {
     "data": {
      "text/html": [
       "<div>\n",
       "<style scoped>\n",
       "    .dataframe tbody tr th:only-of-type {\n",
       "        vertical-align: middle;\n",
       "    }\n",
       "\n",
       "    .dataframe tbody tr th {\n",
       "        vertical-align: top;\n",
       "    }\n",
       "\n",
       "    .dataframe thead th {\n",
       "        text-align: right;\n",
       "    }\n",
       "</style>\n",
       "<table border=\"1\" class=\"dataframe\">\n",
       "  <thead>\n",
       "    <tr style=\"text-align: right;\">\n",
       "      <th></th>\n",
       "      <th>PassengerId</th>\n",
       "      <th>Survived</th>\n",
       "    </tr>\n",
       "  </thead>\n",
       "  <tbody>\n",
       "    <tr>\n",
       "      <th>0</th>\n",
       "      <td>892</td>\n",
       "      <td>0</td>\n",
       "    </tr>\n",
       "    <tr>\n",
       "      <th>1</th>\n",
       "      <td>893</td>\n",
       "      <td>0</td>\n",
       "    </tr>\n",
       "    <tr>\n",
       "      <th>2</th>\n",
       "      <td>894</td>\n",
       "      <td>0</td>\n",
       "    </tr>\n",
       "    <tr>\n",
       "      <th>3</th>\n",
       "      <td>895</td>\n",
       "      <td>0</td>\n",
       "    </tr>\n",
       "    <tr>\n",
       "      <th>4</th>\n",
       "      <td>896</td>\n",
       "      <td>1</td>\n",
       "    </tr>\n",
       "    <tr>\n",
       "      <th>...</th>\n",
       "      <td>...</td>\n",
       "      <td>...</td>\n",
       "    </tr>\n",
       "    <tr>\n",
       "      <th>413</th>\n",
       "      <td>1305</td>\n",
       "      <td>0</td>\n",
       "    </tr>\n",
       "    <tr>\n",
       "      <th>414</th>\n",
       "      <td>1306</td>\n",
       "      <td>1</td>\n",
       "    </tr>\n",
       "    <tr>\n",
       "      <th>415</th>\n",
       "      <td>1307</td>\n",
       "      <td>0</td>\n",
       "    </tr>\n",
       "    <tr>\n",
       "      <th>416</th>\n",
       "      <td>1308</td>\n",
       "      <td>0</td>\n",
       "    </tr>\n",
       "    <tr>\n",
       "      <th>417</th>\n",
       "      <td>1309</td>\n",
       "      <td>1</td>\n",
       "    </tr>\n",
       "  </tbody>\n",
       "</table>\n",
       "<p>418 rows × 2 columns</p>\n",
       "</div>"
      ],
      "text/plain": [
       "     PassengerId  Survived\n",
       "0            892         0\n",
       "1            893         0\n",
       "2            894         0\n",
       "3            895         0\n",
       "4            896         1\n",
       "..           ...       ...\n",
       "413         1305         0\n",
       "414         1306         1\n",
       "415         1307         0\n",
       "416         1308         0\n",
       "417         1309         1\n",
       "\n",
       "[418 rows x 2 columns]"
      ]
     },
     "execution_count": 68,
     "metadata": {},
     "output_type": "execute_result"
    }
   ],
   "source": [
    "prediction"
   ]
  },
  {
   "cell_type": "code",
   "execution_count": null,
   "metadata": {},
   "outputs": [],
   "source": []
  }
 ],
 "metadata": {
  "kernelspec": {
   "display_name": "Python 3",
   "language": "python",
   "name": "python3"
  },
  "language_info": {
   "codemirror_mode": {
    "name": "ipython",
    "version": 3
   },
   "file_extension": ".py",
   "mimetype": "text/x-python",
   "name": "python",
   "nbconvert_exporter": "python",
   "pygments_lexer": "ipython3",
   "version": "3.8.5"
  },
  "widgets": {
   "state": {
    "c26d03b66add4e078d26695cab837033": {
     "views": [
      {
       "cell_index": 21
      }
     ]
    }
   },
   "version": "1.2.0"
  }
 },
 "nbformat": 4,
 "nbformat_minor": 2
}
